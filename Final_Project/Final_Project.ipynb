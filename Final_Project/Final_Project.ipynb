{
 "cells": [
  {
   "cell_type": "markdown",
   "metadata": {},
   "source": [
    "# Final Project (70 points)\n",
    "\n",
    "Name: \n",
    "\n",
    "Due date: December 10th 2015\n",
    "\n",
    "Even though a running code is essential to obtain credit for each question, you will need to answer some theoretical questions. In order to be obtain full credit you will need to be clear and concise."
   ]
  },
  {
   "cell_type": "markdown",
   "metadata": {},
   "source": [
    "The aim of this project is to use what have you learn in class to solve the Poisson's equation with homegeneous Dirichelet boundary conditions. <br>\n",
    "\n",
    "Let $\\Omega = [0,1]^2$, we define the Poisson's equation with homogeneous Dirichlet boundary conditions as\n",
    "\n",
    "\\begin{eqnarray}\n",
    "(\\partial_{xx} + \\partial_{yy}) u &=& f, \\qquad \\mbox{in } \\Omega, \\\\\n",
    " u|_{\\partial \\Omega} &=& 0.\n",
    "\\end{eqnarray}"
   ]
  },
  {
   "cell_type": "markdown",
   "metadata": {},
   "source": [
    "## Question 1 (40 points)\n",
    "\n",
    "We will start by solving this problem in 1D, and we will use a kronecker product to extend the discretization to 2D"
   ]
  },
  {
   "cell_type": "markdown",
   "metadata": {},
   "source": [
    "In 1D the Poisson equation is given by \n",
    "\n",
    "\\begin{equation}\n",
    "\\frac{d^2}{dx^2} u(x) = f(x).\n",
    "\\end{equation}\n",
    "\n",
    "We discretize the domain $[0,1]$ with $n+2$ points, such that $h = 1/(n+1)$ and we define \n",
    "$x_i = ih$. Using this notation we have that $x_0 = 0$ and $x_{n+1} = 1$.\n",
    "\n",
    "We use finite differences to discretize the differential operator acting on $u$ at a point $x_i$ as\n",
    "\n",
    "\\begin{equation}\n",
    "\\frac{d^2}{dx^2} u(x_i) \\approx \\frac{ u(x_{i+1}) - 2u(x_{i}) + u(x_{i-1}) }{h^2}  = f(x_i).\n",
    "\\end{equation}\n",
    "\n",
    "If we define the vectors $\\mathbf{u}$ and $\\mathbf{b}$ by $\\mathbf{u}_i = u(x_i)$ and $\\mathbf{f}_i = f(x_i)$. We can define a discrete system in the form :\n",
    "\\begin{equation}\n",
    "\\frac{ \\mathbf{u}_{i+1} - 2\\mathbf{u}_{i} + \\mathbf{u}_{i-1} }{h^2}  = \\mathbf{f}_{i}, \\qquad \\mbox{for } i=1,..., n;\n",
    "\\end{equation}\n",
    "plus the additional boundary conditions \n",
    "\\begin{eqnarray}\n",
    "\\mathbf{u}_{0} &=& 0, \\\\\n",
    "\\mathbf{u}_{n+1} &=& 0.\n",
    "\\end{eqnarray}\n",
    "\n",
    "This leads to the Matrix system given by \n",
    "\\begin{equation}\n",
    "\\mathbf{A} \\mathbf{u} = \\mathbf{f},\n",
    "\\end{equation}\n",
    "where \n",
    "\\begin{equation}\n",
    "\\mathbf{A} = \\frac{1}{h^2}\\left [  \\begin{array}{ccccc}\n",
    "         -2 & 1 & 0 & \\dots &\\dots  &0 \\\\\n",
    "         1  & -2 & 1 & 0 & \\dots    &0 \\\\\n",
    "         0  &  1  & -2 & 1 & 0   &0 \\\\\n",
    "          0  &  0  & \\ddots & \\ddots & \\ddots   &0 \\\\\n",
    "          0&  0&  0  &  1  & -2 & 1 \\\\\n",
    "         0& 0& \\dots & 0  &  1  & -2 \\\\\n",
    "         \\end{array}\n",
    "\\right ].\n",
    "\\end{equation}\n",
    "\n",
    "Given the $\\mathbf{u}_{0}$ and $\\mathbf{u}_{n+1}$ we used that knowledge to build $\\mathbf{A}$, so we need to solve only for the $n$ interior deegres of freedom.\n"
   ]
  },
  {
   "cell_type": "markdown",
   "metadata": {},
   "source": [
    "Q1.a Write a function that assembles the $n\\times n$ matrix $\\mathbf{A}$ described above. <br>\n",
    "The input of your function will be $n$, and the ouput will be a sparse matrix $\\mathbf{A}$.\n",
    "How much storage stage we need to store $\\mathbf{A}$ with respect to $n$?(you can use $\\mathcal{O}$ notation) \n",
    "\n",
    "Hints: \n",
    "- you can use spdiagm(v,d) to build diagonal sparse matrices. You create a diagonal matrix that has v in its d-th diagonal. Remember that $d=0$ is the main diagonal, $d>0$ represent the upper diagonals and $d<0$.\n",
    "- You can build $\\mathbf{A}$ as a sum of three diagonal sparse matrices. \n"
   ]
  },
  {
   "cell_type": "code",
   "execution_count": null,
   "metadata": {
    "collapsed": true
   },
   "outputs": [],
   "source": [
    "function stiffnessMatrix1D(n)\n",
    "    h = 1/(n+1)\n",
    "    e = ones(n)/(h^2)\n",
    "    A = spdiagm(-2*e,0);\n",
    "    A += spdiagm(e[1:end-1],-1);\n",
    "    A += spdiagm(e[1:end-1], 1);\n",
    "    return A\n",
    "end\n"
   ]
  },
  {
   "cell_type": "markdown",
   "metadata": {},
   "source": [
    "Q1.b Write a function that for any function $f$, it outputs the $n\\times 1$ vector $\\mathbf{f}$, where $\\mathbf{f}_i = f(x_i)$. \n",
    "\n",
    "The inputs of your function are\n",
    "- $f$ a function handle\n",
    "- $n$ the number of interior points in your domain."
   ]
  },
  {
   "cell_type": "code",
   "execution_count": 3,
   "metadata": {
    "collapsed": false
   },
   "outputs": [
    {
     "data": {
      "text/plain": [
       "formRHS (generic function with 1 method)"
      ]
     },
     "execution_count": 3,
     "metadata": {},
     "output_type": "execute_result"
    }
   ],
   "source": [
    "function formRHS(f,n)\n",
    "    h = 1/(n+1)\n",
    "    x = collect(h:h:1-h)\n",
    "    return f(x)\n",
    "end"
   ]
  },
  {
   "cell_type": "markdown",
   "metadata": {},
   "source": [
    "Q1c Write a function that implements a diagonal solve. I.e. that it solves the system $\\mathbf{D} \\mathbf{x} = \\mathbf{b}$ when $\\mathbf{D}$ is diagonal. Moreover, you will implement a backward and forward solves. \n",
    "\n",
    "Your function needs to work when the input $\\mathbf{D}$, $\\mathbf{U}$, $\\mathbf{L}$ are sparse or dense matrices. "
   ]
  },
  {
   "cell_type": "code",
   "execution_count": null,
   "metadata": {
    "collapsed": true
   },
   "outputs": [],
   "source": [
    "# write your triangular solver here\n",
    "function backwardSubstitution(U,b)\n",
    "    # input:    U upper triangular matrix \n",
    "    #           b vector\n",
    "    # output:   x = U\\b\n",
    "    \n",
    "    \n",
    "    return x\n",
    "end"
   ]
  },
  {
   "cell_type": "code",
   "execution_count": null,
   "metadata": {
    "collapsed": true
   },
   "outputs": [],
   "source": [
    "# write your triangular solver here\n",
    "function forwardSubstitution(L,b)\n",
    "    # input:    L lower triangular matrix \n",
    "    #           b vector\n",
    "    # output:   x = L\\b\n",
    "\n",
    "    return x\n",
    "end"
   ]
  },
  {
   "cell_type": "code",
   "execution_count": null,
   "metadata": {
    "collapsed": true
   },
   "outputs": [],
   "source": [
    "# write your triangular solver here\n",
    "function diagonalSubstitution(D,b)\n",
    "    # input:    D is a diagonal matrix \n",
    "    #           b vector\n",
    "    # output:   x = L\\b\n",
    "\n",
    "    return x\n",
    "end"
   ]
  },
  {
   "cell_type": "markdown",
   "metadata": {},
   "source": [
    "Q1.d You will implement the Jacobi, Gauss-Seidel and SOR methods and you will use them to solve the system $\\mathbf{A}\\mathbf{x} = \\mathbf{b}$. \n",
    "Each function will take as inputs \n",
    "- $A$ a square matrix,\n",
    "- $b$ a vector <br>\n",
    "\n",
    "Your function will have the following optional parameters\n",
    "- $Nmax$ maximum number of iterations, by default set to 30\n",
    "- $\\epsilon$ the tolerance, by default set to 1e-6\n",
    "- history this is a boolean to return all the succesive approximations <br> \n",
    "\n",
    "You are not allowed to use the backslash operator \"\\\", instead you will use the diagonal, and triangular solves you just implemented.\n",
    "\n",
    "The ouput of your function is the final approximation $x$ of your vector, in the case that history is true, it will output a matrix with the all the intermediate approximations of size $ n \\times \\mbox{number of iterations to converge}$.\n",
    "\n",
    "Your function will raise an error if it didn't converge in the $Nmax$ iterations."
   ]
  },
  {
   "cell_type": "code",
   "execution_count": null,
   "metadata": {
    "collapsed": true
   },
   "outputs": [],
   "source": [
    "# Implement Jacobi\n",
    "function JacobiIt(A,b; Nmax = 30, ϵ=1e-6, history = false)\n",
    "    \n",
    "end"
   ]
  },
  {
   "cell_type": "code",
   "execution_count": null,
   "metadata": {
    "collapsed": true
   },
   "outputs": [],
   "source": [
    "# Implement Gauss-Seidel\n",
    "function GaussSeidelIt(A,b; Nmax = 30, ϵ=1e-6, history = false)\n",
    "    \n",
    "end"
   ]
  },
  {
   "cell_type": "code",
   "execution_count": null,
   "metadata": {
    "collapsed": true
   },
   "outputs": [],
   "source": [
    "# Implement SOR\n",
    "function SORIt(A,b; Nmax = 30, ϵ=1e-6, history = false)\n",
    "    \n",
    "end"
   ]
  },
  {
   "cell_type": "markdown",
   "metadata": {},
   "source": [
    "Q1.e You will use your iterative solvers to solve $\\mathbf{A}\\mathbf{u} = \\mathbf{f}$, for $n = 100, 200, 400$, and you will answer:\n",
    "\n",
    "- Do they all converge? why? (you need to rigourously show why)\n",
    "- Which method converges faster and why? \n",
    "- How does the number of iterations depend on $n$? \n",
    "- What would be the complexity, with respect to $n$, of each the method in this case? (remember that you are using sparse matrices to perform most of the operations so you need to be careful when counting the number of operations)\n",
    "\n",
    "Hint: you may need to compute the spectral radius of the iterations matrices in this case (for this question only, you can use \"\\\"), if you compute the spectral radius to answer the question, you need to specify how is the spectral radius related to the speed of convergence."
   ]
  },
  {
   "cell_type": "code",
   "execution_count": null,
   "metadata": {
    "collapsed": true
   },
   "outputs": [],
   "source": []
  },
  {
   "cell_type": "code",
   "execution_count": null,
   "metadata": {
    "collapsed": true
   },
   "outputs": [],
   "source": [
    "# write your scripts in here "
   ]
  },
  {
   "cell_type": "markdown",
   "metadata": {},
   "source": [
    "Answer: "
   ]
  },
  {
   "cell_type": "markdown",
   "metadata": {},
   "source": [
    "Q1.f In this questions you use the built-in lu factorization algorithm (suign UMFPACK) to solve your system. What is the complexity of the algorithm, with respect to n, for solving $\\mathbf{A}\\mathbf{u} = \\mathbf{f}$ and why? You need to provide evidence of your complexity claim. \n",
    "\n",
    "Hint: you may need to take a look at the sparsity of the LU factors. When you perform the LU factorization of a matrix like $\\mathbf{A}$ are you introducing any non-zeros? "
   ]
  },
  {
   "cell_type": "code",
   "execution_count": null,
   "metadata": {
    "collapsed": true
   },
   "outputs": [],
   "source": []
  },
  {
   "cell_type": "markdown",
   "metadata": {},
   "source": [
    "# Question 2 (30 points)\n",
    "\n",
    "Now that you have defined everything for the 1D case, you can use the same "
   ]
  },
  {
   "cell_type": "markdown",
   "metadata": {},
   "source": [
    "write down the discretization in here\n",
    "\\begin{equation}\n",
    "\\partial_{xx} u(x_{i,j}) \\approx \\frac{ u(x_{i+1,j}) - 2u(x_{i,j}) + u(x_{i-1,j}) }{h^2} \n",
    "\\end{equation}\n",
    "\\begin{equation}\n",
    "\\partial_{yy} u(x_{i,j}) \\approx \\frac{ u(x_{i,j+1}) - 2u(x_{i,j}) + u(x_{i,j-1}) }{h^2} \n",
    "\\end{equation}\n",
    "\n",
    "We define $\\mathbf{u}_{i,j} = u(x_{i,j})$\n",
    "\n",
    "In this case the system is slightly more complicated, and is given by \n",
    "\\begin{equation}\n",
    "\\frac{ \\mathbf{u}_{i+1,j} +  \\mathbf{u}_{i,j+1} - 4\\mathbf{u}_{i} + \\mathbf{u}_{i-1,j} + \\mathbf{u}_{i,j-1}  }{h^2}  = \\mathbf{f}_{i,j}, \\qquad \\mbox{for } i,j=1,..., n;\n",
    "\\end{equation}\n",
    "plus the boundary conditions \n",
    "\\begin{eqnarray}\n",
    "\\mathbf{u}_{i,0} &=& 0, \\qquad \\mbox{for } i = 0,..,n+1  \\\\\n",
    "\\mathbf{u}_{i,n+1} &=& 0, \\qquad\\mbox{for } i = 0,..,n+1  \\\\\n",
    "\\mathbf{u}_{0,j} &=& 0, \\qquad \\mbox{for } j = 0,..,n+1  \\\\\n",
    "\\mathbf{u}_{n+1,j} &=& 0, \\qquad \\mbox{for } j = 0,..,n+1 \n",
    "\\end{eqnarray}\n",
    "\n",
    "or in compact form \n",
    "\\begin{equation}\n",
    "\\mathbf{S}\\mathbf{u}  = \\mathbf{f}\n",
    "\\end{equation}"
   ]
  },
  {
   "cell_type": "markdown",
   "metadata": {},
   "source": [
    "Q2.a Using the stiffnessMatrix1D and the kron function in julia, write the 2D discretization of the system. \n",
    "\n",
    "remember that \n",
    "\\begin{equation}\n",
    "\\triangle = \\partial_{xx} \\oplus I + I \\oplus \\partial_{yy}\n",
    "\\end{equation}\n",
    "where $\\oplus$ is a kronecker product.\n",
    "\n",
    "Or in this case\n",
    "\\begin{equation}\n",
    "S = A \\oplus I_n + I_n \\oplus A\n",
    "\\end{equation}\n",
    "where "
   ]
  },
  {
   "cell_type": "code",
   "execution_count": 4,
   "metadata": {
    "collapsed": false
   },
   "outputs": [
    {
     "data": {
      "text/plain": [
       "stiffnessMatrix2D (generic function with 1 method)"
      ]
     },
     "execution_count": 4,
     "metadata": {},
     "output_type": "execute_result"
    }
   ],
   "source": [
    "function stiffnessMatrix2D(n)\n",
    "    \n",
    "end"
   ]
  },
  {
   "cell_type": "markdown",
   "metadata": {},
   "source": [
    "Q2.b Write a function that forms the rhs for the 2D case. In this case the ordering is important In particular you so you will form a matrix $n \\times n$ $F$ such that $\\mathbf{F}_{i,j} = f(\\mathbf{x}_{i,j}) = f(ih,jh)$. Then you will return the vectorized form of $F$ using [:].\n",
    "\n",
    "The input of you function will be \n",
    "- n, the number of interior points per dimension (in this case $N = n^2$)\n",
    "- f, a function handle that accepts two inputs $f(x_i,y_j)$"
   ]
  },
  {
   "cell_type": "code",
   "execution_count": null,
   "metadata": {
    "collapsed": true
   },
   "outputs": [],
   "source": [
    "function formRHS2D(f,n)\n",
    "    \n",
    "end"
   ]
  },
  {
   "cell_type": "markdown",
   "metadata": {},
   "source": [
    "Q1.c You will use your iterative solvers to solve $\\mathbf{S}\\mathbf{u} = \\mathbf{f}$, for $n = 100, 200, 400$, and you will answer:\n",
    "\n",
    "- Do they all converge? why? (you need to rigourously show why)\n",
    "- Which method converges faster and why? \n",
    "- How does the number of iterations depend on $N$? \n",
    "- What would be the complexity, with respect to $N$, of each the method in this case?\n",
    "\n",
    "Hint: you may need to compute the spectral radius of the iterations matrices in this case (for this question only, you can use \"\\\"), if you compute the spectral radius to answer the question, you need to specify how is the spectral radius related to the speed of convergence."
   ]
  },
  {
   "cell_type": "code",
   "execution_count": null,
   "metadata": {
    "collapsed": true
   },
   "outputs": [],
   "source": []
  },
  {
   "cell_type": "markdown",
   "metadata": {},
   "source": [
    "Q2.d In this questions you use the built-in lu factorization algorithm (suign UMFPACK) to solve your system. What is the complexity of the algorithm, with respect to n, for solving $\\mathbf{A}\\mathbf{u} = \\mathbf{f}$ and why? You need to provide evidence of your complexity claim. \n",
    "\n",
    "Hint: you may need to take a look at the sparsity of the LU factors. When you perform the LU factorization of a matrix like $\\mathbf{A}$ are you introducing any non-zeros? "
   ]
  },
  {
   "cell_type": "code",
   "execution_count": null,
   "metadata": {
    "collapsed": true
   },
   "outputs": [],
   "source": []
  }
 ],
 "metadata": {
  "kernelspec": {
   "display_name": "Julia 0.3.10",
   "language": "julia",
   "name": "julia-0.3"
  },
  "language_info": {
   "file_extension": ".jl",
   "mimetype": "application/julia",
   "name": "julia",
   "version": "0.3.10"
  }
 },
 "nbformat": 4,
 "nbformat_minor": 0
}
