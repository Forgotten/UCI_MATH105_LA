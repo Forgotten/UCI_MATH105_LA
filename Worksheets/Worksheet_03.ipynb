{
 "cells": [
  {
   "cell_type": "markdown",
   "metadata": {},
   "source": [
    "## Worksheet 3"
   ]
  },
  {
   "cell_type": "markdown",
   "metadata": {},
   "source": [
    "### Raising Errors\n",
    "\n",
    "Long and complex programs are usually broken in several smaller scripts, functions, objects and types. It is important to think about possible complications when writing smaller blocks, and how to manage possible problems let's try for example our function sumSquares that computes\n",
    "\\begin{equation}\n",
    "    \\sum_{i=0}^{n} i^2\n",
    "\\end{equation}"
   ]
  },
  {
   "cell_type": "code",
   "execution_count": null,
   "metadata": {
    "collapsed": false
   },
   "outputs": [],
   "source": [
    "function sumSquares(n)\n",
    "    answer = 0.0;\n",
    "    for i = 1:n\n",
    "        answer += i^2\n",
    "    end\n",
    "    return answer\n",
    "end"
   ]
  },
  {
   "cell_type": "raw",
   "metadata": {},
   "source": [
    "# MatLab version\n",
    "function answer = sumSquares(n)\n",
    "    answer = 0;\n",
    "    for i = 1:n\n",
    "        answer = answer + i^2;\n",
    "    end\n",
    "end"
   ]
  },
  {
   "cell_type": "markdown",
   "metadata": {},
   "source": [
    "We can test this function using the following script"
   ]
  },
  {
   "cell_type": "code",
   "execution_count": null,
   "metadata": {
    "collapsed": false
   },
   "outputs": [],
   "source": [
    "n = 10\n",
    "squares = [1:n].^2\n",
    "result = sum(squares)\n",
    "\n",
    "print(\"error  = \",result - sumSquares(n), \"\\n\")"
   ]
  },
  {
   "cell_type": "markdown",
   "metadata": {},
   "source": [
    "Explain why the function sumSquares shoud have a lower memory footprint than the script we just run?"
   ]
  },
  {
   "cell_type": "markdown",
   "metadata": {},
   "source": [
    "Answer: In the script we need to allocate the whole vector $1:n$ which represents a memory footprint of $\\mathcal{O}(n)$; whereas, the function sumSquares uses a for loop and only allocates a constant number of fields, then its memory footprint is $\\mathcal{O}(1)$"
   ]
  },
  {
   "cell_type": "markdown",
   "metadata": {},
   "source": [
    "For example, we can call the above function with a negative $n$. This operation is not well defined, then we should expect an abnormal behavior"
   ]
  },
  {
   "cell_type": "code",
   "execution_count": null,
   "metadata": {
    "collapsed": false
   },
   "outputs": [],
   "source": [
    "sumSquares(-1)"
   ]
  },
  {
   "cell_type": "markdown",
   "metadata": {},
   "source": [
    "As you can see, the function is called, and nothing suspicious seems to be happening, but the answer is not even well defined. \n",
    "\n",
    "Imagine that you have a big program that somewhere in its source code calls sumSquare, but with a negative number. The result of your program will be completely wrong, and it will be extremely hard to find the bug. \n",
    "\n",
    "The best way to code functions is to restrict the usage of your code, and raise exceptions or errors. In that way, if your program does something that is not allowed, the program will stop and give you some kind of warning. \n",
    "\n",
    "For example :"
   ]
  },
  {
   "cell_type": "code",
   "execution_count": null,
   "metadata": {
    "collapsed": false
   },
   "outputs": [],
   "source": [
    "function sumSquares(n)\n",
    "    # to save space we will use an abreviation of an IF statement\n",
    "    n < 0 && error(\"input for sumSquares needs to be a non negative integer \\n\")\n",
    "    answer = 0.0;\n",
    "    for i = 1:n\n",
    "        answer += i^2\n",
    "    end\n",
    "    return answer\n",
    "end"
   ]
  },
  {
   "cell_type": "raw",
   "metadata": {},
   "source": [
    "function answer = sumSquares(n)\n",
    "    if n < 0 \n",
    "        error('input for sumSquares needs to be a non negative integer')\n",
    "    end\n",
    "    answer = 0;\n",
    "    for i = 1:n\n",
    "        answer = answer + i^2;\n",
    "    end\n",
    "end"
   ]
  },
  {
   "cell_type": "markdown",
   "metadata": {},
   "source": [
    "You can check that this function behaves as intended by "
   ]
  },
  {
   "cell_type": "code",
   "execution_count": null,
   "metadata": {
    "collapsed": false
   },
   "outputs": [],
   "source": [
    "sumSquares(-40)"
   ]
  },
  {
   "cell_type": "markdown",
   "metadata": {},
   "source": [
    "### Optional parameters\n",
    "\n",
    "Another useful techniques to debug your code and to add more functionality to your functions is to use optional parameters. These parameters are set to a default but they can be easily modified to add functionality to your functions. \n",
    "\n",
    "This allows us to define a default behavior of the code, that can subsequently be modified by adding more parameters as needed. \n",
    "\n",
    "In this case, we will modify the sumSquares, and add a \"verbose\" flag. If verbose is true, then the function will print all the intermediate steps of the computation."
   ]
  },
  {
   "cell_type": "code",
   "execution_count": null,
   "metadata": {
    "collapsed": false
   },
   "outputs": [],
   "source": [
    "function sumSquares(n; verbose=false)\n",
    "    n < 0 && error(\"input for sumSquares needs to be a non negative integer \\n\")\n",
    "    verbose && print(\"Computing the sum of the \", n, \" first squared integers \\n\")\n",
    "    answer = 0.0;\n",
    "    for i = 1:n\n",
    "        answer += i^2\n",
    "        verbose && print(answer, \"\\n\") # abreviation of if (verbose) print(answer, \"\\n\") end\n",
    "    end\n",
    "    return answer\n",
    "end"
   ]
  },
  {
   "cell_type": "raw",
   "metadata": {},
   "source": [
    "% MatLab version\n",
    "function answer = sumSquares(n,verbose)\n",
    "    % if the function only has one paramenter\n",
    "    % we need to be sure that verbose is well defined\n",
    "    if nargin < 2\n",
    "        % setting default value for verbose\n",
    "        verbose = false;\n",
    "    end\n",
    "    if n < 0 \n",
    "        error('input for sumSquares needs to be a non negative integer')\n",
    "    end  \n",
    "    answer = 0;\n",
    "    for i = 1:n\n",
    "        answer = answer + i^2;\n",
    "        if verbose\n",
    "            fprintf('%d \\n', answer)\n",
    "        else\n",
    "    end\n",
    "end"
   ]
  },
  {
   "cell_type": "markdown",
   "metadata": {},
   "source": [
    "By default the flag is false, and the behavior of the function is the same as before"
   ]
  },
  {
   "cell_type": "code",
   "execution_count": null,
   "metadata": {
    "collapsed": false
   },
   "outputs": [],
   "source": [
    "sumSquares(10)"
   ]
  },
  {
   "cell_type": "markdown",
   "metadata": {},
   "source": [
    "We can activate the new flag using the following notation"
   ]
  },
  {
   "cell_type": "code",
   "execution_count": null,
   "metadata": {
    "collapsed": false
   },
   "outputs": [],
   "source": [
    "sumSquares(10, verbose=true)"
   ]
  },
  {
   "cell_type": "markdown",
   "metadata": {},
   "source": [
    "This can become handy when debugging a function. And allows to add more functionality to your functions.\n",
    "\n",
    "Even though printinf in the console can help the debugging, you can also add a history parameter, such that the function outputs a vector with all the intermediate results."
   ]
  },
  {
   "cell_type": "code",
   "execution_count": null,
   "metadata": {
    "collapsed": false
   },
   "outputs": [],
   "source": [
    "function sumSquares(n; verbose=false, history=false)\n",
    "    n < 0 && error(\"input for sumSquares needs to be a non negative integer \\n\")\n",
    "    verbose && print(\"Computing the sum of the \", n, \" first squared integers \\n\")\n",
    "    answer = 0.0;\n",
    "    history && (histAnswer = zeros(n,1)) # if history is true then create a vector full of zeros\n",
    "    for i = 1:n\n",
    "        answer += i^2\n",
    "        verbose && print(answer, \"\\n\") # abreviation of if (verbose) print(answer, \"\\n\") end\n",
    "        history && (histAnswer[i] = answer) # if history is true save the current value of answer \n",
    "    end\n",
    "    history? (return histAnswer) : (return answer)\n",
    "end"
   ]
  },
  {
   "cell_type": "raw",
   "metadata": {},
   "source": [
    "function answer = sumSquares(n,verbose, history)\n",
    "    if nargin < 3\n",
    "        history = false;\n",
    "    end\n",
    "    if nargin < 2\n",
    "        verbose = false;\n",
    "    end\n",
    "    if n < 0 \n",
    "        error('input for sumSquares needs to be a non negative integer')\n",
    "    end  \n",
    "    answer = 0\n",
    "    for i = 2:n\n",
    "        if history\n",
    "            answer(i) = answer(i-1) + i^2;\n",
    "        else\n",
    "            answer = answer + i^2;\n",
    "        end\n",
    "        \n",
    "    end\n",
    "end"
   ]
  },
  {
   "cell_type": "markdown",
   "metadata": {},
   "source": [
    "You can test your new function"
   ]
  },
  {
   "cell_type": "code",
   "execution_count": null,
   "metadata": {
    "collapsed": false
   },
   "outputs": [],
   "source": [
    "sumSquares(10,history=true)"
   ]
  },
  {
   "cell_type": "markdown",
   "metadata": {},
   "source": [
    "Given that the information is in a vector you can manipulate it, and, in particular, plot it."
   ]
  },
  {
   "cell_type": "code",
   "execution_count": null,
   "metadata": {
    "collapsed": false
   },
   "outputs": [],
   "source": [
    "n = 10\n",
    "answerHist = sumSquares(n,history=true);\n",
    "using Gadfly\n",
    "plot(x = [1:n], y = answerHist)"
   ]
  },
  {
   "cell_type": "markdown",
   "metadata": {
    "collapsed": true
   },
   "source": [
    "### Manipulation of vector and matrices\n",
    "\n",
    "One of the other powerfull capabilities of Julia is its easiness to manipulate matrices.  \n",
    "You can declare and initialize a matrix of size $n\\times n$ by tiping"
   ]
  },
  {
   "cell_type": "code",
   "execution_count": null,
   "metadata": {
    "collapsed": false
   },
   "outputs": [],
   "source": [
    "n = 4\n",
    "M = zeros(n,n)"
   ]
  },
  {
   "cell_type": "markdown",
   "metadata": {},
   "source": [
    "By default it builds a $n \\times n$ matrix with each entry defined a Float64.\n",
    "You can extract the size of any matrix using the function size"
   ]
  },
  {
   "cell_type": "code",
   "execution_count": null,
   "metadata": {
    "collapsed": false
   },
   "outputs": [],
   "source": [
    "sizeM = size(M)"
   ]
  },
  {
   "cell_type": "markdown",
   "metadata": {},
   "source": [
    "You can change the type of entries of the matrix using: "
   ]
  },
  {
   "cell_type": "code",
   "execution_count": null,
   "metadata": {
    "collapsed": false
   },
   "outputs": [],
   "source": [
    "M = zeros(Complex{Float64} , n, n)"
   ]
  },
  {
   "cell_type": "markdown",
   "metadata": {},
   "source": [
    "As you can see, it defines an array of complex numbers. \n"
   ]
  },
  {
   "cell_type": "markdown",
   "metadata": {},
   "source": [
    "To access any entry of the matrix you can use the index operation"
   ]
  },
  {
   "cell_type": "code",
   "execution_count": null,
   "metadata": {
    "collapsed": false
   },
   "outputs": [],
   "source": [
    "M[1,2]"
   ]
  },
  {
   "cell_type": "markdown",
   "metadata": {},
   "source": [
    "We accessed the index (1,2) of the matrix. You can modify the matrix by using the index operation"
   ]
  },
  {
   "cell_type": "code",
   "execution_count": null,
   "metadata": {
    "collapsed": false
   },
   "outputs": [],
   "source": [
    "M[1,2] = 10\n",
    "M"
   ]
  },
  {
   "cell_type": "markdown",
   "metadata": {},
   "source": [
    "You can also modify a full column, by using the slicing \":\" operator"
   ]
  },
  {
   "cell_type": "code",
   "execution_count": null,
   "metadata": {
    "collapsed": false
   },
   "outputs": [],
   "source": [
    "M[:,3] = 1:n\n",
    "M"
   ]
  },
  {
   "cell_type": "markdown",
   "metadata": {},
   "source": [
    "or a full row "
   ]
  },
  {
   "cell_type": "code",
   "execution_count": null,
   "metadata": {
    "collapsed": false
   },
   "outputs": [],
   "source": [
    "M[3,:] = (1:n)'\n",
    "M"
   ]
  },
  {
   "cell_type": "markdown",
   "metadata": {},
   "source": [
    "You need to ensure that the slice you are modifying has the same dimensions that the modification. In the example above, you build the vector $1:n$, which by default is a column vector. However, you want to modify a row of the matrix $M$, so you need to transpose $1:n$, using the transpose operator ' in order to have matching sizes.\n",
    "\n",
    "You can modify portions of a matrix by using a range type (i.e. a $p:q$ type)"
   ]
  },
  {
   "cell_type": "code",
   "execution_count": null,
   "metadata": {
    "collapsed": false
   },
   "outputs": [],
   "source": [
    "# rand(n,m) will ouput a realisation of a random matrix n x m, with entries i.i.d. with uniform\n",
    "# distribution between 0 and 1\n",
    "M[2, 2:end] = rand(1,n-1) + im*rand(1,n-1)  # im is the Julia syntax for \\sqrt{-1}\n",
    "M"
   ]
  },
  {
   "cell_type": "markdown",
   "metadata": {},
   "source": [
    "Or you can modify a block of the matrix "
   ]
  },
  {
   "cell_type": "code",
   "execution_count": null,
   "metadata": {
    "collapsed": false
   },
   "outputs": [],
   "source": [
    "M[1:3, 2:end] = rand(3,n-1) + im*rand(3,n-1)  # im is the Julia syntax for \\sqrt{-1}\n",
    "M"
   ]
  },
  {
   "cell_type": "markdown",
   "metadata": {},
   "source": [
    "#### Creating Diagonal Matrices\n",
    "\n",
    "Finally, you can create diagonal matrices by using "
   ]
  },
  {
   "cell_type": "code",
   "execution_count": null,
   "metadata": {
    "collapsed": false
   },
   "outputs": [],
   "source": [
    "v = rand(10,1); \n",
    "diagm(v[:], 0)"
   ]
  },
  {
   "cell_type": "markdown",
   "metadata": {},
   "source": [
    "and to create a matrix M, with the vector v in its lower diagonal"
   ]
  },
  {
   "cell_type": "code",
   "execution_count": null,
   "metadata": {
    "collapsed": false
   },
   "outputs": [],
   "source": [
    "v = rand(9,1); \n",
    "diagm(v[:], -1)"
   ]
  },
  {
   "cell_type": "markdown",
   "metadata": {},
   "source": [
    "Julia is a bit picky with respect to Matrices and vectors. Matrices are by default two dimensional array of type  Array{Float64,2}, whereas vectors as one dimensional arrays Array{Float64,1}. You can convert a Matrix of size $n \\times 1$ to a vector by using the [:] command (see the snippet above).\n",
    "\n",
    "####Matrices and vectors by direct input\n",
    "\n",
    "Instead of creating a matrix full of zeros and then filling the entries,you can create your matrices by direct input. A space is used to separate elements within a row, and a semicolon is used to start a new row. "
   ]
  },
  {
   "cell_type": "code",
   "execution_count": null,
   "metadata": {
    "collapsed": false
   },
   "outputs": [],
   "source": [
    "A = [1 2 3; 4 5 6]"
   ]
  },
  {
   "cell_type": "markdown",
   "metadata": {},
   "source": [
    "In an analogous way you can define a vector (in fact a $1 \\times n$ matrix), by using direct input"
   ]
  },
  {
   "cell_type": "code",
   "execution_count": null,
   "metadata": {
    "collapsed": false
   },
   "outputs": [],
   "source": [
    "a = [ 1.0 2.0 3.0 4.0]"
   ]
  },
  {
   "cell_type": "markdown",
   "metadata": {},
   "source": [
    "You can access, modify and permute the entries of a by using index operations"
   ]
  },
  {
   "cell_type": "code",
   "execution_count": null,
   "metadata": {
    "collapsed": false
   },
   "outputs": [],
   "source": [
    "print(a[1], \"\\n\") # access first element of a\n",
    "a[1] = 1000       # modify first element of a\n",
    "print(a, \"\\n\")\n",
    "a = a[end:-1:1]   # flip the order of the elements of a\n",
    "print(a, \"\\n\")"
   ]
  },
  {
   "cell_type": "markdown",
   "metadata": {},
   "source": [
    "Finally, you can transform this two dimensional array to a one dimensional array using the \"[:]\" command"
   ]
  },
  {
   "cell_type": "code",
   "execution_count": null,
   "metadata": {
    "collapsed": false
   },
   "outputs": [],
   "source": [
    "a[:]"
   ]
  },
  {
   "cell_type": "markdown",
   "metadata": {},
   "source": [
    "#### Increasing the size of a vector\n",
    "In Julia, contrary to MATLAB, the size of a vector are fixed, if you try, for example"
   ]
  },
  {
   "cell_type": "code",
   "execution_count": null,
   "metadata": {
    "collapsed": false
   },
   "outputs": [],
   "source": [
    "a[5] = 4"
   ]
  },
  {
   "cell_type": "markdown",
   "metadata": {},
   "source": [
    "you will get an error. \n",
    "\n",
    "If you need to increase the size of a vector you will use the push! function. However, push! is only defined for 1d vectors so we need to convert $\\mathbf{a}$ from an Array{Float64,2} to a Array{Float64,1} using [:]"
   ]
  },
  {
   "cell_type": "code",
   "execution_count": null,
   "metadata": {
    "collapsed": false
   },
   "outputs": [],
   "source": [
    "a = a[:]\n",
    "push!(a,5.0)"
   ]
  },
  {
   "cell_type": "markdown",
   "metadata": {},
   "source": [
    "As you can see, we added a new element to the 1d array a. Push is mostly usefull when you have an array and you don't know its final length a priori. You can start with an empty array and add elements as needed. \n",
    "\n",
    "To define an empty array you need to declare and specify the type of elements that your array will have, using the syntax Type[], so if you want to have an array of Float64 you need to write"
   ]
  },
  {
   "cell_type": "code",
   "execution_count": null,
   "metadata": {
    "collapsed": false
   },
   "outputs": [],
   "source": [
    "b = Float64[]"
   ]
  },
  {
   "cell_type": "markdown",
   "metadata": {},
   "source": [
    "Then you can start pushing elements inside your array "
   ]
  },
  {
   "cell_type": "code",
   "execution_count": null,
   "metadata": {
    "collapsed": false
   },
   "outputs": [],
   "source": [
    "push!(b,3.0)\n",
    "push!(b, pi)"
   ]
  },
  {
   "cell_type": "markdown",
   "metadata": {},
   "source": [
    "We have seen that rather subtle difference between 1 and 2 d array. We encourage you to be extra careful when working with vectors (1d arrays) and Matrices (2d arrays). By default, vectors are colum vectors, so for example if you want to compute the dot and exterior product you can use the transpose operation coupled with the standard matrix multiplication (however, you need to note that using the transpose operation will convert your 1d array to a 2d array)"
   ]
  },
  {
   "cell_type": "code",
   "execution_count": null,
   "metadata": {
    "collapsed": false
   },
   "outputs": [],
   "source": [
    "a'"
   ]
  },
  {
   "cell_type": "markdown",
   "metadata": {},
   "source": [
    "you can compute the dot and exterior product"
   ]
  },
  {
   "cell_type": "code",
   "execution_count": null,
   "metadata": {
    "collapsed": false
   },
   "outputs": [],
   "source": [
    "print(\"dot product = \",a'*a, \"\\n\")\n",
    "print(\"exterior product = \\n\",a*a')"
   ]
  }
 ],
 "metadata": {
  "kernelspec": {
   "display_name": "Julia 0.4.0",
   "language": "julia",
   "name": "julia-0.4"
  },
  "language_info": {
   "file_extension": ".jl",
   "mimetype": "application/julia",
   "name": "julia",
   "version": "0.4.0"
  }
 },
 "nbformat": 4,
 "nbformat_minor": 0
}
