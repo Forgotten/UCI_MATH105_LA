{
 "cells": [
  {
   "cell_type": "markdown",
   "metadata": {},
   "source": [
    "This is a small notebook to teach you some basics of Julia, and to use the power of the ipyhton notebook to explore finite precision arithmetic.  \n",
    "Julia is a new scripting language that uses a jit (Just-In-Time) compiler that allows your code to run as fast as compiled code without all the hassle. \n",
    "\n",
    "You can use it as your personal calculator, for example to add two numbers:"
   ]
  },
  {
   "cell_type": "code",
   "execution_count": null,
   "metadata": {
    "collapsed": false
   },
   "outputs": [],
   "source": [
    "1+1"
   ]
  },
  {
   "cell_type": "markdown",
   "metadata": {},
   "source": [
    "You need to hit shift+enter in the corresponding cell to run the code and obtain the answer. This Julia notebook allows you to modify the code (and text) and re-run it with new values. "
   ]
  },
  {
   "cell_type": "code",
   "execution_count": null,
   "metadata": {
    "collapsed": true
   },
   "outputs": [],
   "source": [
    "0.1949 / 15"
   ]
  },
  {
   "cell_type": "markdown",
   "metadata": {},
   "source": [
    "It can handle more complicated computations, for example let's check that \n",
    "\\begin{equation}\n",
    "\\lim_{n\\rightarrow \\infty} \\left ( 1 +\\frac{1}{n} \\right)^n = e\n",
    "\\end{equation}\n",
    "by computing"
   ]
  },
  {
   "cell_type": "code",
   "execution_count": null,
   "metadata": {
    "collapsed": false
   },
   "outputs": [],
   "source": [
    "n = 10;\n",
    "(1+1/n)^n - e"
   ]
  },
  {
   "cell_type": "markdown",
   "metadata": {},
   "source": [
    "You can play increasing $n$ to see how fast the expression converges. In the example above you declared the variable.], $n$ assigned a value, and use that value to carry out a computation. In julia you can declare and assign values to variables by"
   ]
  },
  {
   "cell_type": "code",
   "execution_count": null,
   "metadata": {
    "collapsed": false
   },
   "outputs": [],
   "source": [
    "a = 3;\n",
    "b = 12;\n",
    "c = pi;"
   ]
  },
  {
   "cell_type": "markdown",
   "metadata": {},
   "source": [
    "(wit the semicolon you don't print any ouput on you console) and you can perform operations with those variables:"
   ]
  },
  {
   "cell_type": "code",
   "execution_count": null,
   "metadata": {
    "collapsed": false
   },
   "outputs": [],
   "source": [
    "(a+b)/c"
   ]
  },
  {
   "cell_type": "markdown",
   "metadata": {},
   "source": [
    "Given that julia is a scripting language you can easily modify the values on the variables and perform the same operation with different values"
   ]
  },
  {
   "cell_type": "code",
   "execution_count": null,
   "metadata": {
    "collapsed": false
   },
   "outputs": [],
   "source": [
    "b = 0\n",
    "(a+b)/c"
   ]
  },
  {
   "cell_type": "markdown",
   "metadata": {},
   "source": [
    "Julia has predefined a large amount of common functions, for example, trigonometric functions"
   ]
  },
  {
   "cell_type": "code",
   "execution_count": null,
   "metadata": {
    "collapsed": false
   },
   "outputs": [],
   "source": [
    "sin(3/2*pi)"
   ]
  },
  {
   "cell_type": "code",
   "execution_count": null,
   "metadata": {
    "collapsed": false
   },
   "outputs": [],
   "source": [
    "cos(-pi/2)"
   ]
  },
  {
   "cell_type": "markdown",
   "metadata": {},
   "source": [
    "As you can see, Julia uses floating point arithmetic: cos(-pi/2) should be equal to zero, but given that we use an expansion to evaluate the cos, we can expect to have numerical cancelations that will not be exact. We will explore in the sequel some of these issues. \n",
    "\n",
    "We can easily define functions in Julia. For example we can write the funtion to evaluate a polinomial, in this case p(x) = x^2 +1, which can be write as"
   ]
  },
  {
   "cell_type": "code",
   "execution_count": null,
   "metadata": {
    "collapsed": false
   },
   "outputs": [],
   "source": [
    "function foo(x)\n",
    "    return x^2 + 1\n",
    "end"
   ]
  },
  {
   "cell_type": "markdown",
   "metadata": {},
   "source": [
    "there are fields and keywords necessary to sucesfully define a function:\n",
    "\n",
    "function: keyword necessary to define a function;\n",
    "\n",
    "foo : the name of the function;\n",
    "\n",
    "(arg1, arg2, arg3): the arguments of the function, there can be more than one;\n",
    "\n",
    "return : these is the output of the funtion;\n",
    "\n",
    "end : keyword to declare the end of the declaration of the function;\n",
    "\n",
    "We can call the function by using "
   ]
  },
  {
   "cell_type": "code",
   "execution_count": null,
   "metadata": {
    "collapsed": false
   },
   "outputs": [],
   "source": [
    "foo(3)"
   ]
  },
  {
   "cell_type": "markdown",
   "metadata": {},
   "source": [
    "In addition, it is possible to nest the functions, i.e. we can declare function that call other functions already declared for example"
   ]
  },
  {
   "cell_type": "code",
   "execution_count": null,
   "metadata": {
    "collapsed": false
   },
   "outputs": [],
   "source": [
    "function foo2(x,y)\n",
    "    z = foo(x) + y\n",
    "    return z^2\n",
    "end"
   ]
  },
  {
   "cell_type": "code",
   "execution_count": null,
   "metadata": {
    "collapsed": false
   },
   "outputs": [],
   "source": [
    "foo2(3,0)"
   ]
  },
  {
   "cell_type": "markdown",
   "metadata": {},
   "source": [
    "Or we can nest function calls on the run, such as"
   ]
  },
  {
   "cell_type": "code",
   "execution_count": null,
   "metadata": {
    "collapsed": false
   },
   "outputs": [],
   "source": [
    "foo2(foo(1),0)"
   ]
  },
  {
   "cell_type": "markdown",
   "metadata": {},
   "source": [
    "Finally, before going back to the Syllabus, we will introduce the function print. This function takes a string ( which is a series of characters between quotations marks), or a series of strings separated by a comma, and prints the series of characters in the console. For example,"
   ]
  },
  {
   "cell_type": "code",
   "execution_count": null,
   "metadata": {
    "collapsed": false
   },
   "outputs": [],
   "source": [
    "print(\"Hello, world! \\n\");\n",
    "print(\"ping! \\n\", \"pong \\n!\")"
   ]
  },
  {
   "cell_type": "markdown",
   "metadata": {},
   "source": [
    "The \\n charachter is used to signal the end of a line. If the argument is a number it will automatically convert it to a series of characters and print it in the console. The same happens if you assing a value to a variable and you print the variable."
   ]
  },
  {
   "cell_type": "code",
   "execution_count": null,
   "metadata": {
    "collapsed": false
   },
   "outputs": [],
   "source": [
    "print(1/3, \"\\n\")\n",
    "variable_to_be_print = 48920;\n",
    "print(variable_to_be_print, \"\\n\")\n",
    "variable_to_be_print = \"Hello World! (again)\";\n",
    "print(variable_to_be_print, \"\\n\")"
   ]
  },
  {
   "cell_type": "markdown",
   "metadata": {},
   "source": [
    "Now, coming back to the Syllabus, the first topic is finite precission arithmetic. Fortunaly for us, Julia accepts different types of precission. We will use Julia to illustrate some properties of the finite precission arithmetic.\n",
    "\n",
    "For integers, the most used representation is using what is called a fixed point representation. Given that the set of integer numbers is infinite we need to choose a subset to be represented. The normal representation for integer is based on a representation in digits with a fixed and limited amount of digits.\n",
    "\n",
    "The representation is based on a binary representation of an integer using a limited and fixed amount of bits. For example, a typical int need 32 bits, or 4 bytes (normally called int32). The first bit is used for the sign, then each number is then represented using a binary base. We have ints that uses, 8, 16, and 64 bits, as well as unsinged ints. The main advantage of having more bits to represent a number is an increased range. \n",
    "\n",
    "A simple combinatorial argument shows that we can write $2^{32} = 4294967296$ different numbers using 32 bits. Given that we use one digit to store the sign, the range of int32 is $-2^{31} =-2147483648$ to  $2^{31}-1 = 2147483647$.\n",
    "\n",
    "You can easily check the veracity of this statement by running \n"
   ]
  },
  {
   "cell_type": "code",
   "execution_count": null,
   "metadata": {
    "collapsed": false
   },
   "outputs": [],
   "source": [
    "print(int32(2^31-1), \"\\n\")\n",
    "print(int32(-2^31))"
   ]
  },
  {
   "cell_type": "markdown",
   "metadata": {},
   "source": [
    "The result printed in your console should be the same as the one computed before. In this case the function int32 is converting a typical int in Julia (that is by default an int64) to a int32. If you try with a bigger or smaller number such as  "
   ]
  },
  {
   "cell_type": "code",
   "execution_count": null,
   "metadata": {
    "collapsed": false
   },
   "outputs": [],
   "source": [
    "print(int32(2^31), \"\\n\")\n",
    "print(int32(-2^31-1))"
   ]
  },
  {
   "cell_type": "markdown",
   "metadata": {},
   "source": [
    "You will get an error, this is due because the desired number exceeds the representation range allowed by an Int32. In the case of the integers numbers the addition, substraction and multiplication are exact, up to a possible out of range exception. However, the division is only exact if the result is an int32, otherwise, it will either send an error (you would expect this behavior in Julia) or it will approximate to the next smaller int32 (you would expect this behavior in C). You can run the snippet below"
   ]
  },
  {
   "cell_type": "code",
   "execution_count": null,
   "metadata": {
    "collapsed": false
   },
   "outputs": [],
   "source": [
    "print(int32(1155/5), \"\\n\")\n",
    "print(int32(1155/2))"
   ]
  },
  {
   "cell_type": "markdown",
   "metadata": {},
   "source": [
    "In order to be able to cope with division, along another issues that will not be covered in this class, we will introduce perhaps the most important numerical \"type\" in Scientific computing : the floating point numbers.\n",
    "\n",
    "The floating point numbers are a finite subset of the reals, used to have a finite representation of an infinite (and uncountable) set and they are designed as a trade off between precision and range, for more details see \n",
    "https://en.wikipedia.org/wiki/Floating_point\n",
    "\n",
    "By default Julia uses double precision floating numbers https://en.wikipedia.org/wiki/Double-precision_floating-point_format, but it is possible to use single precision floating numbers https://en.wikipedia.org/wiki/Single-precision_floating-point_format and half precission floating numbers https://en.wikipedia.org/wiki/Half-precision_floating-point_format.\n",
    "\n",
    "A floating point number is in general defined as \n",
    "\\begin{equation}\n",
    "x = n_1.n_2...n_{L}\\cdot a^{d}\n",
    "\\end{equation}\n",
    "where  $n_1.n_2...n_{L}$ is the significand, $L$ the precision (or number of digits in the significand, $a$ the base, and $d$ the exponent. \n",
    "\n",
    "The base is normally fixed, binary, and the signifiand and exponent are written in pixed point notation. \n",
    "\n",
    "The precission is normally refered to the number of bits necessary to represent in a unique fashion each number, single uses 32 bits (or 4 bytes); double 64 bits, and half 16 bits. They are normally denoted as Float64, Float32, and Float16.\n",
    "\n",
    "The number of bits used to represent a number tells you how fine is the representation, i.e. how many real number it can represent exactly, when an exact representation is not possible, it will truncate to the closest number in the set, thus introducing a truncation error.  \n",
    "\n",
    "In Julia you can easily convert any number netween different precission using the float16, float32 and float64 functions. In the example below, we approximate the number Pi using different precissions. \n"
   ]
  },
  {
   "cell_type": "code",
   "execution_count": null,
   "metadata": {
    "collapsed": false
   },
   "outputs": [],
   "source": [
    "print(pi)"
   ]
  },
  {
   "cell_type": "code",
   "execution_count": null,
   "metadata": {
    "collapsed": false
   },
   "outputs": [],
   "source": [
    "print(float64(pi))"
   ]
  },
  {
   "cell_type": "code",
   "execution_count": null,
   "metadata": {
    "collapsed": false
   },
   "outputs": [],
   "source": [
    "print(float32(pi))"
   ]
  },
  {
   "cell_type": "code",
   "execution_count": null,
   "metadata": {
    "collapsed": false
   },
   "outputs": [],
   "source": [
    "print(float16(pi))\n"
   ]
  },
  {
   "cell_type": "markdown",
   "metadata": {},
   "source": [
    "As you can see, each time you double the number of bits used for the representation you double the number of digits. In particular, each representation has a number with biggest absolute value and the number different than zero with the smallest absolute value.\n",
    "\n",
    "Q1. Using the representation of floating point (in binary) numbers seen in class, what is the smallest positive number when using a Float64? (you can use the markdown cell below to answer)\n",
    "\n"
   ]
  },
  {
   "cell_type": "markdown",
   "metadata": {},
   "source": [
    "Answer:"
   ]
  },
  {
   "cell_type": "markdown",
   "metadata": {},
   "source": [
    "Test your answer by running the following function"
   ]
  },
  {
   "cell_type": "code",
   "execution_count": null,
   "metadata": {
    "collapsed": false
   },
   "outputs": [],
   "source": [
    "print(eps(float64(0.0)))"
   ]
  },
  {
   "cell_type": "markdown",
   "metadata": {},
   "source": [
    "Q2. What is the smallest positive number for a single and half precission floating numbers?"
   ]
  },
  {
   "cell_type": "markdown",
   "metadata": {},
   "source": [
    "Answer:"
   ]
  },
  {
   "cell_type": "markdown",
   "metadata": {},
   "source": [
    "test your answer by running the following functions"
   ]
  },
  {
   "cell_type": "code",
   "execution_count": null,
   "metadata": {
    "collapsed": false
   },
   "outputs": [],
   "source": [
    "print(eps(float32(0.0)))"
   ]
  },
  {
   "cell_type": "code",
   "execution_count": null,
   "metadata": {
    "collapsed": false
   },
   "outputs": [],
   "source": [
    "print(eps(float16(0.0)))"
   ]
  },
  {
   "cell_type": "markdown",
   "metadata": {},
   "source": [
    "You have seen in class that finite precission arithmetic introduces errors, in particular those errors can be big when dealing with numbers of different orders of magnitude.\n",
    "\n",
    "Q3. What is the biggest number in the Float16 representation such that if we add it to 1, the result is always 1?"
   ]
  },
  {
   "cell_type": "markdown",
   "metadata": {},
   "source": [
    "Answer:"
   ]
  },
  {
   "cell_type": "markdown",
   "metadata": {},
   "source": [
    "To see if you were correct, (numerically) run"
   ]
  },
  {
   "cell_type": "code",
   "execution_count": null,
   "metadata": {
    "collapsed": false
   },
   "outputs": [],
   "source": [
    "eps16 = eps(float16(1.0))\n",
    "print(eps16)"
   ]
  },
  {
   "cell_type": "markdown",
   "metadata": {},
   "source": [
    "Now, we can check that adding eps16/2 to 1 results in exactly 1!"
   ]
  },
  {
   "cell_type": "code",
   "execution_count": null,
   "metadata": {
    "collapsed": false
   },
   "outputs": [],
   "source": [
    "print(float16(eps16/2 + float16(1.) ))"
   ]
  },
  {
   "cell_type": "markdown",
   "metadata": {},
   "source": [
    "Q4. repeat the same computation for single and double precission and check your answers"
   ]
  },
  {
   "cell_type": "code",
   "execution_count": null,
   "metadata": {
    "collapsed": false
   },
   "outputs": [],
   "source": [
    "eps32 = eps(float32(1.0))\n",
    "print(eps32, \"\\n\")\n",
    "eps64 = eps(float64(1.0))\n",
    "print(eps64)"
   ]
  },
  {
   "cell_type": "markdown",
   "metadata": {},
   "source": [
    "As you will see in the sequel, the main problem of having low accucary (i.e. a big machine epsilon) happends when we need to divide and substract two numbers.\n",
    "\n",
    "The main problem is the fact that addition and substraction are not associative in finite precission arithmetic, you can check running the folowing scripts that simulate a different ordering. "
   ]
  },
  {
   "cell_type": "code",
   "execution_count": null,
   "metadata": {
    "collapsed": false
   },
   "outputs": [],
   "source": [
    "print(float16(float16(eps16/2 + float16(1.)) - float16(1.)), \"\\n\")\n",
    "print(float16(eps16/2 + float16(float16(1.) - float16(1.))))"
   ]
  },
  {
   "cell_type": "markdown",
   "metadata": {},
   "source": [
    "this is the same problem with any precission, run the same example for the double precision\n",
    "\n"
   ]
  },
  {
   "cell_type": "code",
   "execution_count": null,
   "metadata": {
    "collapsed": false
   },
   "outputs": [],
   "source": [
    "print(eps64/2 + 1.0 - 1.0, \"\\n\")\n",
    "print(1.0 + eps64/2  - 1.0,\"\\n\")\n",
    "print(1.0   - 1.0 + eps64/2, \"\\n\")"
   ]
  },
  {
   "cell_type": "markdown",
   "metadata": {},
   "source": [
    "this becomes extremely problematic if you have a division by a small number\n",
    "    "
   ]
  },
  {
   "cell_type": "code",
   "execution_count": null,
   "metadata": {
    "collapsed": false
   },
   "outputs": [],
   "source": [
    "print((1.0 + eps64/2  - 1.0)/(eps64/2),\"\\n\")\n",
    "print((1.0   - 1.0 + eps64/2)/(eps64/2), \"\\n\")"
   ]
  },
  {
   "cell_type": "markdown",
   "metadata": {},
   "source": [
    "As you can see the first result is completely off. Imagine that something like that would happen when computing your GPA :p. \n",
    "\n",
    "The main question that you may be asking yourself right now, why don't just use double or quadruple precision floating point numbers all the time. The answer is that operation with bigger numbers tend to be more expensive. If you don't enough too much precision, you would want to use single or half. One example can be found in graphics cards, that are optimized for single precision computations, in order to save space to and speedup the rendering; your eye won't see a 0.001% variation in the color of a pixel.\n",
    "\n",
    "Before changing the subject, you can have an in-depth exposition in floating point arithmetic in https://ece.uwaterloo.ca/~dwharder/NumericalAnalysis/02Numerics/Double/paper.pdf."
   ]
  },
  {
   "cell_type": "markdown",
   "metadata": {
    "collapsed": false
   },
   "source": [
    "One of the most powerful tools in Julia is it vector support, we can easily define a vector using the following syntax"
   ]
  },
  {
   "cell_type": "code",
   "execution_count": null,
   "metadata": {
    "collapsed": false
   },
   "outputs": [],
   "source": [
    "x = [pi e sqrt(2) sqrt(3)].'"
   ]
  },
  {
   "cell_type": "markdown",
   "metadata": {
    "collapsed": false
   },
   "source": [
    "where we just declared and assigned\n",
    "\\begin{equation}\n",
    "    x = \\left ( \\begin{array}{c}\n",
    "                    \\pi \\\\\n",
    "                    e \\\\\n",
    "                    \\sqrt{2} \\\\\n",
    "                    \\sqrt{3}\n",
    "                \\end{array}\n",
    "        \\right)\n",
    "    \\end{equation}"
   ]
  },
  {
   "cell_type": "markdown",
   "metadata": {
    "collapsed": true
   },
   "source": [
    "In Julia vectors are by default row vectors, to convert them in column vector we use the transpose \"'\" operator. Julia can perform task on full vector component-wise, using the component-wise operator \".\" followed by the operation"
   ]
  },
  {
   "cell_type": "code",
   "execution_count": null,
   "metadata": {
    "collapsed": false
   },
   "outputs": [],
   "source": [
    "print(\"x.^2 = \",x.^2, \"\\n\")\n",
    "print(\"e.^(x) = \", e.^(x))"
   ]
  },
  {
   "cell_type": "markdown",
   "metadata": {},
   "source": [
    "where we just computed the numerical result of \n",
    "\\begin{equation} \\text{x.^2} = \\left ( \\begin{array}{c}\n",
    "                    \\pi^2 \\\\\n",
    "                    e^2 \\\\\n",
    "                    2 \\\\\n",
    "                    3\n",
    "                \\end{array}\n",
    "        \\right), \\, \\text{and }\n",
    "        \\text{e.^x} = \\left ( \\begin{array}{c}\n",
    "                    e^{\\pi} \\\\\n",
    "                    e^e \\\\\n",
    "                    e^{\\sqrt{2}} \\\\\n",
    "                    e^{\\sqrt{3}}\n",
    "                \\end{array}\n",
    "        \\right)\n",
    "    \\end{equation}"
   ]
  },
  {
   "cell_type": "code",
   "execution_count": null,
   "metadata": {
    "collapsed": false
   },
   "outputs": [],
   "source": [
    "and you can easily apply functions to vectors."
   ]
  },
  {
   "cell_type": "markdown",
   "metadata": {},
   "source": [
    "Let us apply this vectorized techniques to for example compute the integral of $\\sin(x)$ between $0$ and $\\pi$.\n",
    "One of the most basic ways to compute this integral is using the quadrature given by\n",
    "\n",
    "\\begin{equation}\n",
    "\\int_{0}^{\\pi} cos (x) dx  \\approx \\sum_{i=1}^{N} cos(x_i) h \n",
    "\\end{equation}\n",
    "\n",
    "where $h =\\pi/N$ and $x_i = h(i - 1/2)$.\n",
    "\n",
    "I will explain how to easily evaluate $ \\approx \\sum_{i=1}^{N} cos(x_i) h$ using Julia.\n",
    "\n",
    "First, we need to say how many points in the quadrature we want, $N$"
   ]
  },
  {
   "cell_type": "code",
   "execution_count": null,
   "metadata": {
    "collapsed": false
   },
   "outputs": [],
   "source": [
    "nPoints = 11  # number of evaluation or quadrature points"
   ]
  },
  {
   "cell_type": "markdown",
   "metadata": {},
   "source": [
    "We can compute the step, $h$,"
   ]
  },
  {
   "cell_type": "code",
   "execution_count": null,
   "metadata": {
    "collapsed": false
   },
   "outputs": [],
   "source": [
    "h = pi/nPoints"
   ]
  },
  {
   "cell_type": "markdown",
   "metadata": {},
   "source": [
    "Now we need to define the points in which the function will be evaluated, i.e., $x_i$, which are the midpoints\n",
    "    "
   ]
  },
  {
   "cell_type": "code",
   "execution_count": null,
   "metadata": {
    "collapsed": false
   },
   "outputs": [],
   "source": [
    "xQuad = [1/2:1:nPoints-1/2]*h"
   ]
  },
  {
   "cell_type": "markdown",
   "metadata": {},
   "source": [
    "We evaluate using the vectorized form $ cos(x_i) $ for every $i$ at once, "
   ]
  },
  {
   "cell_type": "code",
   "execution_count": null,
   "metadata": {
    "collapsed": false
   },
   "outputs": [],
   "source": [
    "fQuad = cos(xQuad)"
   ]
  },
  {
   "cell_type": "code",
   "execution_count": null,
   "metadata": {
    "collapsed": false
   },
   "outputs": [],
   "source": [
    "result = sum(fQuad)*dx"
   ]
  },
  {
   "cell_type": "markdown",
   "metadata": {},
   "source": [
    "Q5. As you can see, the approximation converges extremely fast. Now in the space allocated below use the same method to compute \n",
    "\\begin{equation} \n",
    "\\int_0^1 x^2 dx.\n",
    "\\end{equation}\n",
    "How many points do you need to have a relative accuracy of $10^{-6}$."
   ]
  },
  {
   "cell_type": "code",
   "execution_count": null,
   "metadata": {
    "collapsed": false
   },
   "outputs": [],
   "source": [
    "\n"
   ]
  },
  {
   "cell_type": "markdown",
   "metadata": {},
   "source": [
    "Q6. How many points do you need to approximate\n",
    "    \\begin{equation}\n",
    "        \\int_{0}^1 \\sqrt{x} dx,\n",
    "        \\end{equation}\n",
    "and to obtain a relative accuracy of $10^{-6}$."
   ]
  },
  {
   "cell_type": "code",
   "execution_count": null,
   "metadata": {
    "collapsed": true
   },
   "outputs": [],
   "source": [
    "\n"
   ]
  },
  {
   "cell_type": "code",
   "execution_count": null,
   "metadata": {
    "collapsed": true
   },
   "outputs": [],
   "source": []
  }
 ],
 "metadata": {
  "kernelspec": {
   "display_name": "Julia 0.3.10",
   "language": "julia",
   "name": "julia-0.3"
  },
  "language_info": {
   "file_extension": ".jl",
   "mimetype": "application/julia",
   "name": "julia",
   "version": "0.3.10"
  }
 },
 "nbformat": 4,
 "nbformat_minor": 0
}
