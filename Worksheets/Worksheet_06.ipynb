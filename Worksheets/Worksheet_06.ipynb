{
 "cells": [
  {
   "cell_type": "markdown",
   "metadata": {},
   "source": [
    "## Worksheet 6\n",
    "\n",
    "In this worksheet we will focus on solving the linear system given by\n",
    "\\begin{equation}\n",
    "Ax = b,\n",
    "\\end{equation}\n",
    "where $A$ is a non-singular $n\\times n$ matrix. \n",
    "\n",
    "In tis worksheet you will find the $LU$ factorization of the Matrix $A$, such that \n",
    "\\begin{equation}\n",
    "L\\cdot U = A,\n",
    "\\end{equation}\n",
    "where $L$ is lower triangular and $U$ is upper triangular. \n",
    "\n",
    "If the LU factors are known, then solving the linear system can be performed in two triangular solves. \n",
    "\\begin{equation}\n",
    "Lp = b,\n",
    "\\end{equation}\n",
    "and \n",
    "\\begin{equation}\n",
    "Ux = p.\n",
    "\\end{equation}\n",
    "\n"
   ]
  },
  {
   "cell_type": "markdown",
   "metadata": {},
   "source": [
    "To warm up we will compute the LU factorization of a $2\\times 2$ matrix. <br>\n",
    "We define the matrix"
   ]
  },
  {
   "cell_type": "code",
   "execution_count": 13,
   "metadata": {
    "collapsed": false
   },
   "outputs": [
    {
     "data": {
      "text/plain": [
       "2x2 Array{Float64,2}:\n",
       " 1.0  3.0\n",
       " 2.0  5.0"
      ]
     },
     "execution_count": 13,
     "metadata": {},
     "output_type": "execute_result"
    }
   ],
   "source": [
    "A = [1. 3.; 2. 5.]"
   ]
  },
  {
   "cell_type": "markdown",
   "metadata": {},
   "source": [
    "We check that the matrix is invertible by computing its determinant, which should be non-zero."
   ]
  },
  {
   "cell_type": "code",
   "execution_count": 14,
   "metadata": {
    "collapsed": false
   },
   "outputs": [
    {
     "data": {
      "text/plain": [
       "-1.0"
      ]
     },
     "execution_count": 14,
     "metadata": {},
     "output_type": "execute_result"
    }
   ],
   "source": [
    "det(A)"
   ]
  },
  {
   "cell_type": "markdown",
   "metadata": {},
   "source": [
    "We make space for the LU factors"
   ]
  },
  {
   "cell_type": "code",
   "execution_count": 15,
   "metadata": {
    "collapsed": false
   },
   "outputs": [],
   "source": [
    "L = zeros(Float64, 2, 2);\n",
    "U = zeros(Float64, 2, 2);"
   ]
  },
  {
   "cell_type": "markdown",
   "metadata": {},
   "source": [
    "We have that \n",
    "\n",
    "\\begin{equation}\n",
    "A = \\left [  \\begin{array}{cc} \n",
    "                    a_{1,1}  & a_{1,2} \\\\  \n",
    "                    a_{2,1}  & a_{2,2}\n",
    "              \\end{array} \n",
    "   \\right ], \\qquad \n",
    "    L = \\left [  \\begin{array}{cc} \n",
    "                    l_{1,1}  & 0 \\\\  \n",
    "                    l_{2,1}  & l_{2,2} \n",
    "              \\end{array} \n",
    "    \\right ], \n",
    "    \\qquad \n",
    "    U = \\left [  \\begin{array}{cc} \n",
    "                    u_{1,1} & u_{1,2} \\\\  \n",
    "                    0       & u_{2,2} \n",
    "              \\end{array} \n",
    "    \\right ].\n",
    "\\end{equation}\n",
    "Then we have that \n",
    "\\begin{equation}\n",
    "A = \\left [  \\begin{array}{cc} \n",
    "                    a_{1,1}  & a_{1,2} \\\\  \n",
    "                    a_{2,1}  & a_{2,2}\n",
    "              \\end{array} \n",
    "   \\right ] =  \\left [  \\begin{array}{cc} \n",
    "                    l_{1,1}u_{1,1}  & l_{1,1}u_{1,2}    \\\\  \n",
    "                    l_{2,1}u_{1,1}  & l_{2,1}u_{1,2} + u_{2,2}l_{2,2} \n",
    "              \\end{array} \n",
    "    \\right ].\n",
    "\\end{equation}\n",
    "\n",
    "We need to find a combination of $l_{1,1}u_{1,1} = a_{1,1}$. \n",
    "- We always suppose that $l_{i,i} = 1$, then $u_{1,1} = a_{1,1}$. <br>\n",
    "- This means that  $u_{1,2} = a_{1,2}$ and $l_{2,1} = a_{2,1}/u_{1,1} =  a_{2,1}/a_{1,1}$."
   ]
  },
  {
   "cell_type": "code",
   "execution_count": 16,
   "metadata": {
    "collapsed": false
   },
   "outputs": [
    {
     "name": "stdout",
     "output_type": "stream",
     "text": [
      "U = \n",
      "[1.0 3.0\n",
      " 0.0 0.0]\n",
      "L = \n",
      "[1.0 0.0\n",
      " 2.0 0.0]\n"
     ]
    }
   ],
   "source": [
    "L[:,1] = A[:,1]/A[1,1]\n",
    "U[1,:] = A[1,:]\n",
    "println(\"U = \\n\",U)\n",
    "println(\"L = \\n\",L)"
   ]
  },
  {
   "cell_type": "markdown",
   "metadata": {},
   "source": [
    "We have already factorized the first column and row of $A$. So we can continue with the next row and column. <br>\n",
    "In this case we have that \n",
    "\\begin{equation}\n",
    "l_{2,1}u_{1,2} + u_{2,2}l_{2,2}  = a_{2,2},\n",
    "\\end{equation}\n",
    "or, given that $l_{2,1}$ and $u_{1,2}$ are known we have that \n",
    "\\begin{equation}\n",
    "u_{2,2}l_{2,2}  = a_{2,2} - l_{2,1}u_{1,2}.\n",
    "\\end{equation}\n",
    "By convention we have that $l_{2,2} = 1$, then we have that $u_{2,2}  = a_{2,2} - l_{2,1}u_{1,2}$. <br>\n",
    "Which can be written in julia as"
   ]
  },
  {
   "cell_type": "code",
   "execution_count": 17,
   "metadata": {
    "collapsed": false
   },
   "outputs": [],
   "source": [
    "L[2,2] = 1;\n",
    "U[2,2] = A[2,2] - L[2,1]*U[1,2];"
   ]
  },
  {
   "cell_type": "markdown",
   "metadata": {},
   "source": [
    "And we can test that the factorization is accurate by "
   ]
  },
  {
   "cell_type": "code",
   "execution_count": 18,
   "metadata": {
    "collapsed": false
   },
   "outputs": [
    {
     "data": {
      "text/plain": [
       "0.0"
      ]
     },
     "execution_count": 18,
     "metadata": {},
     "output_type": "execute_result"
    }
   ],
   "source": [
    "vecnorm(L*U - A)"
   ]
  },
  {
   "cell_type": "markdown",
   "metadata": {},
   "source": [
    "### General Factorization\n",
    "\n",
    "Now we will generalize the LU factorization for any matrix, for simplicity this will performed recursively. \n",
    "\n",
    "Let $A$ be a $n\\times n$ matrix given by\n",
    "\\begin{equation}\n",
    "A = \\left [  \\begin{array}{cc} \n",
    "                    a_{1,1}  & A_{1,2} \\\\  \n",
    "                    A_{2,1}  & A_{2,2}\n",
    "              \\end{array} \n",
    "   \\right ]\n",
    "\\end{equation}\n",
    "where \n",
    "- $A_{2,2}$ is a $ (n-1 \\times n-1)$ matrix,\n",
    "- $A_{1,2}$ is a $ (1 \\times n-1)$ vector, and\n",
    "- $A_{2,1}$ is a $ (n-1 \\times 1)$ vector.\n",
    "\n",
    "We have \n",
    "\\begin{equation}  \n",
    "    L = \\left [  \\begin{array}{cc} \n",
    "                    l_{1,1}  & 0 \\\\  \n",
    "                    L_{2,1}  & L_{2,2} \n",
    "              \\end{array} \n",
    "    \\right ], \n",
    "    \\qquad \n",
    "    U = \\left [  \\begin{array}{cc} \n",
    "                    u_{1,1} & U_{1,2} \\\\  \n",
    "                    0       & U_{2,2} \n",
    "              \\end{array} \n",
    "    \\right ].\n",
    "\\end{equation}\n",
    "Where \n",
    "- $L_{2,2}$ is a lower triangular matrix, and  \n",
    "- $U_{2,2}$ is an upper triangular matrix."
   ]
  },
  {
   "cell_type": "code",
   "execution_count": 27,
   "metadata": {
    "collapsed": false
   },
   "outputs": [
    {
     "data": {
      "text/plain": [
       "4x4 Array{Float64,2}:\n",
       " 0.0  0.0  0.0  0.0\n",
       " 0.0  0.0  0.0  0.0\n",
       " 0.0  0.0  0.0  0.0\n",
       " 0.0  0.0  0.0  0.0"
      ]
     },
     "execution_count": 27,
     "metadata": {},
     "output_type": "execute_result"
    }
   ],
   "source": [
    "m = 4\n",
    "A = rand(m,m) + m*eye(m)\n",
    "L = zeros(A)\n",
    "U = zeros(A)"
   ]
  },
  {
   "cell_type": "markdown",
   "metadata": {},
   "source": [
    "Given that we will modify A, we will save a copy to make the comparison afterwards. "
   ]
  },
  {
   "cell_type": "code",
   "execution_count": 28,
   "metadata": {
    "collapsed": false
   },
   "outputs": [
    {
     "data": {
      "text/plain": [
       "4x4 Array{Float64,2}:\n",
       " 4.5158    0.147346  0.922938   0.602747\n",
       " 0.460922  4.59042   0.396809   0.264758\n",
       " 0.581176  0.54636   4.67243    0.76578 \n",
       " 0.852285  0.817758  0.0627713  4.78422 "
      ]
     },
     "execution_count": 28,
     "metadata": {},
     "output_type": "execute_result"
    }
   ],
   "source": [
    "Acopy = copy(A)"
   ]
  },
  {
   "cell_type": "markdown",
   "metadata": {},
   "source": [
    "As before we have that $l_{1,1} = 1$ so $u_{1,1} = a_{1,1}$.<br>\n",
    "But we have that \n",
    "\\begin{equation}\n",
    "A = \\left [  \\begin{array}{cc} \n",
    "                    a_{1,1}  & A_{1,2} \\\\  \n",
    "                    A_{2,1}  & A_{2,2}\n",
    "              \\end{array} \n",
    "   \\right ] =  \\left [  \\begin{array}{cc} \n",
    "                    l_{1,1}u_{1,1}  & l_{1,1}U_{1,2}    \\\\  \n",
    "                    L_{2,1}u_{1,1}  & L_{2,1}U_{1,2} + L_{2,2}U_{2,2} \n",
    "              \\end{array} \n",
    "    \\right ].\n",
    "\\end{equation}\n",
    "which means that\n",
    "$L_{2,1} = A_{2,1}/A_{1,1}$ and $U_{1,2} = A_{1,2}$. \n",
    "\n",
    "We can then save the first row of $U$ and the first columns of $L$ using"
   ]
  },
  {
   "cell_type": "code",
   "execution_count": 29,
   "metadata": {
    "collapsed": false
   },
   "outputs": [],
   "source": [
    "U[1,:] = A[1,:];\n",
    "L[:,1] = A[:,1]/A[1,1];\n",
    "println(\"U = \\n\",U)\n",
    "println(\"L = \\n\",L)"
   ]
  },
  {
   "cell_type": "markdown",
   "metadata": {},
   "source": [
    "Then we have that \n",
    "\\begin{equation}\n",
    "L_{2,2}U_{2,2}  = A_{2,2} - L_{2,1}U_{1,2},\n",
    "\\end{equation}\n",
    "where $L_{2,1}$ and $U_{1,2}$ are known. <br>\n",
    "This means that $L_{2,2}$ and $U_{2,2}$ are the LU factors of the $(n-1\\times n-1)$ matrix $A_{2,2} - L_{2,1}U_{1,2}$.\n",
    "\n",
    "\n",
    "We have \"eliminated\" the first rown and column of A, and we have reduced to problem to finding the LU factors of a smaller matrix.\n",
    "\n",
    "You can write this in Julia as\n"
   ]
  },
  {
   "cell_type": "code",
   "execution_count": 30,
   "metadata": {
    "collapsed": false
   },
   "outputs": [
    {
     "data": {
      "text/plain": [
       "4x4 Array{Float64,2}:\n",
       " 0.0          0.0        0.0       0.0     \n",
       " 0.0          4.57538    0.302606  0.203237\n",
       " 1.11022e-16  0.527397   4.55365   0.688207\n",
       " 0.0          0.789949  -0.111419  4.67047 "
      ]
     },
     "execution_count": 30,
     "metadata": {},
     "output_type": "execute_result"
    }
   ],
   "source": [
    "A[1:end,1:end] = A[1:end,1:end] - L[1:end,1]*U[1,1:end]"
   ]
  },
  {
   "cell_type": "markdown",
   "metadata": {},
   "source": [
    "You can see that the first column and row of $A$ have been eliminated.\n",
    "Now we can apply the same procedure to the modified matrix. <br>\n",
    "We eliminate the second row and second columns."
   ]
  },
  {
   "cell_type": "code",
   "execution_count": 32,
   "metadata": {
    "collapsed": false
   },
   "outputs": [
    {
     "name": "stdout",
     "output_type": "stream",
     "text": [
      "U = \n",
      "[4.515795732150141 0.1473462992329202 0.9229382868909721 0.6027473024579797\n",
      " 0.0 4.5753757918540625 0.3026061920442243 0.20323681100839353\n",
      " 0.0 0.0 0.0 0.0\n",
      " 0.0 0.0 0.0 0.0]\n",
      "L = \n",
      "[1.0 0.0 0.0 0.0\n",
      " 0.10206877123232858 1.0 0.0 0.0\n",
      " 0.1286983851631945 0.1152684829955739 0.0 0.0\n",
      " 0.18873408331909516 0.17265229665492562 0.0 0.0]\n"
     ]
    }
   ],
   "source": [
    "U[2,2:end] = A[2,2:end]\n",
    "L[2:end,2] = A[2:end,2]/A[2,2]\n",
    "println(\"U = \\n\",U)\n",
    "println(\"L = \\n\",L)"
   ]
  },
  {
   "cell_type": "markdown",
   "metadata": {},
   "source": [
    "And we compute the smaller matrix"
   ]
  },
  {
   "cell_type": "code",
   "execution_count": 33,
   "metadata": {
    "collapsed": false
   },
   "outputs": [
    {
     "name": "stdout",
     "output_type": "stream",
     "text": [
      "A_{2,2} = \n",
      "[0.0 0.0 0.0 0.0\n",
      " 0.0 0.0 0.0 0.0\n",
      " 1.1102230246251565e-16 0.0 4.518765388800081 0.6647805365294117\n",
      " 0.0 0.0 -0.16366428712176515 4.63537643958818]\n"
     ]
    }
   ],
   "source": [
    "A[2:end,2:end] = A[2:end,2:end] -  L[2:end,2]*U[2,2:end]\n",
    "println(\"A = \\n\",A)"
   ]
  },
  {
   "cell_type": "markdown",
   "metadata": {},
   "source": [
    "And we continue "
   ]
  },
  {
   "cell_type": "code",
   "execution_count": 35,
   "metadata": {
    "collapsed": false
   },
   "outputs": [
    {
     "name": "stdout",
     "output_type": "stream",
     "text": [
      "U = \n",
      "[4.515795732150141 0.1473462992329202 0.9229382868909721 0.6027473024579797\n",
      " 0.0 4.5753757918540625 0.3026061920442243 0.20323681100839353\n",
      " 0.0 0.0 4.518765388800081 0.6647805365294117\n",
      " 0.0 0.0 0.0 0.0]\n",
      "L = \n",
      "[1.0 0.0 0.0 0.0\n",
      " 0.10206877123232858 1.0 0.0 0.0\n",
      " 0.1286983851631945 0.1152684829955739 1.0 0.0\n",
      " 0.18873408331909516 0.17265229665492562 -0.036218806032154896 0.0]\n"
     ]
    }
   ],
   "source": [
    "U[3,3:end] = A[3,3:end]\n",
    "L[3:end,3] = A[3:end,3]/A[3,3]\n",
    "println(\"U = \\n\",U)\n",
    "println(\"L = \\n\",L)"
   ]
  },
  {
   "cell_type": "markdown",
   "metadata": {},
   "source": [
    "We eliminate another colum and row"
   ]
  },
  {
   "cell_type": "code",
   "execution_count": 37,
   "metadata": {
    "collapsed": false
   },
   "outputs": [
    {
     "data": {
      "text/plain": [
       "2x2 Array{Float64,2}:\n",
       " 0.0  0.0    \n",
       " 0.0  4.65945"
      ]
     },
     "execution_count": 37,
     "metadata": {},
     "output_type": "execute_result"
    }
   ],
   "source": [
    " A[3:end,3:end] = A[3:end,3:end] -  L[3:end,3]*U[3,3:end]\n",
    "println(\"A = \",A)"
   ]
  },
  {
   "cell_type": "code",
   "execution_count": null,
   "metadata": {
    "collapsed": true
   },
   "outputs": [],
   "source": [
    "We need to compute the LU factors of just a number,"
   ]
  },
  {
   "cell_type": "code",
   "execution_count": 38,
   "metadata": {
    "collapsed": false
   },
   "outputs": [
    {
     "name": "stdout",
     "output_type": "stream",
     "text": [
      "8.881784197001252e-16\n"
     ]
    }
   ],
   "source": [
    " L[end,end] = 1\n",
    " U[end,end] = A[end,end]"
   ]
  },
  {
   "cell_type": "markdown",
   "metadata": {},
   "source": [
    "Finally, we check that our LU factorization is accurate"
   ]
  },
  {
   "cell_type": "code",
   "execution_count": 39,
   "metadata": {
    "collapsed": false
   },
   "outputs": [
    {
     "name": "stdout",
     "output_type": "stream",
     "text": [
      "8.881784197001252e-16\n"
     ]
    }
   ],
   "source": [
    "println(maximum(abs(L*U-Acopy)))"
   ]
  },
  {
   "cell_type": "markdown",
   "metadata": {},
   "source": [
    "### Sparse Matrices\n",
    "\n",
    "For homework 7, you will need to manipulate a very simple sparse matrix. \n",
    "\n",
    "A sparse matrix, is a matrix which is sparsely populated, in other words, it has a few non-zero entries per row. \n",
    "When you have a matrix like that, storing all the zeros can become extremely expensive. \n",
    "In order to overcome this problem, we can represent sparse matrices without storing the zeros explicitely. \n",
    "\n",
    "On typical example is the identity matrix, that has a special contructor"
   ]
  },
  {
   "cell_type": "code",
   "execution_count": 41,
   "metadata": {
    "collapsed": false
   },
   "outputs": [
    {
     "data": {
      "text/plain": [
       "4x4 sparse matrix with 4 Float64 entries:\n",
       "\t[1, 1]  =  1.0\n",
       "\t[2, 2]  =  1.0\n",
       "\t[3, 3]  =  1.0\n",
       "\t[4, 4]  =  1.0"
      ]
     },
     "execution_count": 41,
     "metadata": {},
     "output_type": "execute_result"
    }
   ],
   "source": [
    "Isp = speye(m)"
   ]
  },
  {
   "cell_type": "markdown",
   "metadata": {},
   "source": [
    "You can observe that the sparse matrix contains only the non zero elements.\n",
    "\n",
    "This fact is extremely valuable not only for storage (a sparse matrix uses much less memory than its dense counterpart), but for any operation. If a $n\\times n$ sparse matrix has $\\mathcal{O}(1)$ non-zeros per row, or it has only $\\mathcal{O}(n)$ non-zeros entries, then a matrix vector multiplication can be performed in $\\mathcal{O}(n)$ instead of $\\mathcal{O}(n^2)$.<br>\n",
    "\n",
    "You can run the snippet below, and see how the run-times scale with respect to $n$, as $n$ increases"
   ]
  },
  {
   "cell_type": "code",
   "execution_count": 56,
   "metadata": {
    "collapsed": false
   },
   "outputs": [
    {
     "name": "stdout",
     "output_type": "stream",
     "text": [
      "elapsed time: 0.00011385 seconds (80128 bytes allocated)\n",
      "elapsed time: 0.195414481 seconds (80176 bytes allocated)\n"
     ]
    },
    {
     "data": {
      "text/plain": [
       "0.0"
      ]
     },
     "execution_count": 56,
     "metadata": {},
     "output_type": "execute_result"
    }
   ],
   "source": [
    "n = 10000\n",
    "r = rand(n)\n",
    "Msp =  spdiagm(r, 0);\n",
    "M   =   diagm(r,0);\n",
    "b = rand(n,1)\n",
    "@time xsp = Msp*b;\n",
    "@time x =M*b;\n",
    "norm(x-xsp)"
   ]
  },
  {
   "cell_type": "markdown",
   "metadata": {},
   "source": [
    "In julia Sparse matrices behave exaxtly as normal matrices. You can index them, slice them and reorder them.<br>\n",
    "For example you can swap rows by writting"
   ]
  },
  {
   "cell_type": "code",
   "execution_count": 64,
   "metadata": {
    "collapsed": false
   },
   "outputs": [
    {
     "name": "stdout",
     "output_type": "stream",
     "text": [
      "original matrix \n",
      " [1.0 0.0 0.0 0.0\n",
      " 0.0 1.0 0.0 0.0\n",
      " 0.0 0.0 1.0 0.0\n",
      " 0.0 0.0 0.0 1.0]\n",
      "permuted matrix \n",
      "[1.0 0.0 0.0 0.0\n",
      " 0.0 0.0 1.0 0.0\n",
      " 0.0 1.0 0.0 0.0\n",
      " 0.0 0.0 0.0 1.0]\n"
     ]
    }
   ],
   "source": [
    "i = 2;\n",
    "j = 3;\n",
    "\n",
    "Isp = speye(4)\n",
    "# we use full to convert back the sparse amtrix to a dense matrix \n",
    "# so it \"prints\" better in your console\n",
    "println(\"original matrix \\n \",full(Isp))\n",
    "buffer = Isp[i,:]\n",
    "Isp[i,:] = Isp[j,:]\n",
    "Isp[j,:] = buffer\n",
    "println(\"permuted matrix \\n\",full(Isp))"
   ]
  },
  {
   "cell_type": "code",
   "execution_count": null,
   "metadata": {
    "collapsed": true
   },
   "outputs": [],
   "source": []
  }
 ],
 "metadata": {
  "kernelspec": {
   "display_name": "Julia 0.3.10",
   "language": "julia",
   "name": "julia-0.3"
  },
  "language_info": {
   "file_extension": ".jl",
   "mimetype": "application/julia",
   "name": "julia",
   "version": "0.3.10"
  }
 },
 "nbformat": 4,
 "nbformat_minor": 0
}
