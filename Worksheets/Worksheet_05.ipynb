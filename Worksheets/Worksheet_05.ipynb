{
 "cells": [
  {
   "cell_type": "markdown",
   "metadata": {},
   "source": [
    "### Worksheet 5\n",
    "\n",
    "In this worksheet we will compute the inverse of a non-singular matrix using the Gauss-Jordan Method. <br>\n",
    "\n",
    "Computing the inverse of a matrix is extremely usefull when you need to compute the solution of the linear system\n",
    "\\begin{equation}\n",
    "Ax_j = b_j, \\qquad \\mbox{for } j = 1, ..., R.\n",
    "\\end{equation}\n",
    "I.e. you need to solve the same system for many different right-hand sides.\n",
    "\n",
    "If you know the inverse of $A$, denoted $A^{-1}$, then you can easily solve the system for any right-hand side by applying the inverse, $A^{-1}$, which results in \n",
    "\\begin{equation}\n",
    "x_j = A^{-1}b_j.\n",
    "\\end{equation}\n"
   ]
  },
  {
   "cell_type": "markdown",
   "metadata": {},
   "source": [
    "### Gauss-Jordan method\n",
    "\n",
    "You know that a $n\\times n$ matrix $A$ is invertible if and only if, it is row equivalent to an identity matrix, which in in this case is denoted $I_n$. <br>\n",
    "\n",
    "You know that if we apply the Gauss-Jordan method to the augmented matrix $[A, I_n]$, the resulting matrix will have the form $[I_n, A^{-1}]$. Where $A^{-1}$ is the inverse of $A$.\n",
    "\n",
    "In this worksheet we will show you, step by step, how to apply the Gauss-Jordan method to the augmented matrix  $[A, I_n]$, where $n = 4$, and $A$ is a $n \\times n$ randomly generated matrix. <br>\n",
    "\n",
    "For the sake of presentation we will split the computation in two stages, \n",
    "- a downward pass that corresponds to the Gaussian Eliminiation, \n",
    "- and an upwards pass, to obtain the reduced row echelon form. In this stage, the elements above the diagonal will be eliminated and the diagonal elements will be normalized to one. "
   ]
  },
  {
   "cell_type": "code",
   "execution_count": 47,
   "metadata": {
    "collapsed": false
   },
   "outputs": [
    {
     "data": {
      "text/plain": [
       "4x4 Array{Float64,2}:\n",
       " 4.1951     0.908264  0.855442   0.618706 \n",
       " 0.258505   4.46066   0.0740031  0.318408 \n",
       " 0.0332677  0.510741  4.26229    0.0569284\n",
       " 0.103489   0.411466  0.808493   4.73789  "
      ]
     },
     "execution_count": 47,
     "metadata": {},
     "output_type": "execute_result"
    }
   ],
   "source": [
    "n = 4\n",
    "A = rand(n,n) + n*eye(n) # we add a identity to be sure that the matrix is well conditioned"
   ]
  },
  {
   "cell_type": "markdown",
   "metadata": {},
   "source": [
    "and we suppose a $n \\times n$ Identity matrix"
   ]
  },
  {
   "cell_type": "code",
   "execution_count": 48,
   "metadata": {
    "collapsed": false
   },
   "outputs": [
    {
     "data": {
      "text/plain": [
       "4x4 Array{Float64,2}:\n",
       " 1.0  0.0  0.0  0.0\n",
       " 0.0  1.0  0.0  0.0\n",
       " 0.0  0.0  1.0  0.0\n",
       " 0.0  0.0  0.0  1.0"
      ]
     },
     "execution_count": 48,
     "metadata": {},
     "output_type": "execute_result"
    }
   ],
   "source": [
    "I_n = eye(n)"
   ]
  },
  {
   "cell_type": "markdown",
   "metadata": {},
   "source": [
    "In order to perform the Gaussian elimination we build the augmented matrix"
   ]
  },
  {
   "cell_type": "code",
   "execution_count": 49,
   "metadata": {
    "collapsed": false
   },
   "outputs": [
    {
     "data": {
      "text/plain": [
       "4x8 Array{Float64,2}:\n",
       " 4.1951     0.908264  0.855442   0.618706   1.0  0.0  0.0  0.0\n",
       " 0.258505   4.46066   0.0740031  0.318408   0.0  1.0  0.0  0.0\n",
       " 0.0332677  0.510741  4.26229    0.0569284  0.0  0.0  1.0  0.0\n",
       " 0.103489   0.411466  0.808493   4.73789    0.0  0.0  0.0  1.0"
      ]
     },
     "execution_count": 49,
     "metadata": {},
     "output_type": "execute_result"
    }
   ],
   "source": [
    "M = hcat(A,I_n) # or in equivalent fashion M = [A b]"
   ]
  },
  {
   "cell_type": "markdown",
   "metadata": {},
   "source": [
    "We start the first step of the Gaussian elimination. \n",
    "We look for the pivot, i.e. the first non-zero in the first column"
   ]
  },
  {
   "cell_type": "code",
   "execution_count": 50,
   "metadata": {
    "collapsed": false
   },
   "outputs": [
    {
     "data": {
      "text/plain": [
       "4-element Array{Int64,1}:\n",
       " 1\n",
       " 2\n",
       " 3\n",
       " 4"
      ]
     },
     "execution_count": 50,
     "metadata": {},
     "output_type": "execute_result"
    }
   ],
   "source": [
    "i = 1; #first column\n",
    "find(M[i:end,i])"
   ]
  },
  {
   "cell_type": "markdown",
   "metadata": {},
   "source": [
    "The function find provides the indices of all the non zeros elements in the input vector. In this case all of them are non zero, so we don't need to perform a row swap. Then we can start introducing zeros in the first column, below the diagonal. In order to do this we perform a row operation, given by"
   ]
  },
  {
   "cell_type": "code",
   "execution_count": 51,
   "metadata": {
    "collapsed": false
   },
   "outputs": [
    {
     "data": {
      "text/plain": [
       "4x8 Array{Float64,2}:\n",
       " 4.1951     0.908264  0.855442   0.618706    1.0        0.0  0.0  0.0\n",
       " 0.0        4.4047    0.0212902  0.280283   -0.0616207  1.0  0.0  0.0\n",
       " 0.0332677  0.510741  4.26229    0.0569284   0.0        0.0  1.0  0.0\n",
       " 0.103489   0.411466  0.808493   4.73789     0.0        0.0  0.0  1.0"
      ]
     },
     "execution_count": 51,
     "metadata": {},
     "output_type": "execute_result"
    }
   ],
   "source": [
    "M[2,:] = M[2,:] - M[2,1]/M[1,1]*M[1,:]\n",
    "M"
   ]
  },
  {
   "cell_type": "markdown",
   "metadata": {},
   "source": [
    "As you can see we introduced a zero in (2,1).\n",
    "We can repeat this operation with a for for the rest of the column"
   ]
  },
  {
   "cell_type": "code",
   "execution_count": 52,
   "metadata": {
    "collapsed": false
   },
   "outputs": [
    {
     "data": {
      "text/plain": [
       "4x8 Array{Float64,2}:\n",
       " 4.1951  0.908264  0.855442   0.618706   1.0         0.0  0.0  0.0\n",
       " 0.0     4.4047    0.0212902  0.280283  -0.0616207   1.0  0.0  0.0\n",
       " 0.0     0.503539  4.2555     0.052022  -0.00793013  0.0  1.0  0.0\n",
       " 0.0     0.38906   0.78739    4.72263   -0.0246689   0.0  0.0  1.0"
      ]
     },
     "execution_count": 52,
     "metadata": {},
     "output_type": "execute_result"
    }
   ],
   "source": [
    "for j = 1+1:n\n",
    "    M[j,:] = M[j,:] - M[j,1]/M[1,1]*M[1,:]\n",
    "end\n",
    "M"
   ]
  },
  {
   "cell_type": "markdown",
   "metadata": {},
   "source": [
    "You can see that we introduced zeros in the whole first column under the diagonal.<br>\n",
    "Now, we can start with the second row. <br>\n",
    "We check for the first non-zero in the second column, under the diagonal. "
   ]
  },
  {
   "cell_type": "code",
   "execution_count": 53,
   "metadata": {
    "collapsed": false
   },
   "outputs": [
    {
     "data": {
      "text/plain": [
       "1"
      ]
     },
     "execution_count": 53,
     "metadata": {},
     "output_type": "execute_result"
    }
   ],
   "source": [
    "indnz = find(M[2:n,2])[1] # you pick the first index"
   ]
  },
  {
   "cell_type": "markdown",
   "metadata": {},
   "source": [
    "indz is the first non-zero index in the 2nd column starting from the 2nd row (i.e. is a local index) we need to transorm it back to a global index"
   ]
  },
  {
   "cell_type": "code",
   "execution_count": 54,
   "metadata": {
    "collapsed": false
   },
   "outputs": [
    {
     "data": {
      "text/plain": [
       "2"
      ]
     },
     "execution_count": 54,
     "metadata": {},
     "output_type": "execute_result"
    }
   ],
   "source": [
    "indj = 1 + indnz"
   ]
  },
  {
   "cell_type": "markdown",
   "metadata": {},
   "source": [
    "If indj is different from i, this means that $M_{i,i} = 0$ and we need to change the pivot using a row swap"
   ]
  },
  {
   "cell_type": "code",
   "execution_count": 55,
   "metadata": {
    "collapsed": true
   },
   "outputs": [],
   "source": [
    "if indj != 2\n",
    "    buffer = M[2,:]\n",
    "    M[2,:] = M[indj,:]\n",
    "    M[indj,:]  = buffer\n",
    "end"
   ]
  },
  {
   "cell_type": "markdown",
   "metadata": {},
   "source": [
    "Now we are sure that we have a non zero pivot, so we can continue to introduce zeros"
   ]
  },
  {
   "cell_type": "code",
   "execution_count": 56,
   "metadata": {
    "collapsed": false
   },
   "outputs": [
    {
     "data": {
      "text/plain": [
       "4x8 Array{Float64,2}:\n",
       " 4.1951  0.908264     0.855442   …   1.0           0.0        0.0  0.0\n",
       " 0.0     4.4047       0.0212902     -0.0616207     1.0        0.0  0.0\n",
       " 0.0     0.0          4.25307       -0.000885742  -0.114319   1.0  0.0\n",
       " 0.0     5.55112e-17  0.78551       -0.0192261    -0.0883284  0.0  1.0"
      ]
     },
     "execution_count": 56,
     "metadata": {},
     "output_type": "execute_result"
    }
   ],
   "source": [
    "for j = 3:n\n",
    "    M[j,:] = M[j,:] - M[j,2]/M[2,2]*M[2,:]\n",
    "end\n",
    "M"
   ]
  },
  {
   "cell_type": "markdown",
   "metadata": {},
   "source": [
    "Now we can go to third column"
   ]
  },
  {
   "cell_type": "code",
   "execution_count": 57,
   "metadata": {
    "collapsed": false
   },
   "outputs": [
    {
     "data": {
      "text/plain": [
       "4x8 Array{Float64,2}:\n",
       " 4.1951  0.908264     0.855442   0.618706   …   0.0         0.0       0.0\n",
       " 0.0     4.4047       0.0212902  0.280283       1.0         0.0       0.0\n",
       " 0.0     0.0          4.25307    0.0199805     -0.114319    1.0       0.0\n",
       " 0.0     5.55112e-17  0.0        4.69418       -0.0672147  -0.184693  1.0"
      ]
     },
     "execution_count": 57,
     "metadata": {},
     "output_type": "execute_result"
    }
   ],
   "source": [
    "indnz = find(M[3:n,3])[1] # you pick the first index\n",
    "indj = 2 + indnz\n",
    "if indj != 3\n",
    "    buffer = M[3,:]\n",
    "    M[3,:] = M[indj,:]\n",
    "    M[indj,:] = buffer\n",
    "end\n",
    "for j = 4:n\n",
    "    M[j,:] = M[j,:] - M[j,3]/M[3,3]*M[3,:]\n",
    "end\n",
    "M"
   ]
  },
  {
   "cell_type": "markdown",
   "metadata": {},
   "source": [
    "Now we can extract $U$ and $L^{-1}b = b1$ from the augmented matrix"
   ]
  },
  {
   "cell_type": "code",
   "execution_count": 58,
   "metadata": {
    "collapsed": false
   },
   "outputs": [
    {
     "data": {
      "text/plain": [
       "4x4 Array{Float64,2}:\n",
       "  1.0           0.0         0.0       0.0\n",
       " -0.0616207     1.0         0.0       0.0\n",
       " -0.000885742  -0.114319    1.0       0.0\n",
       " -0.0190625    -0.0672147  -0.184693  1.0"
      ]
     },
     "execution_count": 58,
     "metadata": {},
     "output_type": "execute_result"
    }
   ],
   "source": [
    "U = M[1:n,1:n]\n",
    "B = M[1:n,n+1:end]"
   ]
  },
  {
   "cell_type": "markdown",
   "metadata": {},
   "source": [
    "### Reduction to Reduced Row Echelon Form\n",
    "\n",
    "Now we will reduce the augmented matrix to a reduced row echelon form, by eliminating the non-zero coefficients above the diagonal from the bottom to the top. \n",
    "\n"
   ]
  },
  {
   "cell_type": "markdown",
   "metadata": {},
   "source": [
    "We concatenate the matrices"
   ]
  },
  {
   "cell_type": "code",
   "execution_count": 60,
   "metadata": {
    "collapsed": false
   },
   "outputs": [
    {
     "data": {
      "text/plain": [
       "4x8 Array{Float64,2}:\n",
       " 4.1951  0.908264     0.855442   0.618706   …   0.0         0.0       0.0\n",
       " 0.0     4.4047       0.0212902  0.280283       1.0         0.0       0.0\n",
       " 0.0     0.0          4.25307    0.0199805     -0.114319    1.0       0.0\n",
       " 0.0     5.55112e-17  0.0        4.69418       -0.0672147  -0.184693  1.0"
      ]
     },
     "execution_count": 60,
     "metadata": {},
     "output_type": "execute_result"
    }
   ],
   "source": [
    "M = hcat(U,B)"
   ]
  },
  {
   "cell_type": "markdown",
   "metadata": {},
   "source": [
    "We already know that the matrix is invertible (explain why).\n",
    "\n",
    "We normalize the last diagonal element by "
   ]
  },
  {
   "cell_type": "code",
   "execution_count": 61,
   "metadata": {
    "collapsed": false
   },
   "outputs": [
    {
     "data": {
      "text/plain": [
       "1x8 Array{Float64,2}:\n",
       " 0.0  1.18255e-17  0.0  1.0  -0.00406088  -0.0143187  -0.039345  0.21303"
      ]
     },
     "execution_count": 61,
     "metadata": {},
     "output_type": "execute_result"
    }
   ],
   "source": [
    "M[n,:] = M[n,:]/M[n,n]"
   ]
  },
  {
   "cell_type": "markdown",
   "metadata": {},
   "source": [
    "and we perform a for loop to eliminate the entried above the diagonal"
   ]
  },
  {
   "cell_type": "code",
   "execution_count": 62,
   "metadata": {
    "collapsed": false
   },
   "outputs": [
    {
     "data": {
      "text/plain": [
       "4x8 Array{Float64,2}:\n",
       " 4.1951   0.908264     0.855442   0.0  …   0.024343   -0.131803  \n",
       " 0.0      4.4047       0.0212902  0.0      0.0110277  -0.0597085 \n",
       " 0.0     -2.3628e-19   4.25307    0.0      1.00079    -0.00425643\n",
       " 0.0      1.18255e-17  0.0        1.0     -0.039345    0.21303   "
      ]
     },
     "execution_count": 62,
     "metadata": {},
     "output_type": "execute_result"
    }
   ],
   "source": [
    "for i=n-1:-1:1\n",
    "    M[i,:] = M[i,:] - M[i,n]*M[n,:]\n",
    "end\n",
    "M"
   ]
  },
  {
   "cell_type": "markdown",
   "metadata": {},
   "source": [
    "and for the second to last column"
   ]
  },
  {
   "cell_type": "code",
   "execution_count": 63,
   "metadata": {
    "collapsed": false
   },
   "outputs": [
    {
     "data": {
      "text/plain": [
       "4x8 Array{Float64,2}:\n",
       " 4.1951   0.908264     0.0  0.0   1.00267      …  -0.17695     -0.130947  \n",
       " 0.0      4.4047       0.0  0.0  -0.0604785        0.00601795  -0.0596872 \n",
       " 0.0     -5.55551e-20  1.0  0.0  -0.000189182      0.235309    -0.00100079\n",
       " 0.0      1.18255e-17  0.0  1.0  -0.00406088      -0.039345     0.21303   "
      ]
     },
     "execution_count": 63,
     "metadata": {},
     "output_type": "execute_result"
    }
   ],
   "source": [
    "M[n-1,:] = M[n-1,:]/M[n-1,n-1]\n",
    "for i=(n-1)-1:-1:1\n",
    "    M[i,:] = M[i,:] - M[i,n-1]*M[n-1,:]\n",
    "end\n",
    "M"
   ]
  },
  {
   "cell_type": "markdown",
   "metadata": {},
   "source": [
    "and the third to last column"
   ]
  },
  {
   "cell_type": "code",
   "execution_count": 64,
   "metadata": {
    "collapsed": false
   },
   "outputs": [
    {
     "data": {
      "text/plain": [
       "4x8 Array{Float64,2}:\n",
       " 4.1951   0.0          0.0  0.0   1.01515      …  -0.178191    -0.118639  \n",
       " 0.0      1.0          0.0  0.0  -0.0137305        0.00136626  -0.0135508 \n",
       " 0.0     -5.55551e-20  1.0  0.0  -0.000189182      0.235309    -0.00100079\n",
       " 0.0      1.18255e-17  0.0  1.0  -0.00406088      -0.039345     0.21303   "
      ]
     },
     "execution_count": 64,
     "metadata": {},
     "output_type": "execute_result"
    }
   ],
   "source": [
    "M[n-2,:] = M[n-2,:]/M[n-2,n-2]\n",
    "for i=(n-2)-1:-1:1\n",
    "    M[i,:] = M[i,:] - M[i,n-2]*M[n-2,:]\n",
    "end\n",
    "M"
   ]
  },
  {
   "cell_type": "markdown",
   "metadata": {
    "collapsed": false
   },
   "source": [
    "Finally we normalize the first diagonal entry"
   ]
  },
  {
   "cell_type": "code",
   "execution_count": 65,
   "metadata": {
    "collapsed": false
   },
   "outputs": [
    {
     "data": {
      "text/plain": [
       "4x8 Array{Float64,2}:\n",
       " 1.0   0.0          0.0  0.0   0.241984     …  -0.0424761   -0.0282804 \n",
       " 0.0   1.0          0.0  0.0  -0.0137305        0.00136626  -0.0135508 \n",
       " 0.0  -5.55551e-20  1.0  0.0  -0.000189182      0.235309    -0.00100079\n",
       " 0.0   1.18255e-17  0.0  1.0  -0.00406088      -0.039345     0.21303   "
      ]
     },
     "execution_count": 65,
     "metadata": {},
     "output_type": "execute_result"
    }
   ],
   "source": [
    "M[1,:] = M[1,:]/M[1,1]\n",
    "M"
   ]
  },
  {
   "cell_type": "markdown",
   "metadata": {},
   "source": [
    "We can then split the augmented matrix, in the quasi identity matrix and the inverse of A,"
   ]
  },
  {
   "cell_type": "code",
   "execution_count": 66,
   "metadata": {
    "collapsed": false
   },
   "outputs": [
    {
     "data": {
      "text/plain": [
       "4x4 Array{Float64,2}:\n",
       "  0.241984     -0.0417997  -0.0424761   -0.0282804 \n",
       " -0.0137305     0.228071    0.00136626  -0.0135508 \n",
       " -0.000189182  -0.0268118   0.235309    -0.00100079\n",
       " -0.00406088   -0.0143187  -0.039345     0.21303   "
      ]
     },
     "execution_count": 66,
     "metadata": {},
     "output_type": "execute_result"
    }
   ],
   "source": [
    "I = M[1:n,1:n]\n",
    "Ainv = M[1:n,n+1:end]"
   ]
  },
  {
   "cell_type": "markdown",
   "metadata": {},
   "source": [
    "We can check how far from the indentity I is by computing"
   ]
  },
  {
   "cell_type": "code",
   "execution_count": 67,
   "metadata": {
    "collapsed": false
   },
   "outputs": [
    {
     "name": "stdout",
     "output_type": "stream",
     "text": [
      "Distance in L2 norm to the identity is 1"
     ]
    }
   ],
   "source": [
    "println(\"Distance in L2 norm to the identity is \", norm(I-eye(n)))"
   ]
  },
  {
   "cell_type": "markdown",
   "metadata": {},
   "source": [
    "We can test the Ainv is the inverse of A by testing"
   ]
  },
  {
   "cell_type": "code",
   "execution_count": 68,
   "metadata": {
    "collapsed": false
   },
   "outputs": [],
   "source": [
    "@assert norm(A*Ainv- eye(n)) < n*eps(1.0)"
   ]
  },
  {
   "cell_type": "markdown",
   "metadata": {},
   "source": [
    "The macro assert will test if your condition is true, if it is true it will continue otherwise it will raise an error. <br>\n",
    "\n",
    "We can use Ainv to solve linear systems fast (after Ainv has been computed)"
   ]
  },
  {
   "cell_type": "code",
   "execution_count": 71,
   "metadata": {
    "collapsed": false
   },
   "outputs": [
    {
     "name": "stdout",
     "output_type": "stream",
     "text": [
      "Residual of the solution computed with the inverse is 2.5438405243138006e-16\n"
     ]
    }
   ],
   "source": [
    "b = randn(n,1)\n",
    "x = Ainv*b;\n",
    "println(\"Residual of the solution computed with the inverse is \", norm(A*x - b))"
   ]
  },
  {
   "cell_type": "markdown",
   "metadata": {
    "collapsed": true
   },
   "source": [
    "In particular you can solve multiple righ-hand sides simultaneously. In such cases you can stack the right-hand sides in a matrix of the form \n",
    "\\begin{equation}\n",
    "B = [b_1| b_2| ...| b_R],\n",
    "\\end{equation}\n",
    "and you can stack the solutions \n",
    "\\begin{equation}\n",
    "X = [x_1| x_2| ...| x_R].\n",
    "\\end{equation}\n",
    "With the notation introduced above you can write the solution of the muliple linear systems as \n",
    "\\begin{equation}\n",
    "AX=B.\n",
    "\\end{equation}\n",
    "\n",
    "If you have the inverse you can easily find the solution, by applying $A^{-1}$ to $B$."
   ]
  },
  {
   "cell_type": "code",
   "execution_count": 73,
   "metadata": {
    "collapsed": false
   },
   "outputs": [
    {
     "name": "stdout",
     "output_type": "stream",
     "text": [
      "Residual of the solution computed with the inverse is 5.731849917315797e-16\n"
     ]
    }
   ],
   "source": [
    "B = randn(n,5)\n",
    "X = Ainv*B;\n",
    "println(\"Residual of the solution computed with the inverse is \", norm(A*X - B))"
   ]
  }
 ],
 "metadata": {
  "kernelspec": {
   "display_name": "Julia 0.4.0",
   "language": "julia",
   "name": "julia-0.4"
  },
  "language_info": {
   "file_extension": ".jl",
   "mimetype": "application/julia",
   "name": "julia",
   "version": "0.4.0"
  }
 },
 "nbformat": 4,
 "nbformat_minor": 0
}
