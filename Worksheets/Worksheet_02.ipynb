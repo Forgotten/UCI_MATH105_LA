{
 "cells": [
  {
   "cell_type": "markdown",
   "metadata": {},
   "source": [
    "# Worksheet 2"
   ]
  },
  {
   "cell_type": "markdown",
   "metadata": {},
   "source": [
    "We will introduce some new Julia functions. In particular we will see how to use recursions and loops through a small example.\n",
    "\n"
   ]
  },
  {
   "cell_type": "markdown",
   "metadata": {},
   "source": [
    "## Computing  $\\sum_{i=1}^{n} i$\n",
    "\n",
    "First we will warm up your Julia knowledge by showing you how to compute $\\sum_{i=1}^{n} i$. There is a well known formula due to Gauss that reads: (more details in https://en.wikipedia.org/wiki/1_%2B_2_%2B_3_%2B_4_%2B_%E2%8B%AF)\n",
    "\n",
    "\\begin{equation}\n",
    "    \\sum_{i=1}^{n} i  = \\frac{n(n+1)}{2}.\n",
    "\\end{equation}\n",
    "\n",
    "The proof normally needs recursion; however, we will do a proof \"by intimidation\". We will write a small function that computes the former and test it against the formula, and see that they match even for large $n$.\n",
    "\n",
    "One extremely easy although suboptimal way of computing $\\sum_{i=1}^{n} i$ is to write"
   ]
  },
  {
   "cell_type": "code",
   "execution_count": null,
   "metadata": {
    "collapsed": false
   },
   "outputs": [],
   "source": [
    "n = 11\n",
    "sum([1:n])"
   ]
  },
  {
   "cell_type": "markdown",
   "metadata": {},
   "source": [
    "This is suboptimal because it needs to allocate the vector $[1:n]$, which is $[1 ,2 ,3 ,4..., n-1, n]$, and then add all the components. This means that we need $\\cal{O}(n)$ memory. You can see this problem by running the macro @time, which computes the time and the memory allocation of the function. You can run the snippet below for different $n$ and you should observe that more bytes are being allocated as $n$ increases (the number whoud grow linearly with $n$)."
   ]
  },
  {
   "cell_type": "code",
   "execution_count": null,
   "metadata": {
    "collapsed": false
   },
   "outputs": [],
   "source": [
    "n = 100\n",
    "@time sum([1:n])"
   ]
  },
  {
   "cell_type": "markdown",
   "metadata": {},
   "source": [
    "We can perform the sum using a loop only requiring $\\cal{O}(1)$ memory."
   ]
  },
  {
   "cell_type": "code",
   "execution_count": null,
   "metadata": {
    "collapsed": false
   },
   "outputs": [],
   "source": [
    "function sumLoop(n)\n",
    "    result = 0.0\n",
    "    for i = 1:n\n",
    "        result = result + i\n",
    "    end\n",
    "    return result\n",
    "end"
   ]
  },
  {
   "cell_type": "markdown",
   "metadata": {},
   "source": [
    "You can easily test that the two functions provide the same result by running"
   ]
  },
  {
   "cell_type": "code",
   "execution_count": null,
   "metadata": {
    "collapsed": false
   },
   "outputs": [],
   "source": [
    "sumLoop(n) - sum(1:n)"
   ]
  },
  {
   "cell_type": "markdown",
   "metadata": {},
   "source": [
    "Now you can see the memory footprint of the new function by running "
   ]
  },
  {
   "cell_type": "code",
   "execution_count": null,
   "metadata": {
    "collapsed": false
   },
   "outputs": [],
   "source": [
    "n = 100\n",
    "@time sumLoop(n)"
   ]
  },
  {
   "cell_type": "markdown",
   "metadata": {},
   "source": [
    "You can increase $n$ as much as you want and the memory allocated will be independent of $n$. Now that we have a good algorithm to compute $\\sum_{i=1}^{n} i$ we will test if the formula is correct by running "
   ]
  },
  {
   "cell_type": "code",
   "execution_count": null,
   "metadata": {
    "collapsed": false
   },
   "outputs": [],
   "source": [
    "n = 100000000\n",
    "resultFromLoop = sumLoop(n) \n",
    "resultFromFormula = n*(n+1)/2\n",
    "print(\"Result from Loop = \",resultFromLoop, \"\\n\" )\n",
    "print(\"Result from Formula = \",resultFromFormula, \"\\n\" )\n",
    "print(\"Difference between both results  = \",(resultFromLoop-resultFromFormula)/resultFromFormula, \"\\n\" )"
   ]
  },
  {
   "cell_type": "markdown",
   "metadata": {},
   "source": [
    "## Fibonacci numbers\n",
    "\n",
    "Now that you have warmed up, you will need to compute the Fibonacci sequence (https://en.wikipedia.org/wiki/Fibonacci_number)\n",
    "\n",
    "\\begin{equation}\n",
    "1,1,2,3,5,8,13,21,...\n",
    "\\end{equation}\n",
    "\n",
    "Now the function below computes the $N$-th term of the Fibonacci sequence"
   ]
  },
  {
   "cell_type": "code",
   "execution_count": null,
   "metadata": {
    "collapsed": false
   },
   "outputs": [],
   "source": [
    "function fibonacciLoop(n)\n",
    "    fibn, fibn_p1 = (0,1) # nth and n+1th fibonacci numbers\n",
    "    for i = 1:n    # defining a loop from 1 to n, with a default spacing of 1\n",
    "        fibn,fibn_p1 = (fibn_p1, fibn+fibn_p1) # computing the nex number of the series\n",
    "  end\n",
    "  return fibn\n",
    "end"
   ]
  },
  {
   "cell_type": "markdown",
   "metadata": {},
   "source": [
    "You can see that in order to reduce space and make the code more readable we useda block declaration within the function and within the loop"
   ]
  },
  {
   "cell_type": "code",
   "execution_count": null,
   "metadata": {
    "collapsed": false
   },
   "outputs": [],
   "source": [
    "a,b = (1,2)\n",
    "print(a, \"\\n\")\n",
    "print(b, \"\\n\")"
   ]
  },
  {
   "cell_type": "markdown",
   "metadata": {},
   "source": [
    "You can see that in the example above, we declared and assigned a = 1 and b = 2, which is equivalent to "
   ]
  },
  {
   "cell_type": "code",
   "execution_count": null,
   "metadata": {
    "collapsed": false
   },
   "outputs": [],
   "source": [
    "a = 1\n",
    "b = 2\n",
    "print(a, \"\\n\")\n",
    "print(b, \"\\n\")"
   ]
  },
  {
   "cell_type": "markdown",
   "metadata": {},
   "source": [
    "We can use the same syntax to perform different operations such as:"
   ]
  },
  {
   "cell_type": "code",
   "execution_count": null,
   "metadata": {
    "collapsed": false
   },
   "outputs": [],
   "source": [
    "a,b = (b,a+b)\n",
    "print(a, \"\\n\")\n",
    "print(b, \"\\n\")"
   ]
  },
  {
   "cell_type": "markdown",
   "metadata": {},
   "source": [
    "This piece of code assigns the value value of b to a, and the value of a plus b to b. In other words, we are updating the values of a and b."
   ]
  },
  {
   "cell_type": "markdown",
   "metadata": {},
   "source": [
    "Now you can check the validity of the fibonacciLoop function by runnin"
   ]
  },
  {
   "cell_type": "code",
   "execution_count": null,
   "metadata": {
    "collapsed": false
   },
   "outputs": [],
   "source": [
    "fibonacciLoop(8)"
   ]
  },
  {
   "cell_type": "markdown",
   "metadata": {},
   "source": [
    "We can define a recursive function (a function that calls itself)"
   ]
  },
  {
   "cell_type": "code",
   "execution_count": null,
   "metadata": {
    "collapsed": false
   },
   "outputs": [],
   "source": [
    "fibonacciRec(n) = n < 2 ? n : fibonacciRec(n-1) + fibonacciRec(n-2)"
   ]
  },
  {
   "cell_type": "markdown",
   "metadata": {},
   "source": [
    "You can check that both functions provide the same answer"
   ]
  },
  {
   "cell_type": "code",
   "execution_count": null,
   "metadata": {
    "collapsed": false
   },
   "outputs": [],
   "source": [
    "fibonacciRec(8)"
   ]
  },
  {
   "cell_type": "markdown",
   "metadata": {},
   "source": [
    "For different implementation of the Fibonacci sequence please see http://www.scriptol.com/programming/fibonacci.php.\n",
    "\n",
    "Morover, as you know, the Fibonacci sequence is the solution of a finite difference equation given by:\n",
    "\n",
    "\\begin{equation}\n",
    "f_{n+1} = f_{n} + f_{n-1} \n",
    "\\end{equation}\n",
    "\n",
    "with boundary conditions $f_1 = 1$, $f_2 = 1$.\n",
    "\n",
    "Show that the answer for this equation can be found in closed form. The explicit formula that is given by \n",
    "\\begin{equation}\n",
    "f_n = \\frac{1}{\\sqrt{5}} \\left [  \\left (  \\frac{1+\\sqrt{5}}{2} \\right )^n  -   \\left ( \\frac{1-\\sqrt{5}}{2} \\right )^n \\right].\n",
    "\\end{equation}\n"
   ]
  },
  {
   "cell_type": "code",
   "execution_count": null,
   "metadata": {
    "collapsed": false
   },
   "outputs": [],
   "source": [
    "function fibonacciFormula(n)\n",
    "    return 1/sqrt(5)*(((1+sqrt(5))/2)^n - ((1-sqrt(5))/2)^n)\n",
    "end"
   ]
  },
  {
   "cell_type": "markdown",
   "metadata": {},
   "source": [
    "This gives a closed formula; however, the formula implies the multiplication by irrational numbers. These irrational numbers can not the excatly expressed using floating point numbers, so we are introducing some errors, and then multiplying those errors together. You can check the errors introduced by running "
   ]
  },
  {
   "cell_type": "code",
   "execution_count": null,
   "metadata": {
    "collapsed": false
   },
   "outputs": [],
   "source": [
    "print(\"Absolute error = \", abs(fibonacciFormula(40) - fibonacciRec(40)),\"\\n\")\n",
    "print(\"Relative error = \", abs(fibonacciFormula(40) - fibonacciRec(40))/fibonacciRec(40),\"\\n\")"
   ]
  },
  {
   "cell_type": "markdown",
   "metadata": {},
   "source": [
    "They provide the same result up to machine precission; however, we can check that the formula approach is much faster, to test how fast they are we will use the macro @time"
   ]
  },
  {
   "cell_type": "code",
   "execution_count": null,
   "metadata": {
    "collapsed": false
   },
   "outputs": [],
   "source": [
    "@time fibonacciFormula(8)\n",
    "@time fibonacciRec(8)"
   ]
  },
  {
   "cell_type": "markdown",
   "metadata": {},
   "source": [
    "As you can see, the two functions are almost as fast, (in fact fibonacciFormula lags a bit behind); however, if we try a bigger number"
   ]
  },
  {
   "cell_type": "code",
   "execution_count": null,
   "metadata": {
    "collapsed": false
   },
   "outputs": [],
   "source": [
    "@time fibonacciFormula(40)\n",
    "@time fibonacciRec(40)"
   ]
  },
  {
   "cell_type": "markdown",
   "metadata": {},
   "source": [
    "Now you can observe that fibonacciFormula is 5 order of magnitude faster that the recursive Function. "
   ]
  },
  {
   "cell_type": "markdown",
   "metadata": {
    "collapsed": false
   },
   "source": [
    "Now we can try to time the iterative function "
   ]
  },
  {
   "cell_type": "code",
   "execution_count": null,
   "metadata": {
    "collapsed": false
   },
   "outputs": [],
   "source": [
    "@time fibonacciLoop(200)"
   ]
  },
  {
   "cell_type": "markdown",
   "metadata": {
    "collapsed": true
   },
   "source": [
    "You can see that the iterative function is extremely fast but it provides a wrong answer. How is that possible? \n",
    "\n",
    "    "
   ]
  },
  {
   "cell_type": "markdown",
   "metadata": {},
   "source": [
    "Answer : The Fibonacci series grows fast, then after a while it gets out of range for int64."
   ]
  },
  {
   "cell_type": "markdown",
   "metadata": {},
   "source": [
    "\n",
    "We will modify fibonacciLoop2 slighlty to provide a better answer. "
   ]
  },
  {
   "cell_type": "code",
   "execution_count": null,
   "metadata": {
    "collapsed": false
   },
   "outputs": [],
   "source": [
    "function fibonacciLoop2(n)\n",
    "    fibn, fibn_p1 = (0.0,1.0) # nth and n+1th fibonacci numbers\n",
    "    for i = 1:n    # defining a loop from 1 to n, with a default spacing of 1\n",
    "    fibn,fibn_p1 = (fibn_p1, fibn+fibn_p1)\n",
    "  end\n",
    "  return fibn\n",
    "end"
   ]
  },
  {
   "cell_type": "markdown",
   "metadata": {},
   "source": [
    "Can you explain the difference? \n",
    "In the first algorithm, all the arithmetic is performed using Int64 numbers. 0 is an Int64 and everything is added is an Int64. In the second version, by defining fibn, fibn_p1 = (0.0,1.0) we are forcing the algorithm to use Float64, that have a much greater range. \n",
    "\n",
    "Now we can test the difference between Fibonacci using a loop and the formula."
   ]
  },
  {
   "cell_type": "code",
   "execution_count": null,
   "metadata": {
    "collapsed": false
   },
   "outputs": [],
   "source": [
    "print(\"Absolute error = \", (fibonacciLoop2(300) - fibonacciFormula(300)), \"\\n\")\n",
    "print(\"Relative error = \", (fibonacciLoop2(300) - fibonacciFormula(300))/fibonacciFormula(300))"
   ]
  },
  {
   "cell_type": "markdown",
   "metadata": {},
   "source": [
    "this means that both algorithms provide the same answer up to machine precission."
   ]
  },
  {
   "cell_type": "code",
   "execution_count": null,
   "metadata": {
    "collapsed": true
   },
   "outputs": [],
   "source": []
  },
  {
   "cell_type": "markdown",
   "metadata": {},
   "source": [
    "## Computing n!\n",
    "\n",
    "Now that you have been exposed to the syntax of Julia, write two functions, one iterative and other recursive to compute $n!$"
   ]
  },
  {
   "cell_type": "code",
   "execution_count": null,
   "metadata": {
    "collapsed": false
   },
   "outputs": [],
   "source": [
    "function factorialLoop(n)\n",
    "    nFac = 1\n",
    "    for ii = 1:n\n",
    "        nFac *= ii  # this is equal to nFac = nFac * ii\n",
    "    end\n",
    "    return nFac\n",
    "end"
   ]
  },
  {
   "cell_type": "code",
   "execution_count": null,
   "metadata": {
    "collapsed": false
   },
   "outputs": [],
   "source": [
    "factorialRec(n) = n < 2 ? 1 : n*factorialRec(n-1)"
   ]
  },
  {
   "cell_type": "markdown",
   "metadata": {},
   "source": [
    "Test your functions using the Julia function factorial"
   ]
  },
  {
   "cell_type": "code",
   "execution_count": null,
   "metadata": {
    "collapsed": false
   },
   "outputs": [],
   "source": [
    "n = 17\n",
    "print(\"error for iterative factorial = \", abs(factorial(n) - factorialLoop(n)), \"\\n\")\n",
    "print(\"error for recursive factorial = \", abs(factorial(n) - factorialRec(n)), \"\\n\")"
   ]
  },
  {
   "cell_type": "markdown",
   "metadata": {},
   "source": [
    "We will write a function, such that if for a number $m$ you will compute the largest integer $n$ such that $n! \\leq m$"
   ]
  },
  {
   "cell_type": "code",
   "execution_count": null,
   "metadata": {
    "collapsed": false
   },
   "outputs": [],
   "source": [
    "function findLargerInteger(m)\n",
    "    largest = 1;\n",
    "    while (true)   # we iterate until we find it\n",
    "        if factorial(largest+1) > m\n",
    "            break    # if the next factorial is bigger than m, then we stop\n",
    "        else   # it the next on is smaller than m, we continue searching\n",
    "            largest = largest+1; # we test if the next one is the biggest\n",
    "        end\n",
    "    end\n",
    "    return largest\n",
    "end"
   ]
  },
  {
   "cell_type": "markdown",
   "metadata": {},
   "source": [
    "We can test the function by running"
   ]
  },
  {
   "cell_type": "code",
   "execution_count": null,
   "metadata": {
    "collapsed": false
   },
   "outputs": [],
   "source": [
    "m = factorial(10)\n",
    "findLargerInteger(m)"
   ]
  },
  {
   "cell_type": "markdown",
   "metadata": {},
   "source": [
    "## Computing $\\int_a^b f(x) dx$\n",
    "\n",
    "Now we are going to extend what was done in last lab. We can define the function integrateRectangle that will approximate\n",
    "\n",
    "\\begin{equation}\n",
    "\\int_a^b f(x) dx \n",
    "\\end{equation}\n",
    "\n",
    "via $\\sum_{i = 1}^{N}f(x_i) h$; where $x_i = a + (i-1/2)h$ and $ h = (b-a)/N$"
   ]
  },
  {
   "cell_type": "code",
   "execution_count": null,
   "metadata": {
    "collapsed": false
   },
   "outputs": [],
   "source": [
    "function integrateRectangle(f, interval, Npoints)\n",
    "    h = (interval[2]-interval[1])/Npoints # compute the space step\n",
    "    Xquad = interval[1] + [1/2:1:Npoints-1/2]*h  # compute the quadrature points\n",
    "    fquad = f(Xquad)   # evaluate the function at the quadrature points\n",
    "    return sum(fquad)*h # sum everything and multiply by the weights\n",
    "end"
   ]
  },
  {
   "cell_type": "markdown",
   "metadata": {},
   "source": [
    "As you can see, a function can receive a function as an argument. Now you can use this function to compute integral numerically using the Rectangle Method https://en.wikipedia.org/wiki/Rectangle_method. "
   ]
  },
  {
   "cell_type": "markdown",
   "metadata": {
    "collapsed": false
   },
   "source": []
  }
 ],
 "metadata": {
  "kernelspec": {
   "display_name": "Julia 0.3.11",
   "language": "julia",
   "name": "julia-0.3"
  },
  "language_info": {
   "file_extension": ".jl",
   "mimetype": "application/julia",
   "name": "julia",
   "version": "0.3.11"
  }
 },
 "nbformat": 4,
 "nbformat_minor": 0
}
