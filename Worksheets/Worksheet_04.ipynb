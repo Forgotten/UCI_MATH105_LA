{
 "cells": [
  {
   "cell_type": "markdown",
   "metadata": {},
   "source": [
    "### Worksheet 4\n",
    "\n",
    "In this worksheet we will provide you with some basics to understand the Gaussian Elimination. <br>\n",
    "\n",
    "We seek to solve the linear system given by\n",
    "\\begin{equation}\n",
    "Ax = b,\n",
    "\\end{equation}\n",
    "In general, to solve such systems we would like to transform the system to a more convenient form.<br>\n",
    "This is generally done by computing a factorization of the Matrix, LU,Cholesky, LDL, etc. <br>\n",
    "\n",
    "In the case of the Gaussian elimination, we transform $A$ to a upper triangular matrix. This process is equivalent to multiply the system by a lower triangular matrix\n",
    "\\begin{equation}\n",
    "L^{-1}Ax = L^{-1}b,\n",
    "\\end{equation}\n",
    "such that the resulting system is given by \n",
    "\\begin{equation}\n",
    "Ux = L^{-1}b,\n",
    "\\end{equation}\n",
    "where $U$ is an upper triangular matrix. <br>\n",
    "\n",
    "Gaussian elimination will perform the same operation using the augmented matrix (without the Matrix $L$).\n",
    "\n",
    "Once the system is reduced to this form, we use a triangular solver (or backwards substitution to find $x$). <br>\n",
    "\\begin{equation}\n",
    "x = U^{-1}( L^{-1}b).\n",
    "\\end{equation}\n",
    "\n",
    "### Linear Solvers\n",
    "\n",
    "Then we can divide the solution of $Ax = b$ in two stages: \n",
    "- Reduction to a triangular form (Gaussian Elimination);\n",
    "- Triangular solve (backward subtitution).\n"
   ]
  },
  {
   "cell_type": "markdown",
   "metadata": {},
   "source": [
    "### Gaussian Elimination\n",
    "\n",
    "We present an example of Gaussian Elimination using a randomly generated $4\\times 4$ matrix"
   ]
  },
  {
   "cell_type": "code",
   "execution_count": 20,
   "metadata": {
    "collapsed": false
   },
   "outputs": [
    {
     "data": {
      "text/plain": [
       "4x4 Array{Float64,2}:\n",
       " 4.6126    0.00425747  0.976279  0.563531\n",
       " 0.67515   4.292       0.567439  0.724985\n",
       " 0.421752  0.344754    4.19598   0.116179\n",
       " 0.331095  0.30775     0.613042  4.64796 "
      ]
     },
     "execution_count": 20,
     "metadata": {},
     "output_type": "execute_result"
    }
   ],
   "source": [
    "n = 4\n",
    "A = rand(n,n) + n*eye(n) # we add a identity to be sure that the matrix is invertible"
   ]
  },
  {
   "cell_type": "markdown",
   "metadata": {},
   "source": [
    "and we suppose a $5 \\times 1$ right hand size $b$, given by "
   ]
  },
  {
   "cell_type": "code",
   "execution_count": 21,
   "metadata": {
    "collapsed": false
   },
   "outputs": [
    {
     "data": {
      "text/plain": [
       "4x1 Array{Float64,2}:\n",
       " 0.750717\n",
       " 0.668677\n",
       " 0.448934\n",
       " 0.573083"
      ]
     },
     "execution_count": 21,
     "metadata": {},
     "output_type": "execute_result"
    }
   ],
   "source": [
    "b = rand(n,1)"
   ]
  },
  {
   "cell_type": "markdown",
   "metadata": {},
   "source": [
    "In order to perform the Gaussian elimination we build the augmented matrix"
   ]
  },
  {
   "cell_type": "code",
   "execution_count": 52,
   "metadata": {
    "collapsed": false
   },
   "outputs": [
    {
     "data": {
      "text/plain": [
       "4x5 Array{Float64,2}:\n",
       " 4.6126    0.00425747  0.976279  0.563531  0.750717\n",
       " 0.67515   4.292       0.567439  0.724985  0.668677\n",
       " 0.421752  0.344754    4.19598   0.116179  0.448934\n",
       " 0.331095  0.30775     0.613042  4.64796   0.573083"
      ]
     },
     "execution_count": 52,
     "metadata": {},
     "output_type": "execute_result"
    }
   ],
   "source": [
    "M = hcat(A,b) # or in equivalent fashion M = [A b]"
   ]
  },
  {
   "cell_type": "markdown",
   "metadata": {},
   "source": [
    "We start the first step of the Gaussian elimination. \n",
    "We look for the pivot, i.e. the first non-zero in the first column"
   ]
  },
  {
   "cell_type": "code",
   "execution_count": 53,
   "metadata": {
    "collapsed": false
   },
   "outputs": [
    {
     "data": {
      "text/plain": [
       "4-element Array{Int64,1}:\n",
       " 1\n",
       " 2\n",
       " 3\n",
       " 4"
      ]
     },
     "execution_count": 53,
     "metadata": {},
     "output_type": "execute_result"
    }
   ],
   "source": [
    "i = 1; #first column\n",
    "find(M[i:end,i])"
   ]
  },
  {
   "cell_type": "markdown",
   "metadata": {},
   "source": [
    "The function find provides the indices of all the non zeros elements in the input vector. In this case all of them are non zero, so we don't need to perform a row swap. Then we can start introducing zeros in the first column, below the diagonal. In order to do this we perform a row operation, given by"
   ]
  },
  {
   "cell_type": "code",
   "execution_count": 54,
   "metadata": {
    "collapsed": false
   },
   "outputs": [
    {
     "data": {
      "text/plain": [
       "4x5 Array{Float64,2}:\n",
       " 4.6126    0.00425747  0.976279  0.563531  0.750717\n",
       " 0.0       4.29138     0.424541  0.6425    0.558794\n",
       " 0.421752  0.344754    4.19598   0.116179  0.448934\n",
       " 0.331095  0.30775     0.613042  4.64796   0.573083"
      ]
     },
     "execution_count": 54,
     "metadata": {},
     "output_type": "execute_result"
    }
   ],
   "source": [
    "M[2,:] = M[2,:] - M[2,1]/M[1,1]*M[1,:]\n",
    "M"
   ]
  },
  {
   "cell_type": "markdown",
   "metadata": {},
   "source": [
    "As you can see we introduced a zero in (2,1).\n",
    "We can repeat this operation with a for for the rest of the column"
   ]
  },
  {
   "cell_type": "code",
   "execution_count": 55,
   "metadata": {
    "collapsed": false
   },
   "outputs": [
    {
     "data": {
      "text/plain": [
       "4x5 Array{Float64,2}:\n",
       " 4.6126  0.00425747  0.976279  0.563531   0.750717\n",
       " 0.0     4.29138     0.424541  0.6425     0.558794\n",
       " 0.0     0.344365    4.10671   0.0646523  0.380292\n",
       " 0.0     0.307445    0.542965  4.60751    0.519197"
      ]
     },
     "execution_count": 55,
     "metadata": {},
     "output_type": "execute_result"
    }
   ],
   "source": [
    "for j = 1+1:n\n",
    "    M[j,:] = M[j,:] - M[j,1]/M[1,1]*M[1,:]\n",
    "end\n",
    "M"
   ]
  },
  {
   "cell_type": "markdown",
   "metadata": {},
   "source": [
    "You can see that we introduced zeros in the whole first column under the diagonal.<br>\n",
    "Now, we can start with the second row. <br>\n",
    "We check for the first non-zero in the second column, under the diagonal. "
   ]
  },
  {
   "cell_type": "code",
   "execution_count": 57,
   "metadata": {
    "collapsed": false
   },
   "outputs": [
    {
     "data": {
      "text/plain": [
       "1"
      ]
     },
     "execution_count": 57,
     "metadata": {},
     "output_type": "execute_result"
    }
   ],
   "source": [
    "indnz = find(M[2:n,2])[1] # you pick the first index"
   ]
  },
  {
   "cell_type": "markdown",
   "metadata": {},
   "source": [
    "indz is the first non-zero index in the 2nd column starting from the 2nd row (i.e. is a local index) we need to transorm it back to a global index"
   ]
  },
  {
   "cell_type": "code",
   "execution_count": 58,
   "metadata": {
    "collapsed": false
   },
   "outputs": [
    {
     "data": {
      "text/plain": [
       "2"
      ]
     },
     "execution_count": 58,
     "metadata": {},
     "output_type": "execute_result"
    }
   ],
   "source": [
    "indj = 1 + indnz"
   ]
  },
  {
   "cell_type": "markdown",
   "metadata": {},
   "source": [
    "If indj is different from i, this means that $M_{i,i} = 0$ and we need to change the pivot using a row swap"
   ]
  },
  {
   "cell_type": "code",
   "execution_count": 59,
   "metadata": {
    "collapsed": true
   },
   "outputs": [],
   "source": [
    "if indj != 2\n",
    "    buffer = M[2,:]\n",
    "    M[2,:] = M[indj,:]\n",
    "    M[indj,:]  = buffer\n",
    "end"
   ]
  },
  {
   "cell_type": "markdown",
   "metadata": {},
   "source": [
    "Now we are sure that we have a non zero pivot, so we can continue to introduce zeros"
   ]
  },
  {
   "cell_type": "code",
   "execution_count": 60,
   "metadata": {
    "collapsed": false
   },
   "outputs": [
    {
     "data": {
      "text/plain": [
       "4x5 Array{Float64,2}:\n",
       " 4.6126  0.00425747  0.976279  0.563531   0.750717\n",
       " 0.0     4.29138     0.424541  0.6425     0.558794\n",
       " 0.0     0.0         4.07265   0.0130944  0.335452\n",
       " 0.0     0.0         0.512549  4.56148    0.479163"
      ]
     },
     "execution_count": 60,
     "metadata": {},
     "output_type": "execute_result"
    }
   ],
   "source": [
    "for j = 3:n\n",
    "    M[j,:] = M[j,:] - M[j,2]/M[2,2]*M[2,:]\n",
    "end\n",
    "M"
   ]
  },
  {
   "cell_type": "markdown",
   "metadata": {},
   "source": [
    "Now we can go to third column"
   ]
  },
  {
   "cell_type": "code",
   "execution_count": 61,
   "metadata": {
    "collapsed": false
   },
   "outputs": [
    {
     "data": {
      "text/plain": [
       "4x5 Array{Float64,2}:\n",
       " 4.6126  0.00425747  0.976279  0.563531   0.750717\n",
       " 0.0     4.29138     0.424541  0.6425     0.558794\n",
       " 0.0     0.0         4.07265   0.0130944  0.335452\n",
       " 0.0     0.0         0.0       4.55983    0.436946"
      ]
     },
     "execution_count": 61,
     "metadata": {},
     "output_type": "execute_result"
    }
   ],
   "source": [
    "indnz = find(M[3:n,3])[1] # you pick the first index\n",
    "indj = 2 + indnz\n",
    "if indj != 3\n",
    "    buffer = M[3,:]\n",
    "    M[3,:] = M[indj,:]\n",
    "    M[indj,:] = buffer\n",
    "end\n",
    "for j = 4:n\n",
    "    M[j,:] = M[j,:] - M[j,3]/M[3,3]*M[3,:]\n",
    "end\n",
    "M"
   ]
  },
  {
   "cell_type": "markdown",
   "metadata": {},
   "source": [
    "Now we can extract $U$ and $L^{-1}b = b1$ from the augmented matrix"
   ]
  },
  {
   "cell_type": "code",
   "execution_count": 62,
   "metadata": {
    "collapsed": false
   },
   "outputs": [
    {
     "data": {
      "text/plain": [
       "4-element Array{Float64,1}:\n",
       " 0.750717\n",
       " 0.558794\n",
       " 0.335452\n",
       " 0.436946"
      ]
     },
     "execution_count": 62,
     "metadata": {},
     "output_type": "execute_result"
    }
   ],
   "source": [
    "U = M[1:n,1:n]\n",
    "b1 = M[1:n,n+1]"
   ]
  },
  {
   "cell_type": "markdown",
   "metadata": {},
   "source": [
    "### Triangular Solve\n",
    "\n",
    "From the Gaussian Eliminiation we have reduced the problem to solving \n",
    "\\begin{equation}\n",
    "Ux = b,\n",
    "\\end{equation}\n",
    "where U is an upper triangular matrix. \n",
    "\n",
    "Now we need to solve for $x$, we create a vector $x$ of the same size as $b$"
   ]
  },
  {
   "cell_type": "code",
   "execution_count": 64,
   "metadata": {
    "collapsed": false
   },
   "outputs": [
    {
     "data": {
      "text/plain": [
       "4x1 Array{Float64,2}:\n",
       " 0.0\n",
       " 0.0\n",
       " 0.0\n",
       " 0.0"
      ]
     },
     "execution_count": 64,
     "metadata": {},
     "output_type": "execute_result"
    }
   ],
   "source": [
    "x = zeros(b)"
   ]
  },
  {
   "cell_type": "markdown",
   "metadata": {},
   "source": [
    "we start by setting $x_{n,n} = b_{n}/U_{n,n}$"
   ]
  },
  {
   "cell_type": "code",
   "execution_count": 65,
   "metadata": {
    "collapsed": false
   },
   "outputs": [
    {
     "data": {
      "text/plain": [
       "0.09582498766476033"
      ]
     },
     "execution_count": 65,
     "metadata": {},
     "output_type": "execute_result"
    }
   ],
   "source": [
    "x[n] = b1[n]/U[n,n]"
   ]
  },
  {
   "cell_type": "markdown",
   "metadata": {},
   "source": [
    "We solve the second to last equation that is given by \n",
    "\\begin{equation}\n",
    "U_{n-1,n-1}x_{n-1} +  U_{n-1,n}x_{n} = b_{n-1},\n",
    "\\end{equation}\n",
    "and we solve for $x_{n-1}$, which results in \n",
    "\\begin{equation}\n",
    "x_{n-1} =   \\frac{b_{n-1}- U_{n-1,n}x_{n} }{U_{n-1,n-1}},\n",
    "\\end{equation}\n",
    "which can be translated to julia code as follows"
   ]
  },
  {
   "cell_type": "code",
   "execution_count": 67,
   "metadata": {
    "collapsed": false
   },
   "outputs": [
    {
     "data": {
      "text/plain": [
       "0.08205887204535202"
      ]
     },
     "execution_count": 67,
     "metadata": {},
     "output_type": "execute_result"
    }
   ],
   "source": [
    "x[n-1] = (b1[n-1] - U[n-1,n]*x[n])/U[n-1,n-1]"
   ]
  },
  {
   "cell_type": "markdown",
   "metadata": {},
   "source": [
    "The third to last equation can be written as\n",
    "\\begin{equation}\n",
    "U_{n-2,n-2}x_{n-2} + U_{n-2,n-1}x_{n-1} +  U_{n-2,n}x_{n} = b_{n-2},\n",
    "\\end{equation}\n",
    "where we know $x_{n-1}$ and $x_{n}$ so we can solve $x_{n-2}$ using\n",
    "\\begin{equation}\n",
    "x_{n-2} = \\frac{ b_{n-2}-  U_{n-2,n-1}x_{n-1} +  U_{n-2,n}x_{n}}{U_{n-2,n-2}}\n",
    "\\end{equation}\n",
    "where we can write $U_{n-2,n-1}x_{n-1} +  U_{n-2,n}x_{n}$ as an inner product, which results in the following julia code\n"
   ]
  },
  {
   "cell_type": "code",
   "execution_count": 69,
   "metadata": {
    "collapsed": false
   },
   "outputs": [
    {
     "data": {
      "text/plain": [
       "0.1077484335827115"
      ]
     },
     "execution_count": 69,
     "metadata": {},
     "output_type": "execute_result"
    }
   ],
   "source": [
    "x[n-2] = (b1[n-2] - (U[n-2,n-2+1:n]*x[n-2+1:n])[1])/U[n-2,n-2]"
   ]
  },
  {
   "cell_type": "markdown",
   "metadata": {},
   "source": [
    "The [1] in the dot product is needed to be consistent. The multiplication outputs a matrix with one element (but still a matrix), so you need to extract that one element out of the resulting matrix.<br>\n",
    "You can repeat the same for rest of the unknowns."
   ]
  },
  {
   "cell_type": "code",
   "execution_count": 72,
   "metadata": {
    "collapsed": false
   },
   "outputs": [
    {
     "data": {
      "text/plain": [
       "0.13357879992820912"
      ]
     },
     "execution_count": 72,
     "metadata": {},
     "output_type": "execute_result"
    }
   ],
   "source": [
    "x[n-3] = (b1[n-3] - (U[n-3,n-3+1:n]*x[n-3+1:n])[1])/U[n-3,n-3]"
   ]
  },
  {
   "cell_type": "markdown",
   "metadata": {},
   "source": [
    "Now we can check that our solution is the correct one, by checking the residual, which should be extremely small. "
   ]
  },
  {
   "cell_type": "code",
   "execution_count": 75,
   "metadata": {
    "collapsed": false
   },
   "outputs": [
    {
     "name": "stdout",
     "output_type": "stream",
     "text": [
      "Residual = 1.3416725090382251e-16"
     ]
    }
   ],
   "source": [
    "print(\"Residual = \",norm(A*x - b)/norm(b))"
   ]
  },
  {
   "cell_type": "markdown",
   "metadata": {},
   "source": [
    "\n",
    "###  Remark\n",
    " \n",
    " Gaussian Elimination is analogous to compute the lu factorization of A. The lu factorization, finds two factors, one lower triangular $L$ and an upper triangular $U$, such that \n",
    " \\begin{equation}\n",
    "A = LU.\n",
    "\\end{equation}\n",
    "\n",
    "\n",
    "If the LU factors are know, then we can compute the solution to $AX = b$ by a forward substition (i.e. we apply $L^{-1}$) and a backward substitution (i.e. we apply $U^{-1}$) which results in \n",
    "\\begin{equation}\n",
    "x = U^{-1}( L^{-1}b).\n",
    "\\end{equation}"
   ]
  },
  {
   "cell_type": "code",
   "execution_count": null,
   "metadata": {
    "collapsed": true
   },
   "outputs": [],
   "source": []
  }
 ],
 "metadata": {
  "kernelspec": {
   "display_name": "Julia 0.3.10",
   "language": "julia",
   "name": "julia-0.3"
  },
  "language_info": {
   "file_extension": ".jl",
   "mimetype": "application/julia",
   "name": "julia",
   "version": "0.3.10"
  }
 },
 "nbformat": 4,
 "nbformat_minor": 0
}
