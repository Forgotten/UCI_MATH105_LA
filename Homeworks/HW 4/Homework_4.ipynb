{
 "cells": [
  {
   "cell_type": "markdown",
   "metadata": {},
   "source": [
    "# Homework 4\n",
    "\n",
    "Name: \n",
    "\n",
    "Collaborators:\n",
    "\n",
    "Due Friday. October 30th 2015 before 23:55"
   ]
  },
  {
   "cell_type": "markdown",
   "metadata": {},
   "source": [
    "## Question 1 : Solving Linear Systems\n",
    "\n",
    "In this homework you will implement one of the most basic linear solvers.\n",
    "Gaussian elimination with bakwards substitution with row swap, you can find the details in Alg 6.1 in your textbook  (or https://en.wikipedia.org/wiki/Gaussian_elimination)"
   ]
  },
  {
   "cell_type": "markdown",
   "metadata": {},
   "source": [
    "### Gaussian Elimination\n",
    "\n",
    "Q1.a You will write the Gaussian elimination algorithm. We will proceed by writing the function \n",
    "rowSwap!. The inputs of the function will be:\n",
    "- A, a matrix\n",
    "- i,j the indeces of the rows to be swaped.\n",
    "\n",
    "The function will not have any output. The swaping has to be done in the matrix M. \n",
    "Finally, your function will raise an error if $i$ or $j$ are out of range. \n",
    "\n",
    "#### Remark:\n",
    "In Julia, all the input variariables are passed by reference. This means that you can modify the input variables outside the scope of the function. By convention, each time that a function modifies a variable outside its scope the function contains an exclamation mark."
   ]
  },
  {
   "cell_type": "code",
   "execution_count": null,
   "metadata": {
    "collapsed": false
   },
   "outputs": [],
   "source": [
    "function rowSwap!(A, i,j)\n",
    "    # input:   A matrix\n",
    "    #          i,j the row indeces to be swapped\n",
    "    \n",
    "end"
   ]
  },
  {
   "cell_type": "markdown",
   "metadata": {},
   "source": [
    "Q1.b You will write a function that performs the Gaussian elimination. The function takes as input: \n",
    "- A a square matrix,\n",
    "- b a vector. <br>\n",
    "\n",
    "Your function will create the augmented system, and perform the Gaussian elimination. \n",
    "The output of the function will be the tuple (U,b1).\n",
    "U is the upper triangular matrix resulting from the elimination and b1, is the resulting vector.<br>\n",
    "To obtain $U$ and $b1$ from your augmented matrix you perform a slicing (i.e. use [:,1:n]). <br> \n",
    "You will use your rowSwap function acting on the augmented matrix. <br>\n",
    "Finally, your function will raise an error if: <br>\n",
    "- the matrix is not square,<br>\n",
    "- the matrix is singular,<br>\n",
    "- the dimension of the vector and matrix are not compatible. <br>\n",
    "\n",
    "Hints: \n",
    "- You may use the function 'hcat' to build the augmented matrix. In Julia you can type <br>\n",
    "? hcat <br>\n",
    "and press enter to obtain some information of the function.<br> \n",
    "- To find the pivot you can use the function \"find()\". <br>\n",
    "- If the vector has only zero elements then the function \"find()\" will output an empty vector. <br>\n",
    "- You can check that your matrix is non-invertible by checking that the output of find is empy.<br>\n",
    "- You can easily check if an vector is empty using the \"isempty()\" function with a true or false output.\n"
   ]
  },
  {
   "cell_type": "code",
   "execution_count": null,
   "metadata": {
    "collapsed": false
   },
   "outputs": [],
   "source": [
    "function gaussianElimination(A,b)\n",
    "    #input:   A squared matrix\n",
    "    #         b a vector\n",
    "    #output:  U upper triangular matrix\n",
    "    #         b1 the resulting vector \n",
    "    \n",
    "    return (U,b1)\n",
    "end"
   ]
  },
  {
   "cell_type": "markdown",
   "metadata": {},
   "source": [
    "### Triangular solver (backwards substitution)\n",
    "\n",
    "Once the matrix is reduced to a upper triangular form, the system can be solved by backsubstitution.\n"
   ]
  },
  {
   "cell_type": "markdown",
   "metadata": {},
   "source": [
    "Q1.c You will write a function that performs the backward substitution.<br>\n",
    "The input of your function will be:\n",
    "- U: an upper triangular matrix,\n",
    "- b: a vector. <br>\n",
    "\n",
    "The output will be the solution to the system $Ux = b$. <br>\n",
    "Your function needs to have safeguards against a size mismatch (i.e., the size of the matrix and your vector are not compatible, or your matrix is not squared).\n",
    "\n",
    "Hint: if you need to run a foor loop that goes from n-1 to 1, you can use the syntax <br>\n",
    "for j = n-1:-1:1"
   ]
  },
  {
   "cell_type": "code",
   "execution_count": null,
   "metadata": {
    "collapsed": false
   },
   "outputs": [],
   "source": [
    "function backwardSubstitution(U,b)\n",
    "    # input:    U upper triangular matrix \n",
    "    #           b vector\n",
    "    # output:   x = U\\b\n",
    "   \n",
    "    return x\n",
    "end"
   ]
  },
  {
   "cell_type": "markdown",
   "metadata": {},
   "source": [
    "You can test that your function is correct by running the following script:"
   ]
  },
  {
   "cell_type": "code",
   "execution_count": null,
   "metadata": {
    "collapsed": false
   },
   "outputs": [],
   "source": [
    "# size of the Matrix\n",
    "m = 100\n",
    "# creating an upper triangular Matrix \n",
    "U = diagm(m*ones(m,1)[:], 0) + diagm(rand(m-1,1)[:], 1) + diagm(rand(m-2,1)[:], 2)\n",
    "# creating the rhs\n",
    "b = rand(size(U)[1],1)\n",
    "@time x = backwardSubstitution(U,b)\n",
    "print(\"Residual of the backward substitution is \", norm(U*x -b)/norm(b),\"\\n\")"
   ]
  },
  {
   "cell_type": "markdown",
   "metadata": {},
   "source": [
    "The residual should be extremely small (around epsilon machine)."
   ]
  },
  {
   "cell_type": "markdown",
   "metadata": {},
   "source": [
    "### Linear solver\n",
    "\n",
    "Q1.d You will write a function (very short) that solves a linear system in the form $Ax = b$, using your function GaussianEliminiaton and backwardSubstitution.<br>\n",
    "The input of your function will be :\n",
    "- A, a square matrix\n",
    "- b a vector. <br>\n",
    "The output will be the answer $x$.\n"
   ]
  },
  {
   "cell_type": "code",
   "execution_count": null,
   "metadata": {
    "collapsed": false
   },
   "outputs": [],
   "source": [
    "function solveGauss(A,b)\n",
    "    # input:    A square matrix \n",
    "    #           b vector\n",
    "    # output:   x = A\\b\n",
    "   \n",
    "    return x\n",
    "end"
   ]
  },
  {
   "cell_type": "markdown",
   "metadata": {},
   "source": [
    "You can test your code by running the following script"
   ]
  },
  {
   "cell_type": "code",
   "execution_count": null,
   "metadata": {
    "collapsed": false
   },
   "outputs": [],
   "source": [
    "# size of the Matrix\n",
    "m = 100\n",
    "# creating the Matrix \n",
    "A = rand(m,m) + m*eye(m)\n",
    "# creating the rhs\n",
    "b = rand(size(A)[1],1)\n",
    "@time x = solveGauss(A,b)\n",
    "print(\"Residual of the solver is \", norm(A*x -b)/norm(b),\"\\n\")"
   ]
  },
  {
   "cell_type": "markdown",
   "metadata": {},
   "source": [
    "The residual should be extremely small (around epsilon machine)"
   ]
  },
  {
   "cell_type": "markdown",
   "metadata": {},
   "source": [
    "## Question 2: Complexity\n",
    "\n",
    "From your textbook you know how many operations you need to solve the a linear system based on "
   ]
  },
  {
   "cell_type": "markdown",
   "metadata": {},
   "source": [
    "You will perform a benchmark to obtain the assymptotic complexity of your algorithm with respect to the number of unknows in the system.<br> \n",
    "You will run your algorithm to solve linear systems for matrices of different sizes; you will time the execution time for each of those solves, and you will plot the runtime versus the size of the matrices in a log-log scale. From the plot you will claim the assymptotic complexity of your algorithm with respect to the number of unknowns on the linear\n",
    "\n",
    "Q2.a You will run the following script, to bechmark the Julia built-in linear system solver (which is an interface to LAPACK, for more information see https://en.wikipedia.org/wiki/LAPACK and http://www.netlib.org/lapack/)"
   ]
  },
  {
   "cell_type": "code",
   "execution_count": null,
   "metadata": {
    "collapsed": false
   },
   "outputs": [],
   "source": [
    "nSamples = 10;\n",
    "times = zeros(nSamples,1)\n",
    "sizes = 2*2.^(0:nSamples-1)\n",
    "for i = 1:nSamples\n",
    "    m = sizes[i]\n",
    "    # creating the Matrix \n",
    "    A = rand(m,m) + m*eye(m)\n",
    "    # creating the rhs\n",
    "    b = rand(size(A)[1],1)\n",
    "    tic(); \n",
    "    x =A\\b\n",
    "    times[i] = toc();\n",
    "end"
   ]
  },
  {
   "cell_type": "markdown",
   "metadata": {},
   "source": [
    "You will plot the timing using the following script (you will use the layer object to plot two different data-set in the same graph)"
   ]
  },
  {
   "cell_type": "code",
   "execution_count": null,
   "metadata": {
    "collapsed": false
   },
   "outputs": [],
   "source": [
    "using Gadfly\n",
    "plot(\n",
    "    layer(x = sizes, y = times, Geom.point,  Geom.line),\n",
    "    layer(x = sizes, y = 0.00000001*sizes.^3, Geom.point, Geom.line, Theme(default_color=color(\"red\"))), \n",
    "    Scale.y_log10, Scale.x_log10,\n",
    "    Guide.ylabel(\"Runtime [s]\"), # label for y-axis\n",
    "    Guide.xlabel(\"Size of the Matrix\"),  # label for x-axis\n",
    ")"
   ]
  },
  {
   "cell_type": "markdown",
   "metadata": {},
   "source": [
    "In red you have the cubic scaling and in light-blue the numerical runtimes. <br>\n",
    "What should you expect? <br>\n",
    "What are you seeing instead? <br> \n",
    "How can you explain this? <br>\n",
    "What would happen if you increse the size of the matrices?"
   ]
  },
  {
   "cell_type": "markdown",
   "metadata": {},
   "source": [
    "Answer: "
   ]
  },
  {
   "cell_type": "markdown",
   "metadata": {},
   "source": [
    "Q2.b You will modify the script in the question above in order to bechmark the algorithm you wrote."
   ]
  },
  {
   "cell_type": "code",
   "execution_count": null,
   "metadata": {
    "collapsed": false
   },
   "outputs": [],
   "source": [
    "nSamples = 10;\n",
    "times2 = zeros(nSamples,1)\n",
    "sizes2 = 2*2.^(0:nSamples-1)\n",
    "for i = 1:nSamples\n",
    "    # fill the details\n",
    "end"
   ]
  },
  {
   "cell_type": "markdown",
   "metadata": {},
   "source": [
    "You will plot the benchmark using Gadlfy"
   ]
  },
  {
   "cell_type": "code",
   "execution_count": null,
   "metadata": {
    "collapsed": false
   },
   "outputs": [],
   "source": [
    "using Gadfly\n",
    "plot(\n",
    "    layer(x = sizes2, y = times2, Geom.point,  Geom.line),\n",
    "    layer(x = sizes2, y = 0.00000001*sizes2.^3, Geom.point, Geom.line, Theme(default_color=color(\"red\"))), \n",
    "    Scale.y_log10, Scale.x_log10,\n",
    "    Guide.ylabel(\"Runtime [s]\"), # label for y-axis\n",
    "    Guide.xlabel(\"Size of the Matrix\"),  # label for x-axis\n",
    ")"
   ]
  },
  {
   "cell_type": "markdown",
   "metadata": {},
   "source": [
    "Based on the runtime scaling you obtained, what is the assymptotic complexity of your function solveGauss?"
   ]
  },
  {
   "cell_type": "markdown",
   "metadata": {},
   "source": [
    "Asnwer: "
   ]
  }
 ],
 "metadata": {
  "kernelspec": {
   "display_name": "Julia 0.3.10",
   "language": "julia",
   "name": "julia-0.3"
  },
  "language_info": {
   "file_extension": ".jl",
   "mimetype": "application/julia",
   "name": "julia",
   "version": "0.3.10"
  }
 },
 "nbformat": 4,
 "nbformat_minor": 0
}
