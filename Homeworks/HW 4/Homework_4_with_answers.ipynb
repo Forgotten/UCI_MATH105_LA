{
 "cells": [
  {
   "cell_type": "markdown",
   "metadata": {},
   "source": [
    "# Homework 4\n",
    "\n",
    "Name: \n",
    "\n",
    "Collaborators:\n",
    "\n",
    "Due Friday. October 30th 2015"
   ]
  },
  {
   "cell_type": "markdown",
   "metadata": {},
   "source": [
    "## Question 1 : Solving Linear Systems\n",
    "\n",
    "In this homework you will implement one of the most basic linear solvers.\n",
    "Gaussian elimination with bakwards substitution with row swap, you can find the details in Alg 6.1 in your textbook  (or https://en.wikipedia.org/wiki/Gaussian_elimination)"
   ]
  },
  {
   "cell_type": "markdown",
   "metadata": {},
   "source": [
    "### Gaussian Elimination\n",
    "\n",
    "Q1.a You will write the Gaussian elimination algorithm. We will proceed by writing the function \n",
    "rowSwap!. The inputs of the function will be:\n",
    "- A, a square matrix\n",
    "- i,j the indeces of the rows to be swaped.\n",
    "\n",
    "The function will not have any output. The swaping has to be done in the matrix M. \n",
    "Finally, your function will raise an error if $i$ or $j$ are out of range. \n",
    "\n",
    "#### Remark:\n",
    "In Julia, all the input variariables are passed by reference. Then you can modify the input variables outside the scope of the function. By convention, each time that a function modifies a variable outside its scope the function contains an exclamation mark."
   ]
  },
  {
   "cell_type": "code",
   "execution_count": 7,
   "metadata": {
    "collapsed": false
   },
   "outputs": [
    {
     "data": {
      "text/plain": [
       "rowSwap! (generic function with 1 method)"
      ]
     },
     "execution_count": 7,
     "metadata": {},
     "output_type": "execute_result"
    }
   ],
   "source": [
    "function rowSwap!(A, i,j)\n",
    "    # input:   A matrix\n",
    "    #          i,j the row indexes to be swapped\n",
    "    n = size(A)[1]\n",
    "    # checking that i and j are within the permitted range\n",
    "    (i > n || j > n ) && error(\"Index out of range in the rowSwap\")\n",
    "    # if the index are not the same\n",
    "    if i != j \n",
    "        buffer = A[i,:]\n",
    "        A[i,:] = A[j,:]\n",
    "        A[j,:] = buffer\n",
    "    end\n",
    "end"
   ]
  },
  {
   "cell_type": "markdown",
   "metadata": {},
   "source": [
    "Q1.b You will write a function that performs the Gaussian elimination. The function takes as input: \n",
    "- A a square matrix,\n",
    "- b a vector. <br>\n",
    "\n",
    "Your function will create the augmented system, and perform the Gaussian elimination. \n",
    "The output of the function will be the tuple (U,b1).\n",
    "U is the upper triangular matrix resulting from the elimination and b1, is the resulting vector.<br>\n",
    "To obtain $U$ and $b1$ from your augmented matrix you perform a slicing (i.e. use [:,1:n]). <br> \n",
    "You will use your rowSwap function acting on the augmented matrix. <br>\n",
    "Finally, your function will raise an error if: <br>\n",
    "- the matrix is not square,<br>\n",
    "- the matrix is singular,<br>\n",
    "- the dimension of the vector and matrix are not compatible. <br>\n",
    "\n",
    "Hints: \n",
    "- You may use the function 'hcat' to build the augmented matrix. In Julia you can type <br>\n",
    "? hcat <br>\n",
    "and press enter to obtain some information of the function.<br> \n",
    "- To find the pivot you can use the function \"find()\". <br>\n",
    "- If the vector has only zero elements then the function \"find()\" will output an empty vector. <br>\n",
    "- You can check that your matrix is non-invertible by checking that the output of find is empy.<br>\n",
    "- You can easily check if an vector is empty using the \"isempty()\" function with a true or false output."
   ]
  },
  {
   "cell_type": "code",
   "execution_count": 21,
   "metadata": {
    "collapsed": false
   },
   "outputs": [
    {
     "data": {
      "text/plain": [
       "gaussianElimination (generic function with 1 method)"
      ]
     },
     "execution_count": 21,
     "metadata": {},
     "output_type": "execute_result"
    }
   ],
   "source": [
    "function gaussianElimination(A,b)\n",
    "    #input:   A squared matrix\n",
    "    #         b a vector\n",
    "    #output:  U upper triangular matrix\n",
    "    #         b1 the resulting vector \n",
    "    \n",
    "    # safety checks\n",
    "    (n,m) = size(A)\n",
    "    (n != m) && error(\"Matrix is not square \\n\")\n",
    "    (n != size(b)[1]) && error(\"Dimension mismatch \\n\")\n",
    "    \n",
    "    # create the augmented matrix \n",
    "    M = hcat(A,b)\n",
    "    for i = 1:(n-1)\n",
    "        # look for the first non zero entry in the ith column\n",
    "        # find the indices of the non zero elements (up to machine precision)\n",
    "        indexj =  find(abs(M[i:end,i]).> eps(1.0))\n",
    "        # if indexj is empty then the matrix is singular and raise error\n",
    "        isempty(indexj) && error(\"The matrix is singular \\n\")\n",
    "        # call row swap\n",
    "        rowSwap!(M,i,(i-1)+indexj[1])\n",
    "        # for loop for eliminating unknows\n",
    "        for j = i+1:n\n",
    "            M[j,:] = M[j,:] - (M[j,i]/M[i,i])*M[i,:]\n",
    "        end\n",
    "    end\n",
    "    # checking the last pivot!! \n",
    "    abs(M[n,n]) < eps(1.0) && error(\"The matrix is singular \\n\")\n",
    "    # slicing the matrices\n",
    "    U = M[:,1:n]\n",
    "    b1 = M[:,n+1:end]\n",
    "    return (U,b1)\n",
    "end"
   ]
  },
  {
   "cell_type": "markdown",
   "metadata": {},
   "source": [
    "### Triangular solver (backwards substitution)\n",
    "\n",
    "Once the matrix is reduced to a upper triangular form, the system can be solved by backsubstitution.\n"
   ]
  },
  {
   "cell_type": "markdown",
   "metadata": {},
   "source": [
    "Q1.c You will write a function that performs the backward substitution.<br>\n",
    "The input of your function will be:\n",
    "- U: an upper triangular matrix,\n",
    "- b: a vector. <br>\n",
    "\n",
    "The output will be the solution to the system $Ux = b$. <br>\n",
    "Your function needs to have safeguards against a size mismatch (i.e., the size of the matrix and your vector are not compatible, or your matrix is not squared).\n",
    "\n",
    "Hint: if you need to run a foor loop that goes from n-1 to 1, you can use the syntax <br>\n",
    "for j = n-1:-1:1"
   ]
  },
  {
   "cell_type": "code",
   "execution_count": 9,
   "metadata": {
    "collapsed": false
   },
   "outputs": [
    {
     "data": {
      "text/plain": [
       "backwardSubstitution (generic function with 1 method)"
      ]
     },
     "execution_count": 9,
     "metadata": {},
     "output_type": "execute_result"
    }
   ],
   "source": [
    "function backwardSubstitution(U,b)\n",
    "    # input:    U upper triangular matrix \n",
    "    #           b vector\n",
    "    # output:   x = U\\b\n",
    "    # checks for sizes\n",
    "    (n,m) = size(U)\n",
    "    (n != m) && error(\"Upper triangular matrix is not square \\n\")\n",
    "    (n != size(b)[1]) && error(\"Dimension mismatch \\n\")\n",
    "    \n",
    "    # creating x and running the backward substitution\n",
    "    x = zeros(b)\n",
    "    x[n] = b[n]/U[n,n]\n",
    "    for i = (n-1):-1:1\n",
    "        x[i] = (b[i] - dot(U[i,i+1:end][:],x[i+1:end]))/U[i,i]\n",
    "    end\n",
    "    \n",
    "    # returning x\n",
    "    return x\n",
    "end\n",
    "    "
   ]
  },
  {
   "cell_type": "markdown",
   "metadata": {},
   "source": [
    "You can test that your function is correct by running the following script:"
   ]
  },
  {
   "cell_type": "code",
   "execution_count": 10,
   "metadata": {
    "collapsed": false
   },
   "outputs": [
    {
     "name": "stdout",
     "output_type": "stream",
     "text": [
      "  "
     ]
    }
   ],
   "source": [
    "# size of the Matrix\n",
    "m = 100\n",
    "# creating an upper triangular Matrix \n",
    "U = diagm(m*ones(m,1)[:], 0) + diagm(rand(m-1,1)[:], 1) + diagm(rand(m-2,1)[:], 2)\n",
    "# creating the rhs\n",
    "b = rand(size(U)[1],1)\n",
    "@time x = backwardSubstitution(U,b)\n",
    "print(\"Residual of the backward substitution is \", norm(U*x -b)/norm(b),\"\\n\")"
   ]
  },
  {
   "cell_type": "markdown",
   "metadata": {},
   "source": [
    "The residual should be extremely small (around epsilon machine)"
   ]
  },
  {
   "cell_type": "code",
   "execution_count": 11,
   "metadata": {
    "collapsed": false
   },
   "outputs": [
    {
     "data": {
      "text/plain": [
       "backwardSubstitutionLoop (generic function with 1 method)"
      ]
     },
     "execution_count": 11,
     "metadata": {},
     "output_type": "execute_result"
    }
   ],
   "source": [
    "function backwardSubstitutionLoop(U,b)\n",
    "    # checks for sizes of U and b\n",
    "    n = size(U)[1]\n",
    "    # first step\n",
    "    x = zeros(b)\n",
    "    x[n] = b[n]/U[n,n]\n",
    "    for i = (n-1):-1:1\n",
    "        dummy = 0\n",
    "        for j = i+1:n\n",
    "            dummy += U[i,j]*x[j]\n",
    "        end\n",
    "        x[i] = (b[i] - dummy)/U[i,i]\n",
    "    end\n",
    "    return x\n",
    "end"
   ]
  },
  {
   "cell_type": "markdown",
   "metadata": {},
   "source": [
    "### Linear solver\n",
    "\n",
    "Q1.d You will write a function (very short) that solves a linear system in the form $Ax = b$, using your function GaussianEliminiaton and backwardSubstitution.<br>\n",
    "The input of your function will be :\n",
    "- A, a square matrix\n",
    "- b a vector. <br>\n",
    "The output will be the answer $x$.\n"
   ]
  },
  {
   "cell_type": "code",
   "execution_count": 25,
   "metadata": {
    "collapsed": false
   },
   "outputs": [
    {
     "data": {
      "text/plain": [
       "solveGauss (generic function with 1 method)"
      ]
     },
     "execution_count": 25,
     "metadata": {},
     "output_type": "execute_result"
    }
   ],
   "source": [
    "function solveGauss(A,b)\n",
    "    # input:    A square matrix \n",
    "    #           b vector\n",
    "    # output:   x = A\\b\n",
    "    (U,b1) = gaussianElimination(A,b)\n",
    "    return backwardSubstitution(U,b1)\n",
    "end"
   ]
  },
  {
   "cell_type": "markdown",
   "metadata": {},
   "source": [
    "You can test your code by running the following script"
   ]
  },
  {
   "cell_type": "code",
   "execution_count": 26,
   "metadata": {
    "collapsed": false
   },
   "outputs": [
    {
     "name": "stdout",
     "output_type": "stream",
     "text": [
      "The conditioning number of A is 1.3136771554235003\n",
      "  0.010945 seconds (39.43 k allocations: 18.396 MB)\n",
      "Residual of the solver is 4.767478691948936e-16\n"
     ]
    }
   ],
   "source": [
    "# size of the Matrix\n",
    "m = 100\n",
    "# creating the Matrix \n",
    "A = randn(m,m) + m*eye(m)\n",
    "println(\"The conditioning number of A is \" ,cond(A))\n",
    "# creating the rhs\n",
    "b = rand(size(A)[1],1)\n",
    "\n",
    "@time x = solveGauss(A,b)\n",
    "print(\"Residual of the solver is \", norm(A*x -b)/norm(b),\"\\n\")"
   ]
  },
  {
   "cell_type": "code",
   "execution_count": 30,
   "metadata": {
    "collapsed": false
   },
   "outputs": [
    {
     "name": "stdout",
     "output_type": "stream",
     "text": [
      "The conditioning number of A is 1"
     ]
    },
    {
     "data": {
      "text/plain": [
       "11x11 Array{Float64,2}:\n",
       " -0.342327     0.0108213     0.660125     …   0.134672     -0.268872   \n",
       "  0.0          4.12741e-12   6.1483e-12      -1.72959e-12   1.3686e-12 \n",
       "  0.0          0.0          -6.24985e-13     -1.11183e-12  -3.4754e-13 \n",
       "  0.0          0.0           0.0              5.86496e-13  -1.5901e-13 \n",
       "  5.55112e-17  0.0           0.0             -3.72681e-12   1.2657e-12 \n",
       " -8.31066e-17  0.0           0.0          …   8.34487e-13  -3.16339e-13\n",
       "  2.77979e-16  0.0           0.0             -1.03499e-14  -1.27151e-12\n",
       " -1.51874e-16  0.0          -5.04871e-29      3.714e-12    -3.56918e-12\n",
       " -2.78615e-17  0.0           4.49572e-29     -1.2428e-12    9.38704e-13\n",
       " -1.18404e-16  0.0          -1.81762e-28      7.04903e-13  -1.0759e-12 \n",
       " -1.00659e-18  0.0          -8.72815e-29  …   5.04871e-29  -4.9665e-13 "
      ]
     },
     "execution_count": 30,
     "metadata": {},
     "output_type": "execute_result"
    },
    {
     "name": "stdout",
     "output_type": "stream",
     "text": [
      ".2390180313431834e18\n",
      "  0.010552 seconds (36.25 k allocations: 18.234 MB, 25.84% gc time)\n",
      "Residual of the solver is 1.4760558826374621\n"
     ]
    }
   ],
   "source": []
  },
  {
   "cell_type": "markdown",
   "metadata": {},
   "source": [
    "The residual should be extremely small (around epsilon machine)"
   ]
  },
  {
   "cell_type": "markdown",
   "metadata": {},
   "source": [
    "## Question 2: Complexity\n",
    "\n",
    "From your textbook you know how many operations you need to solve the a linear system based on "
   ]
  },
  {
   "cell_type": "markdown",
   "metadata": {},
   "source": [
    "You will perform a benchmark to obtain the assymptotic complexity of your algorithm with respect to the number of unknows in the system.<br> \n",
    "You will run your algorithm to solve linear systems for matrices of different sizes; you will time the execution time for each of those solves, and you will plot the runtime versus the size of the matrices in a log-log scale. From the plot you will claim the assymptotic complexity of your algorithm with respect to the number of unknowns on the linear\n",
    "\n",
    "Q2.a You will run the following script, to bechmark the assymptotic complexity of the Julia built-in linear system solver (which is an interface to LAPACK, for more information see https://en.wikipedia.org/wiki/LAPACK and http://www.netlib.org/lapack/)"
   ]
  },
  {
   "cell_type": "code",
   "execution_count": 14,
   "metadata": {
    "collapsed": false
   },
   "outputs": [
    {
     "name": "stdout",
     "output_type": "stream",
     "text": [
      "0.020930 seconds (39.39 k allocations: 18.398 MB, 11.90% gc time)\n",
      "Residual of the solver is 6.104396625319271e-11\n",
      "elapsed time: 1"
     ]
    }
   ],
   "source": [
    "nSamples = 10;\n",
    "times = zeros(nSamples,1)\n",
    "sizes = 2*2.^(0:nSamples-1)\n",
    "for i = 1:nSamples\n",
    "    m = sizes[i]\n",
    "    # creating the Matrix \n",
    "    A = rand(m,m) + m*eye(m)\n",
    "    # creating the rhs\n",
    "    b = rand(size(A)[1],1)\n",
    "    tic(); \n",
    "    x =A\\b\n",
    "    times[i] = toc();\n",
    "end"
   ]
  },
  {
   "cell_type": "markdown",
   "metadata": {},
   "source": [
    "You will plot the timing using the following script (you will use the layer object to plot two different data-set in the same graph)"
   ]
  },
  {
   "cell_type": "code",
   "execution_count": 15,
   "metadata": {
    "collapsed": false
   },
   "outputs": [
    {
     "ename": "LoadError",
     "evalue": "LoadError: ArgumentError: Gadfly not found in path\nwhile loading In[15], in expression starting on line 1",
     "output_type": "error",
     "traceback": [
      "LoadError: ArgumentError: Gadfly not found in path\nwhile loading In[15], in expression starting on line 1",
      "",
      " in require at ./loading.jl:233"
     ]
    }
   ],
   "source": [
    "using Gadfly\n",
    "plot(\n",
    "    layer(x = sizes, y = times, Geom.point,  Geom.line),\n",
    "    layer(x = sizes, y = 0.00000001*sizes.^3, Geom.point, Geom.line, Theme(default_color=color(\"red\"))), \n",
    "    Scale.y_log10, Scale.x_log10,\n",
    "    Guide.ylabel(\"Runtime [s]\"), # label for y-axis\n",
    "    Guide.xlabel(\"Size of the Matrix\"),  # label for x-axis\n",
    ")"
   ]
  },
  {
   "cell_type": "markdown",
   "metadata": {},
   "source": [
    "In red you have the cubic scaling and in light blue the numerical runtimes. \n",
    "What should you expect? <br>\n",
    "What are you seeing instead? <br> \n",
    "How can you explain this? <br>\n",
    "What would happen if you increse the size of the matrices?"
   ]
  },
  {
   "cell_type": "markdown",
   "metadata": {},
   "source": [
    "Answer: We should expect the two lines to be parallel; however, the zig-zag pattern look like a quadratic complexity.\n",
    "This is a clear example of a prea-assymptotic regime, given that the problem is not big enough we are not able to \"see\" the leading exponent. If the size of the problems to solve were bigger, we would be able to see the assymptotic scaling."
   ]
  },
  {
   "cell_type": "markdown",
   "metadata": {},
   "source": [
    "Q2.b You will modify the script in the question above in order to time the algorithm you wrote."
   ]
  },
  {
   "cell_type": "code",
   "execution_count": 16,
   "metadata": {
    "collapsed": false
   },
   "outputs": [
    {
     "name": "stdout",
     "output_type": "stream",
     "text": [
      ".08028453 seconds\n",
      "elapsed time: 2.9409e-5 seconds\n",
      "elapsed time: 4.0305e-5 seconds\n",
      "elapsed time: 5.7436e-5 seconds\n",
      "elapsed time: 0.00339448 seconds\n",
      "elapsed time: 0.000247837 seconds\n",
      "elapsed time: 0.00073755 seconds\n",
      "elapsed time: 0.001610172 seconds\n",
      "elapsed time: 0.004690021 seconds\n",
      "elapsed time: 0.02889815 seconds\n",
      "elapsed time: 3.3517e-5 seconds\n",
      "elapsed time: 2.6259e-5 seconds\n",
      "elapsed time: 7.6071e-5 seconds\n",
      "elapsed time: 0.000123385 seconds\n",
      "elapsed time: 0.000552901 seconds\n",
      "elapsed time: 0.00204418 seconds\n",
      "elapsed time: 0.019955855 seconds\n",
      "elapsed time: 0.120047632 seconds\n",
      "elapsed time: 0.982154334 seconds\n",
      "elapsed time: 14"
     ]
    }
   ],
   "source": [
    "nSamples = 10;\n",
    "times2 = zeros(nSamples,1)\n",
    "sizes2 = 2*2.^(0:nSamples-1)\n",
    "for i = 1:nSamples\n",
    "    m = sizes2[i]\n",
    "    # creating the Matrix \n",
    "    A = rand(m,m) + m*eye(m)\n",
    "    # creating the rhs\n",
    "    b = rand(size(A)[1],1)\n",
    "    tic(); \n",
    "    x = solveGauss(A,b)\n",
    "    times2[i] = toc();\n",
    "end"
   ]
  },
  {
   "cell_type": "code",
   "execution_count": 17,
   "metadata": {
    "collapsed": false
   },
   "outputs": [
    {
     "ename": "LoadError",
     "evalue": "LoadError: ArgumentError: Gadfly not found in path\nwhile loading In[17], in expression starting on line 1",
     "output_type": "error",
     "traceback": [
      "LoadError: ArgumentError: Gadfly not found in path\nwhile loading In[17], in expression starting on line 1",
      "",
      " in require at ./loading.jl:233"
     ]
    },
    {
     "name": "stdout",
     "output_type": "stream",
     "text": [
      ".249635337 seconds\n"
     ]
    }
   ],
   "source": [
    "using Gadfly\n",
    "plot(\n",
    "    layer(x = sizes2, y = times2, Geom.point,  Geom.line),\n",
    "    layer(x = sizes2, y = 0.00000001*sizes2.^3, Geom.point, Geom.line, Theme(default_color=color(\"red\"))), \n",
    "    Scale.y_log10, Scale.x_log10,\n",
    "    Guide.ylabel(\"Runtime [s]\"), # label for y-axis\n",
    "    Guide.xlabel(\"Size of the Matrix\"),  # label for x-axis\n",
    ")"
   ]
  },
  {
   "cell_type": "markdown",
   "metadata": {},
   "source": [
    "Based on the runtime scaling you obtained, what is the assymptotic complexity of your function solveGauss?"
   ]
  },
  {
   "cell_type": "markdown",
   "metadata": {},
   "source": [
    "We can see the two lines are parallel (at least for the last 3 or 4 points) then we can claim that the complexity of the algorithm is cubic as expected."
   ]
  },
  {
   "cell_type": "code",
   "execution_count": null,
   "metadata": {
    "collapsed": true
   },
   "outputs": [],
   "source": []
  }
 ],
 "metadata": {
  "kernelspec": {
   "display_name": "Julia 0.4.0",
   "language": "julia",
   "name": "julia-0.4"
  },
  "language_info": {
   "file_extension": ".jl",
   "mimetype": "application/julia",
   "name": "julia",
   "version": "0.4.0"
  }
 },
 "nbformat": 4,
 "nbformat_minor": 0
}
