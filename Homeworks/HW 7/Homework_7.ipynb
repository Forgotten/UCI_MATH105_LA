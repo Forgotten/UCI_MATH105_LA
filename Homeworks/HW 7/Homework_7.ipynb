{
 "cells": [
  {
   "cell_type": "markdown",
   "metadata": {},
   "source": [
    "## Homework 7\n",
    "\n",
    "Name:\n",
    "Collaborators:  \n",
    "\n",
    "Due Wednesday 21\n",
    "\n",
    "We want to solve the linear system given by \n",
    "\\begin{equation}\n",
    "Ax = b,\n",
    "\\end{equation}\n",
    "where $A$ is a non-singular $n\\times n$ matrix. \n",
    "\n",
    "In this homework you will find the $LU$ factorization of the Matrix $A$, such that \n",
    "\\begin{equation}\n",
    "L\\cdot U = A,\n",
    "\\end{equation}\n",
    "where $L$ is lower triangular and $U$ is upper triangular. \n",
    "\n",
    "If the LU factors are known, then solving the linear system can be performed in two triangular solves:\n",
    "\\begin{equation}\n",
    "Lp = b,\n",
    "\\end{equation}\n",
    "and \n",
    "\\begin{equation}\n",
    "Ux = p.\n",
    "\\end{equation}\n"
   ]
  },
  {
   "cell_type": "markdown",
   "metadata": {},
   "source": [
    "### Question 1: Linear Solver\n",
    "\n",
    "#### LU factorization\n",
    "Q1: Write a function that computes the LU factorization of a non-singular $n\\times n$ matrix $A$. The input of your function will be\n",
    "\n",
    "- A a non singular matrix;\n",
    "\n",
    "and the output will be a tuple $(L,U)$, such that $L\\cdot U = A$, where \n",
    "\n",
    "- L is a lower triangular matrix,\n",
    "- U is an upper triangular matrix.\n",
    "\n",
    "Moreover, your function will raise an error if: \n",
    "\n",
    "- the matrix A is not square,\n",
    "- the matrix A is singular.\n",
    "\n",
    "You can use the built-in function det(), to check if you matrix is singular. "
   ]
  },
  {
   "cell_type": "code",
   "execution_count": null,
   "metadata": {
    "collapsed": false
   },
   "outputs": [],
   "source": [
    "function luFactorization(A)\n",
    "    # input A: a nxn matrix\n",
    "    # output L: lower triangular matrix\n",
    "    #        U: upper triangular matrix\n",
    "    return (L,U)\n",
    "end    "
   ]
  },
  {
   "cell_type": "markdown",
   "metadata": {},
   "source": [
    "#### Triangular solves\n",
    "\n",
    "Q1b: Write a function that implements a upper triangular solve.\n",
    "The input of your function will be \n",
    "\n",
    "- U an non-singular upper triangular matrix,\n",
    "- b a right-hand side;\n",
    "\n",
    "your function will output $x$, the solution to $Ux = b$"
   ]
  },
  {
   "cell_type": "code",
   "execution_count": null,
   "metadata": {
    "collapsed": true
   },
   "outputs": [],
   "source": [
    "# write your triangular solver here\n",
    "function backwardSubstitution(U,b)\n",
    "    # input:    U upper triangular matrix \n",
    "    #           b vector\n",
    "    # output:   x = U\\b\n",
    "    \n",
    "    \n",
    "    return x\n",
    "end"
   ]
  },
  {
   "cell_type": "markdown",
   "metadata": {},
   "source": [
    "Q1c: Write a function that implements a lower triangular solve.\n",
    "the input of your function will be :\n",
    "\n",
    "- L an non-singular lower triangular matrix,\n",
    "- b a right-hand side;\n",
    "\n",
    "your function will output $x$, the solution to $Lx = b$"
   ]
  },
  {
   "cell_type": "code",
   "execution_count": 29,
   "metadata": {
    "collapsed": false
   },
   "outputs": [
    {
     "data": {
      "text/plain": [
       "forwardSubstitution (generic function with 1 method)"
      ]
     },
     "execution_count": 29,
     "metadata": {},
     "output_type": "execute_result"
    }
   ],
   "source": [
    "# write your triangular solver here\n",
    "function forwardSubstitution(L,b)\n",
    "    # input:    L lower triangular matrix \n",
    "    #           b vector\n",
    "    # output:   x = L\\b\n",
    "\n",
    "    return x\n",
    "end"
   ]
  },
  {
   "cell_type": "markdown",
   "metadata": {},
   "source": [
    "#### Linear solvers\n",
    "\n",
    "Q1d. Using your LU factorization and triangular solves, write a function that solves $Ax = b$.\n",
    "\n",
    "Your function will check that the dimensions of $A$ and $b$ are consistent."
   ]
  },
  {
   "cell_type": "code",
   "execution_count": null,
   "metadata": {
    "collapsed": true
   },
   "outputs": [],
   "source": [
    "function linearSolve(A,b)\n",
    "    \n",
    "    return x\n",
    "end"
   ]
  },
  {
   "cell_type": "markdown",
   "metadata": {},
   "source": [
    "### Question 2: Pivoted LU factorization\n",
    "\n",
    "As for Gaussian Elimination, we can encounter small pivots that may have a negative impact on the accuracy of the factorization. In order to avoid that we use partial pivoting (row pivoting) to reorder the unknowns. \n",
    "\n",
    "\n",
    "#### PLU factorization\n",
    "Q1: Write a function that computes the pivoted LU factorization of the non-singular $n\\times n$ matrix $A$. The input of your function will be\n",
    "\n",
    "- A a non singular matrix\n",
    "\n",
    "and the output will be a tuple $(L,U,P)$, such that $L\\cdot U = P\\cdot A$, where \n",
    "\n",
    "- P a sparse permutation matrix \n",
    "- L is a lower triangular matrix\n",
    "- U is an upper triangular matrix\n",
    "\n",
    "Moreover, your function will raise an error if: \n",
    "\n",
    "- the matrix A is not square\n",
    "- the matrix A is singular\n",
    "\n",
    "You can use the built-in function det(), to check if you matrix is singular. "
   ]
  },
  {
   "cell_type": "code",
   "execution_count": null,
   "metadata": {
    "collapsed": false
   },
   "outputs": [],
   "source": [
    "function rowSwap!(A, i,j)\n",
    "    # input:   A matrix\n",
    "    #          i,j the row indexes to be swapped\n",
    "    n = size(A)[1]\n",
    "    # checking that i and j are within the permitted range\n",
    "    (i > n || j > n ) && error(\"Index out of range in the rowSwap\")\n",
    "    # if the index are not the same\n",
    "    if i != j \n",
    "        buffer = A[i,:]\n",
    "        A[i,:] = A[j,:]\n",
    "        A[j,:] = buffer\n",
    "    end\n",
    "end"
   ]
  },
  {
   "cell_type": "code",
   "execution_count": null,
   "metadata": {
    "collapsed": false
   },
   "outputs": [],
   "source": [
    "function luFactorizationPivoted(A)\n",
    "    # write your function\n",
    "    \n",
    "    return (L,U,P)\n",
    "end    "
   ]
  },
  {
   "cell_type": "markdown",
   "metadata": {},
   "source": [
    "Q2b. Using your triangular solvers, write a function that solves the system $Ax = b$ using a partially pivoted LU factorization. "
   ]
  },
  {
   "cell_type": "code",
   "execution_count": 30,
   "metadata": {
    "collapsed": false
   },
   "outputs": [
    {
     "data": {
      "text/plain": [
       "linearSolvePivoted (generic function with 1 method)"
      ]
     },
     "execution_count": 30,
     "metadata": {},
     "output_type": "execute_result"
    }
   ],
   "source": [
    "function linearSolvePivoted(A,b)\n",
    "    \n",
    "    return x\n",
    "end"
   ]
  },
  {
   "cell_type": "markdown",
   "metadata": {},
   "source": [
    "### Question 3 (bonus): Solving the Helmholtz equation  (10 points)\n",
    "\n",
    "The complexity of LU factorization is $\\mathcal{O}(n^3)$ for a dense $n\\times n$ matrix. \n",
    "\n",
    "Fortunately, most of the matrices arising from discretization of partial differential equations are not dense. \n",
    "In this case we will solve the 2D Helmholtz equation given by\n",
    "\n",
    "\\begin{equation}\n",
    "\\triangle u + \\omega^2m u = f\n",
    "\\end{equation}\n",
    "plus absorbing boundary conditions. <br>\n",
    "\n",
    "The Helmholtz equation models waves propagating in an acoustic medium (like air or water). \n",
    "You will download the extra file Homework_7_extra.jl in the same folder as this ipybn, and you will run the snippet below. \n",
    "\n",
    "We will first define the number of points"
   ]
  },
  {
   "cell_type": "code",
   "execution_count": null,
   "metadata": {
    "collapsed": false
   },
   "outputs": [],
   "source": [
    "Pkg.add(\"PyPlot\")\n",
    "using PyPlot\n",
    "include(\"Homework_7_extra.jl\")\n",
    "nx = 200\n",
    "ny = 200\n",
    "N = nx*ny\n",
    "h = 1/(nx-1)"
   ]
  },
  {
   "cell_type": "markdown",
   "metadata": {},
   "source": [
    "We will define the slowness $ m $ as a matrix full of ones, and we will call the function HelmholtzMatrix"
   ]
  },
  {
   "cell_type": "code",
   "execution_count": null,
   "metadata": {
    "collapsed": false
   },
   "outputs": [],
   "source": [
    "m = ones(nx,nx)\n",
    "# adding a reflector\n",
    "m[round(Integer,nx/3):end, :]  = 2;\n",
    "H = HelmholtzMatrix(m,nx,ny, 10, h,300, 2,2*pi*nx/10 );\n",
    "println(\"Average number of nonzeros per row is :\", nnz(H)/N)"
   ]
  },
  {
   "cell_type": "markdown",
   "metadata": {},
   "source": [
    "As you can see, the matrix is extremely sparse, it only contains around 5 non zeros per row. <br>\n",
    "We will define a source, which in this case is a point source in the middle of the domain."
   ]
  },
  {
   "cell_type": "code",
   "execution_count": null,
   "metadata": {
    "collapsed": false
   },
   "outputs": [],
   "source": [
    "f = zeros(N,1)\n",
    "f[nx*ny/2+ny/2] = 1/h^2\n"
   ]
  },
  {
   "cell_type": "markdown",
   "metadata": {},
   "source": [
    "Now we are ready to compute our solution. For that we will use the built-in LU factorization in Julia. (you may note that H is sparse, then by default julia will use UMFPACK to perform the factorization)"
   ]
  },
  {
   "cell_type": "code",
   "execution_count": null,
   "metadata": {
    "collapsed": false
   },
   "outputs": [],
   "source": [
    "# perform the factorization\n",
    "@time LU = lufact(H);\n",
    "# solve the linear system\n",
    "@time u = LU\\f;"
   ]
  },
  {
   "cell_type": "markdown",
   "metadata": {},
   "source": [
    "The solution is just a long vector, we need to reshape in order to plot it"
   ]
  },
  {
   "cell_type": "code",
   "execution_count": null,
   "metadata": {
    "collapsed": false
   },
   "outputs": [],
   "source": [
    "U = reshape(u,nx,ny);"
   ]
  },
  {
   "cell_type": "markdown",
   "metadata": {},
   "source": [
    "We can plot the solution using Gadfly, the solution is a complex number so we will plot the real and the imaginary part separately."
   ]
  },
  {
   "cell_type": "code",
   "execution_count": null,
   "metadata": {
    "collapsed": false
   },
   "outputs": [],
   "source": [
    "imshow(real(U))"
   ]
  },
  {
   "cell_type": "markdown",
   "metadata": {},
   "source": [
    "Q3a. You will benchmark the time it takes to compute the LU factorization and to perform the solve with respect to the size of the problem $N$. What is the complexity of the factorization and the triangular solves in this case? How is that different from what you have seen in class? How can you explain the difference?"
   ]
  },
  {
   "cell_type": "code",
   "execution_count": null,
   "metadata": {
    "collapsed": true
   },
   "outputs": [],
   "source": []
  },
  {
   "cell_type": "markdown",
   "metadata": {},
   "source": [
    "Hint: You may wnat to use the LU factorization algorithm you wrote (for a small $nx$) to obtain the LU factors. You can count the number of non-zeros of $L$ given by your algorithm and the number of nonzeros of $LU[:L]$, and compare them. You can use the function nnz(A) to obtain the number of nonzeros of a matrix."
   ]
  },
  {
   "cell_type": "code",
   "execution_count": null,
   "metadata": {
    "collapsed": true
   },
   "outputs": [],
   "source": []
  },
  {
   "cell_type": "markdown",
   "metadata": {},
   "source": [
    "### Question 4 (bonus): Full Pivoted LU Decomposition (10 points)\n",
    "\n",
    "Q4a. Write a function that implements the fully pivoted LU factorization of the non-singular $n\\times n$ matrix $A$. The input of your function will be\n",
    "\n",
    "- A a non singular matrix\n",
    "\n",
    "and the output will be a tuple $(L,U,P,Q)$, such that $L\\cdot U = P\\cdot A \\cdot Q$, where \n",
    "\n",
    "- P a sparse permutation matrix \n",
    "- Q a sparse permutation matrix\n",
    "- L is a lower triangular matrix\n",
    "- U is an upper triangular matrix\n",
    "\n",
    "Moreover, your function will raise an error if: \n",
    "\n",
    "- the matrix A is not square\n",
    "- the matrix A is singular\n",
    "\n",
    "You can use the built-in function det(), to check if you matrix is singular. \n",
    "\n",
    "\n"
   ]
  },
  {
   "cell_type": "code",
   "execution_count": null,
   "metadata": {
    "collapsed": false
   },
   "outputs": [],
   "source": [
    "function luFactorizationFullPivoted(A)\n",
    "    # checks\n",
    "    \n",
    "    return (L,U,P,Q)\n",
    "end    "
   ]
  }
 ],
 "metadata": {
  "kernelspec": {
   "display_name": "Julia 0.4.0",
   "language": "julia",
   "name": "julia-0.4"
  },
  "language_info": {
   "file_extension": ".jl",
   "mimetype": "application/julia",
   "name": "julia",
   "version": "0.4.0"
  }
 },
 "nbformat": 4,
 "nbformat_minor": 0
}
