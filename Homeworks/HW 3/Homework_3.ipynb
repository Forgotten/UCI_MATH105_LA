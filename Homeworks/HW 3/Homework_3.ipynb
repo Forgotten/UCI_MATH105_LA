{
 "cells": [
  {
   "cell_type": "markdown",
   "metadata": {},
   "source": [
    "## Homework 3\n",
    "\n",
    "Name: \n",
    "\n",
    "Collaborators:\n",
    "\n",
    "Homework due Friday 10/23/2015 before 23:55\n",
    "\n",
    "Please, write the name of your collaborators. We encourage collaboration for solving the homework; however, you need to write your own code and acknowledge your collaborators. \n",
    "\n"
   ]
  },
  {
   "cell_type": "markdown",
   "metadata": {},
   "source": [
    "### Question 1:  Mueller's Method\n",
    "\n",
    "Mueller's method is another root-finding method. It uses 3 points to approximate your function locally with a parabola, and then computes the intersection of the parabola with $y=0$ to update one of your points. The main advantage of Mueller's method with respect to Newton's method and its variant, is that it can compute complex roots."
   ]
  },
  {
   "cell_type": "markdown",
   "metadata": {},
   "source": [
    "1.a You will write a function rootMuellerMethod with inputs: $f$ a function handle, $p0$, $p1$, $p0$ the initial guesses, $\\epsilon$ the tolerance, and $Nmax$ the maximum number of iterations. \n",
    "\n",
    "Your function will raise an error if the convergence is not reached in the specified number of iterations.\n",
    "\n",
    "The output of the function will depend on the optional parameter $history$. If $history$ is false, the function will output the last guess $p$; on the other hand, if $history$ is true the output will be vector $p$ with all the intermediate steps.\n",
    "\n",
    "Hint: you may need to use complex arithmetic. In order to avoid errors, you need to force p0,p1 and p2 to be complex numbers. "
   ]
  },
  {
   "cell_type": "code",
   "execution_count": null,
   "metadata": {
    "collapsed": false
   },
   "outputs": [],
   "source": [
    "function rootMuellerMethod(f,p0,p1,p2, ϵ, Nmax; history = true )\n",
    "    p0, p1, p2 = (p0 + 0*im,p1 + 0*im,p2 + 0*im)  # forcing p0,p1,p2 to be complex numbers\n",
    "    history && (hist = ([p0 p1 p2][:]))  # hist vector for the succesive approximations\n",
    "    #write the body of the function in here\n",
    "    \n",
    "end"
   ]
  },
  {
   "cell_type": "markdown",
   "metadata": {
    "collapsed": true
   },
   "source": [
    "### Question 2:  Comparison of the Root-Finding algorithms\n",
    "\n",
    "2.a You will write a script to find all the roots to within $10^{-6}$ of the following polynomials using Mueller's Method. You will use the function that you just wrote, with suitable initial guesses. If you can not find all the complex roots you may want to take a look at Theorem 2.20 in your textbook. \n",
    "\n",
    "Hint: In Julia you can use the conj function to compute the conjugate of a complex number."
   ]
  },
  {
   "cell_type": "code",
   "execution_count": null,
   "metadata": {
    "collapsed": false
   },
   "outputs": [],
   "source": [
    "p1(x) = x.^3 - 2*x.^2 - 5\n",
    "p2(x) = x.^3 + 3*x.^2 - 1\n",
    "p3(x) = x.^3 - x - 1\n",
    "p4(x) = x.^4 + x.^2 - x - 3\n",
    "p5(x) = x.^4 + 4.001*x.^2 + 4.002*x + 1.101\n",
    "p6(x) = x.^5 - x.^4 + 2*x.^2 + x - 4"
   ]
  },
  {
   "cell_type": "markdown",
   "metadata": {},
   "source": [
    "In order to make the correction of the Homework easier, you will print in the console (using the function print) the roots for each polynomial."
   ]
  },
  {
   "cell_type": "code",
   "execution_count": null,
   "metadata": {
    "collapsed": false
   },
   "outputs": [],
   "source": [
    "# write your script here\n",
    "# roots of p1\n",
    "\n",
    "\n",
    "# roots of p2\n",
    "\n",
    "\n",
    "# roots of p3\n",
    "\n",
    "\n",
    "# roots of p4\n",
    "\n",
    "\n",
    "# roots of p5\n",
    "\n",
    "\n",
    "# roots of p6\n",
    "\n"
   ]
  },
  {
   "cell_type": "markdown",
   "metadata": {},
   "source": [
    "2.c You will write a script that finds all the roots of the polynomials, using the Newton's Method. You will use the Newton's method you wrote in Question 2 from Homework 2. Can you find all roots? Why?"
   ]
  },
  {
   "cell_type": "code",
   "execution_count": null,
   "metadata": {
    "collapsed": false
   },
   "outputs": [],
   "source": [
    "# use this space to write your Newton's method\n"
   ]
  },
  {
   "cell_type": "markdown",
   "metadata": {},
   "source": [
    "In order to make the correction of the Homework easier, you will print in the console (using the function print) the roots for each polynomial. \n",
    "\n",
    "Hint: You need to define by hand the derivative of each polynomial in order to be passed as a function handle to your Newton's method."
   ]
  },
  {
   "cell_type": "code",
   "execution_count": null,
   "metadata": {
    "collapsed": false
   },
   "outputs": [],
   "source": [
    "# write your script here\n",
    "# roots of p1\n",
    "\n",
    "\n",
    "# roots of p2\n",
    "\n",
    "\n",
    "# roots of p3\n",
    "\n",
    "\n",
    "# roots of p4\n",
    "\n",
    "\n",
    "# roots of p5\n",
    "\n",
    "\n",
    "# roots of p6\n",
    "\n"
   ]
  },
  {
   "cell_type": "markdown",
   "metadata": {
    "collapsed": true
   },
   "source": [
    "Answer:"
   ]
  },
  {
   "cell_type": "markdown",
   "metadata": {},
   "source": [
    "2.c You will write a script that finds all the roots of the polynomials, using the Companion matrix method. You will use the companion matrix algorithm you wrote in Question 3 from Homework 2."
   ]
  },
  {
   "cell_type": "code",
   "execution_count": null,
   "metadata": {
    "collapsed": false
   },
   "outputs": [],
   "source": [
    "# use this space to write your companion matrix root-finding method\n"
   ]
  },
  {
   "cell_type": "markdown",
   "metadata": {},
   "source": [
    "In order to make the correction of the Homework easier, you will print in the console (using the function print) the roots for each polynomial."
   ]
  },
  {
   "cell_type": "code",
   "execution_count": null,
   "metadata": {
    "collapsed": false
   },
   "outputs": [],
   "source": [
    "# write your script ro find the roots in here\n",
    "# roots of p1\n",
    "\n",
    "\n",
    "# roots of p2\n",
    "\n",
    "\n",
    "# roots of p3\n",
    "\n",
    "\n",
    "# roots of p4\n",
    "\n",
    "\n",
    "# roots of p5\n",
    "\n",
    "\n",
    "# roots of p6\n",
    "\n"
   ]
  },
  {
   "cell_type": "markdown",
   "metadata": {},
   "source": [
    "2.d Compare the algorithms (Mueller's method, Newton's Method, and Companion matrix) in this three aspects:\n",
    "\n",
    "- memory footprint (how much memory is being allocated) with respect to the degree of the polynomial\n",
    "\n",
    "- complexity (how many operations are performed) with respect to the degree of the polynomail\n",
    "\n",
    "- implementation, which one is easier to implement and run.\n",
    "\n",
    "Hints: \n",
    "- The complexity of the eigenvalue decomposition is $\\mathcal{O}(p^3)$ for a $p \\times p$ matrix. \n",
    "- You can find useful to use \"big O\" notation. $\\mathcal{O}(1)$: independent of n,  $\\mathcal{O}(n)$: linear in n, $\\mathcal{O}(n^2)$: quadratic in n, etc. \n",
    "- You can make some assumptions with respect to the number of iterations, to simplify your claims."
   ]
  },
  {
   "cell_type": "markdown",
   "metadata": {},
   "source": [
    "Answer: "
   ]
  }
 ],
 "metadata": {
  "kernelspec": {
   "display_name": "Julia 0.3.10",
   "language": "julia",
   "name": "julia-0.3"
  },
  "language_info": {
   "file_extension": ".jl",
   "mimetype": "application/julia",
   "name": "julia",
   "version": "0.3.10"
  }
 },
 "nbformat": 4,
 "nbformat_minor": 0
}
