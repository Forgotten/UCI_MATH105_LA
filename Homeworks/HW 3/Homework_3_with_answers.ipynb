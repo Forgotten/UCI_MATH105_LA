{
 "cells": [
  {
   "cell_type": "markdown",
   "metadata": {},
   "source": [
    "## Homework 3\n",
    "\n",
    "Name: \n",
    "\n",
    "Collaborators:\n",
    "\n",
    "Homework due Friday 10/23/2015 before 23:55\n",
    "\n",
    "Please, write the name of your collaborators. We encourage collaboration for solving the homework; however, you need to write your own code and acknowledge your collaborators. \n",
    "\n"
   ]
  },
  {
   "cell_type": "markdown",
   "metadata": {},
   "source": [
    "### Question 1:  Mueller's Method\n",
    "\n",
    "Mueller's method is another root-finding method. It uses 3 points to approximate your function locally with a parabola, and then computes the intersection of the parabola with $y=0$ to update one of your points. The main advantage of Mueller's method with respect to Newton's method and its variant, is that it can compute complex roots."
   ]
  },
  {
   "cell_type": "markdown",
   "metadata": {},
   "source": [
    "1.a You will write a function rootMuellerMethod with inputs: $f$ a function handle, $p0$, $p1$, $p0$ the initial guesses, $\\epsilon$ the tolerance, and $Nmax$ the maximum number of iterations. \n",
    "\n",
    "Your function will raise an error if the convergence is not reached in the specified number of iterations.\n",
    "\n",
    "The output of the function will depend on the optional parameter $history$. If $history$ is false, the function will output the last guess $p$; on the other hand, if $history$ is true the output will be vector $p$ with all the intermediate steps.\n",
    "\n",
    "Hint: you may need to use complex arithmetic. In order to avoid errors, you need to force p0,p1 and p2 to be complex numbers. "
   ]
  },
  {
   "cell_type": "code",
   "execution_count": 1,
   "metadata": {
    "collapsed": false
   },
   "outputs": [
    {
     "data": {
      "text/plain": [
       "rootMuellerMethod (generic function with 1 method)"
      ]
     },
     "execution_count": 1,
     "metadata": {},
     "output_type": "execute_result"
    }
   ],
   "source": [
    "function rootMuellerMethod(f,p0,p1,p2, ϵ, Nmax; history = false )\n",
    "    p0, p1, p2 = (p0 + 0*im,p1 + 0*im,p2 + 0*im)  # forcing p0,p1,p2 to be complex numbers\n",
    "    history && (hist = ([p0 p1 p2][:]))  # defining the history vector\n",
    "    # and adding the first 3 guesses\n",
    "    # the code is extract straight from the book\n",
    "    h1 = p1 - p0\n",
    "    h2 = p2 - p1\n",
    "    δ1 = (f(p1) - f(p0))/h1\n",
    "    δ2 = (f(p2) - f(p1))/h2\n",
    "    d  = (δ2-δ1)/(h2 + h1)\n",
    "    \n",
    "    for i = 1:Nmax\n",
    "        b = δ2 + h2*d\n",
    "        # compute the deternminant\n",
    "        # we need to use complex arithmetic here\n",
    "        D = sqrt(b^2 - 4*f(p2)*d)\n",
    "        # we select the appropiate root of the parabola\n",
    "        abs(b-D) < abs(d+D) ? E = b+D : E = b-D\n",
    "        h = -2*f(p2)/E\n",
    "        p = p2+h\n",
    "        history && (push!(hist,p))\n",
    "        # if the update is smaller than the tolerance\n",
    "        # we give back the answer\n",
    "        if (abs(h) < ϵ)\n",
    "            # if history is true we return the vector\n",
    "            # with all the intermediate steps; otherwise\n",
    "            # we retunr just the last p \n",
    "            history? (return hist) : (return p)\n",
    "        end\n",
    "        # we get ready for the next iteration\n",
    "        p0 = p1\n",
    "        p1 = p2\n",
    "        p2 = p\n",
    "        h1 = p1 - p0\n",
    "        h2 = p2 - p1\n",
    "        δ1 = (f(p1) - f(p0))/h1\n",
    "        δ2 = (f(p2) - f(p1))/h2\n",
    "        d  = (δ2-δ1)/(h2 + h1)\n",
    "    end\n",
    "    error(\"Method failed after Max Number of iterations\")\n",
    "end"
   ]
  },
  {
   "cell_type": "markdown",
   "metadata": {
    "collapsed": true
   },
   "source": [
    "### Question 2:  Comparison of the Root-Finding algorithms\n",
    "\n",
    "2.a You will write a script to find all the roots to within $10^{-6}$ of the following polynomials using Mueller's Method. You will use the function that you just wrote, with suitable initial guesses. If you can not find all the complex roots you may want to take a look at Theorem 2.20 in your textbook. In Julia you can use the conj function to compute the conjugate of a complex number."
   ]
  },
  {
   "cell_type": "code",
   "execution_count": 2,
   "metadata": {
    "collapsed": false
   },
   "outputs": [
    {
     "data": {
      "text/plain": [
       "p6 (generic function with 1 method)"
      ]
     },
     "execution_count": 2,
     "metadata": {},
     "output_type": "execute_result"
    }
   ],
   "source": [
    "p1(x) = x.^3 - 2*x.^2 - 5\n",
    "p2(x) = x.^3 + 3*x.^2 - 1\n",
    "p3(x) = x.^3 - x - 1\n",
    "p4(x) = x.^4 + x.^2 - x - 3\n",
    "p5(x) = x.^4 + 4.001*x.^2 + 4.002*x + 1.101\n",
    "p6(x) = x.^5 - x.^4 + 2*x.^2 + x - 4"
   ]
  },
  {
   "cell_type": "markdown",
   "metadata": {},
   "source": [
    "In order to make the correction of the Homework easier, you will print in the console (using the function print) the roots for each polynomial."
   ]
  },
  {
   "cell_type": "code",
   "execution_count": 11,
   "metadata": {
    "collapsed": false
   },
   "outputs": [
    {
     "name": "stdout",
     "output_type": "stream",
     "text": [
      "Roots of P1 \n",
      " 2.6906474480286136 + 0.0im\n",
      "-0.3453237240142915 + 1.3187267795713722im\n",
      "-0.3453237240142915 - 1.3187267795713722im\n",
      "Roots of P2 \n",
      " 0.5320888862379617 - 2.4635870169018266e-14im\n",
      "-2.879385241571816 + 0.0im\n",
      "-0.65270364466614 + 0.0im\n",
      "Roots of P3 \n",
      "-0.6623589786226283 - 0.5622795120620463im\n",
      "-0.6623589786226283 + 0.5622795120620463im\n",
      "1.3247179572439298 - 4.4693717316438534e-13im\n",
      "Roots of P4 \n",
      "-0.13784110182551523 - 1.527312250886601im\n",
      "-0.13784110182551523 + 1.527312250886601im\n",
      "1.2756822036508013 + 0.0im\n",
      "-1.0 + 0.0im\n",
      "Roots of P5 \n",
      "0.45855586303572055 + 2.095858592591658im\n",
      "0.45855586303572055 - 2.095858592591658im\n",
      "-0.4585558630371269 - 0.17006974716965353im\n",
      "-0.4585558630371269 + 0.17006974716965353im\n",
      "Roots of P6 \n",
      "1.1430034814355925 + 0.0im\n",
      "1.1430034814355925 + 0.0im\n",
      "1.1430034814355925 + 0.0im\n",
      "1.1430034814355925 - 1.049200612163558e-16im\n"
     ]
    }
   ],
   "source": [
    "# write your script here\n",
    "# roots of p1\n",
    "root1_1 = rootMuellerMethod(p1,0.1,-1.0, 3.0, 1e-6, 30, history = true )\n",
    "root1_2 = rootMuellerMethod(p1,0.1,-1.0,-3.0, 1e-6, 30, history = true )\n",
    "print(\"Roots of P1 \\n \",root1_1[end],  \"\\n\")\n",
    "print(root1_2[end],  \"\\n\")\n",
    "print(root1_2[end]',  \"\\n\")\n",
    "# roots of p2\n",
    "root1_1 = rootMuellerMethod(p2,0.1,-1.0, 3.0, 1e-6, 30, history = true )\n",
    "root1_2 = rootMuellerMethod(p2,0.1,-1.0,-3.0, 1e-6, 30, history = true )\n",
    "root1_3 = rootMuellerMethod(p2,1,-1.0,-3.0, 1e-6, 30, history = true )\n",
    "print(\"Roots of P2 \\n \",root1_1[end],  \"\\n\")\n",
    "print(root1_2[end],  \"\\n\")\n",
    "print(root1_3[end],  \"\\n\")\n",
    "# roots of p3\n",
    "root1_1 = rootMuellerMethod(p3,0.1,-1.0,-3.0, 1e-6, 30, history = true )\n",
    "root1_2 = rootMuellerMethod(p3,1,-1.0,-3.0, 1e-6, 30, history = true )\n",
    "print(\"Roots of P3 \\n\",root1_1[end],  \"\\n\")\n",
    "print(root1_1[end]',  \"\\n\")\n",
    "print(root1_2[end],  \"\\n\")\n",
    "\n",
    "# roots of p4\n",
    "root1_1 = rootMuellerMethod(p4,-11,1.0, 20.0, 1e-6, 30, history = true )\n",
    "root1_2 = rootMuellerMethod(p4,0.1,-1.0,-3.0, 1e-6, 30, history = true )\n",
    "root1_3 = rootMuellerMethod(p4,-2.3,-2.5,-1.0, 1e-6, 200, history = true )\n",
    "print(\"Roots of P4 \\n\",root1_1[end],  \"\\n\")\n",
    "print(root1_1[end]',  \"\\n\")\n",
    "print(root1_2[end],  \"\\n\")\n",
    "print(root1_3[end],  \"\\n\")\n",
    "\n",
    "# roots of p5\n",
    "root1_1 = rootMuellerMethod(p5,-11,1.0, 20.0, 1e-6, 30, history = true )\n",
    "root1_2 = rootMuellerMethod(p5,0.1,-1.0,-3.0, 1e-6, 30, history = true )\n",
    "print(\"Roots of P5 \\n\",root1_1[end],  \"\\n\")\n",
    "print(root1_1[end]',  \"\\n\")\n",
    "print(root1_2[end],  \"\\n\")\n",
    "print(root1_2[end]',  \"\\n\")\n",
    "# roots of p6\n",
    "root1_1 = rootMuellerMethod(p6,1.1,1.0, 1.2, 1e-6, 30, history = true )\n",
    "root1_2 = rootMuellerMethod(p6,0.8,0.85, .9, 1e-6, 30 ,history = true )\n",
    "root1_3 = rootMuellerMethod(p6,-2.3,-2.5,-1.0, 1e-6, 200, history = true )\n",
    "print(\"Roots of P6 \\n\",root1_1[end],  \"\\n\")\n",
    "print(root1_2[end],  \"\\n\")\n",
    "print(root1_2[end],  \"\\n\")\n",
    "print(root1_3[end],  \"\\n\")\n"
   ]
  },
  {
   "cell_type": "markdown",
   "metadata": {},
   "source": [
    "2.c You will write a script that finds all the roots of the polynomials, using the Newton's Method. You will use the Newton's method you wrote in Question 2 from Homework 2. Can you find all roots? "
   ]
  },
  {
   "cell_type": "code",
   "execution_count": 4,
   "metadata": {
    "collapsed": false
   },
   "outputs": [
    {
     "data": {
      "text/plain": [
       "newtonMethod (generic function with 1 method)"
      ]
     },
     "execution_count": 4,
     "metadata": {},
     "output_type": "execute_result"
    }
   ],
   "source": [
    "function newtonMethod(f,dfdx, p0, ϵ, Nmax; history=false)\n",
    "    # if history true, declare an array an push p0 inside\n",
    "    history && (pHist = [p0][:])\n",
    "    # for loop\n",
    "    for i = 1:Nmax\n",
    "        p = p0 - f(p0)/dfdx(p0) # p_{n+1} = p_n - f(p_n)/f'(p_n)\n",
    "        history && push!(pHist, p) # if history is true, push p_{n+1} into the pHist\n",
    "        if abs(p-p0)<ϵ  # if the update is smaller than the tolerance return the answer\n",
    "            history? (return pHist): (return p)\n",
    "        end\n",
    "        p0 = p # update p0 to start a new iteration\n",
    "    end\n",
    "    error(\"Accuracy not achieved within the specified number of iterations\")\n",
    "end\n"
   ]
  },
  {
   "cell_type": "markdown",
   "metadata": {},
   "source": [
    "In order to make the correction of the Homework easier, you will print in the console (using the function print) the roots for each polynomial. You need to define by hand the derivative of the polynomial in order to be passed as a function handle to your Newton's method."
   ]
  },
  {
   "cell_type": "code",
   "execution_count": 10,
   "metadata": {
    "collapsed": false
   },
   "outputs": [
    {
     "name": "stdout",
     "output_type": "stream",
     "text": [
      "Reals roots of P1 \n",
      "2.6906474480286136\n",
      "Reals roots of P2 \n",
      "0.532088886237956\n",
      "Reals roots of P3 \n",
      "1.324717957244746\n",
      "Reals roots of P4 \n",
      "1.275682203650985\n",
      "-1.0000000000000606\n",
      "Reals roots of P6 \n",
      "1.1430034814355925\n"
     ]
    }
   ],
   "source": [
    "# write your script here\n",
    "# roots of p1\n",
    "dp1dx(x) = 3x.^2 - 4*x \n",
    "rootNewton1 = newtonMethod(p1,dp1dx, 2.0, 1e-6, 30)\n",
    "println(\"Reals roots of P1 \\n\", rootNewton1)\n",
    "# roots of p2\n",
    "dp2dx(x) = 3x.^2 + 6*x \n",
    "rootNewton2 = newtonMethod(p2,dp2dx, 2.0, 1e-6, 30)\n",
    "println(\"Reals roots of P2 \\n\", rootNewton2)\n",
    "# roots of p3\n",
    "dp3dx(x) = 3x.^2 - 1 \n",
    "rootNewton3 = newtonMethod(p3,dp3dx, 2.0, 1e-6, 30)\n",
    "println(\"Reals roots of P3 \\n\", rootNewton3)\n",
    "\n",
    "# roots of p4\n",
    "dp4dx(x) = 4x.^3 + 2*x -1 \n",
    "rootNewton4 = newtonMethod(p4,dp4dx, 2.0, 1e-6, 30)\n",
    "rootNewton4v2 = newtonMethod(p4,dp4dx, -2.0, 1e-6, 30)\n",
    "println(\"Reals roots of P4 \\n\", rootNewton4)\n",
    "println( rootNewton4v2)\n",
    "# roots of p6\n",
    "dp6dx(x) = 5x.^4 - 4*x^3 + 4*x +1 \n",
    "rootNewton6 = newtonMethod(p6,dp6dx, 2.0, 1e-6, 30)\n",
    "println(\"Reals roots of P6 \\n\", rootNewton6)\n",
    "\n"
   ]
  },
  {
   "cell_type": "markdown",
   "metadata": {
    "collapsed": true
   },
   "source": [
    "Answer: The implementation of the Newton's method doesn't utilize complex arithmetic. In particular, we can only use real initial guesses, which means that we can only find real roots."
   ]
  },
  {
   "cell_type": "markdown",
   "metadata": {},
   "source": [
    "2.c You will write a script that finds all the roots of the polynomials, using the Companion matrix method. You will use the companion matrix algorithm you wrote in Question 3 from Homework 2."
   ]
  },
  {
   "cell_type": "code",
   "execution_count": 6,
   "metadata": {
    "collapsed": false
   },
   "outputs": [
    {
     "data": {
      "text/plain": [
       "rootFindingCompanionMatrix (generic function with 1 method)"
      ]
     },
     "execution_count": 6,
     "metadata": {},
     "output_type": "execute_result"
    }
   ],
   "source": [
    "# use this space to write your companion matrix root-finding method\n",
    "function companionMatrix(alpha)\n",
    "    n = length(alpha)-1  # the deegre of the polynomial\n",
    "    M = diagm(ones(n-1,1)[:],-1) # we build and fill the matrix with ones in the first subdiagonal\n",
    "    M[:,end] = -alpha[1:end-1]/alpha[end]  # we put the coefficient in the righ-most column of M\n",
    "    return M\n",
    "end\n",
    "\n",
    "function rootFindingCompanionMatrix(alpha)\n",
    "    (root, eigVec) = eig(companionMatrix(alpha)) \n",
    "    return root\n",
    "end"
   ]
  },
  {
   "cell_type": "markdown",
   "metadata": {},
   "source": [
    "In order to make the correction of the Homework easier, you will print in the console (using the function print) the roots for each polynomial."
   ]
  },
  {
   "cell_type": "code",
   "execution_count": 8,
   "metadata": {
    "collapsed": false
   },
   "outputs": [
    {
     "name": "stdout",
     "output_type": "stream",
     "text": [
      "Roots of p1 \n",
      "Complex{Float64}[-0.34532372401430633 + 1.3187267795713242im,-0.34532372401430633 - 1.3187267795713242im,2.6906474480286136 + 0.0im]\n",
      "Roots of p2 \n",
      "[0.5320888862379564,-0.6527036446661387,-2.8793852415718164]\n",
      "Roots of p3 \n",
      "Complex{Float64}[-0.6623589786223731 + 0.5622795120623013im,-0.6623589786223731 - 0.5622795120623013im,1.324717957244746 + 0.0im]\n",
      "Roots of p4 \n",
      "Complex{Float64}[1.2756822036509847 + 0.0im,-0.9999999999999998 + 0.0im,-0.13784110182549236 + 1.52731225088663im,-0.13784110182549236 - 1.52731225088663im]\n",
      "Roots of p5 \n",
      "Complex{Float64}[-0.4585558630371269 + 0.1700697471696595im,-0.4585558630371269 - 0.1700697471696595im,0.4585558630371271 + 2.095858592593759im,0.4585558630371271 - 2.095858592593759im]\n",
      "Roots of p6 \n",
      "Complex{Float64}[-0.9991033032813696 + 0.6643596348511132im,-0.9991033032813696 - 0.6643596348511132im,0.9276015625635745 + 1.2531986372341644im,0.9276015625635745 - 1.2531986372341644im,1.1430034814355923 + 0.0im]\n"
     ]
    }
   ],
   "source": [
    "# write your script ro find the roots in here\n",
    "# roots of p1\n",
    "roots1 = rootFindingCompanionMatrix([-5 0 -2 1])\n",
    "println(\"Roots of p1 \\n\",roots1)\n",
    "# roots of p2\n",
    "roots2 = rootFindingCompanionMatrix([-1 0 3 1])\n",
    "println(\"Roots of p2 \\n\",roots2)\n",
    "# roots of p3\n",
    "roots3 = rootFindingCompanionMatrix([-1 -1 0 1])\n",
    "println(\"Roots of p3 \\n\",roots3)\n",
    "# roots of p4\n",
    "roots4 = rootFindingCompanionMatrix([-3  -1 1 0 1])\n",
    "println(\"Roots of p4 \\n\",roots4)\n",
    "# roots of p5\n",
    "roots5 = rootFindingCompanionMatrix([1.101 4.002 4.001 0 1])\n",
    "println(\"Roots of p5 \\n\",roots5)\n",
    "# roots of p6\n",
    "roots6 = rootFindingCompanionMatrix([-4 1 2  0 -1 1 ])\n",
    "println(\"Roots of p6 \\n\",roots6)\n"
   ]
  },
  {
   "cell_type": "markdown",
   "metadata": {},
   "source": [
    "2.d Compare the algorithms (Mueller's method, Newton's Method, and Companion matrix) in this three aspects:\n",
    "\n",
    "- memory footprint (how much memory is being allocated) with respect to the degree of the polynomial\n",
    "\n",
    "- complexity (how many operations are performed) with respect to the degree of the polynomail\n",
    "\n",
    "- implementation, which one is easier to implement and run.\n",
    "\n",
    "Hints: \n",
    "- The complexity of the eigenvalue decomposition is $\\mathcal{O}(p^3)$ for a $p \\times p$ matrix. \n",
    "- You can find useful to use \"big O\" notation. $\\mathcal{O}(1)$: independent of n,  $\\mathcal{O}(n)$: linear in n, $\\mathcal{O}(n^2)$: quadratic in n, etc. \n",
    "- You can make some assumptions with respect to the number of iterations, to simplify your claims."
   ]
  },
  {
   "cell_type": "markdown",
   "metadata": {},
   "source": [
    "Answer: We denote the degree of the polynomial as $n$.<br>\n",
    "#### Memory: \n",
    "- Newton's Method: each call needs $\\mathcal{O}(1)$ memory, but we need to store $n$ roots, then the memory footprint is $\\mathcal{O}(n)$;\n",
    "- Mueller's Method: same as Newton's Method;\n",
    "- Companion Matrix: we need to create a $n\\times n$ matrices, which will use $\\mathcal{O}(n^2)$ memory. (if we use sparse matrices the memory can go down to $\\mathcal{O}(n)$\n",
    "\n",
    "#### Complexity: <br>\n",
    "We suppose that each call to $f$ and $f'$ can be done in a time independent of the degree of the polynomial $n$, i.e. in $\\mathcal{O}(1)$ time; moreover, we assume that the number of iterations for convergence of the Newton and Mueller's method do not depend on the degree of the polynomail. Under these assumptions we have that: <br>\n",
    "- Newton's Method: $\\mathcal{O}(1)$ per call, but given that the polynomial has $n$ roots we need $n$ calls, then the complexity is $\\mathcal{O}(n)$;\n",
    "- Mueller's Method:  same as Newton's Method;\n",
    "- Companion Matrix: We need to compute the eigenvalues of a $n\\times n$ matrices, using a Hessenberg reduction and the QR algorithm (you will study it later in class) we have that the complexity is $\\mathcal{O}(n^3)$.\n",
    "\n",
    "#### Implementation:\n",
    "Newton's method can not obtain complex roots starting from a real guess. We would need to change the implementation in order to use Complex arithmetic.\n",
    "You can obtain all the roots with Mueller's method, even the complex ones, but you need to find suitable initial guesses, which can be labor intesive.\n",
    "The companion matrix is the de facto method to find roots, it is extremely easy to code and you obtain all the roots without any user intervention. However, its asymptotic cost is higher."
   ]
  }
 ],
 "metadata": {
  "kernelspec": {
   "display_name": "Julia 0.3.10",
   "language": "julia",
   "name": "julia-0.3"
  },
  "language_info": {
   "file_extension": ".jl",
   "mimetype": "application/julia",
   "name": "julia",
   "version": "0.3.10"
  }
 },
 "nbformat": 4,
 "nbformat_minor": 0
}
