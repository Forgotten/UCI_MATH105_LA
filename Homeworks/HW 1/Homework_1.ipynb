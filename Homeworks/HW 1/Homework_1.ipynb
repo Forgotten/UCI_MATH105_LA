{
 "cells": [
  {
   "cell_type": "markdown",
   "metadata": {},
   "source": [
    "# MATH 105 LA\n",
    "\n",
    "### Homework: due Thursday 10/08/2015\n",
    "\n",
    "Name:\n",
    "\n",
    "Collaborators:\n",
    "\n",
    "Please list the name of your collaborators.\n",
    "\n",
    "You will be asked to fill the body of the functions. To make my life (and therefore yours) easier please respect the imput and output of every function. The homework will be graded using a script that test your functions (using the name, input and output I provided here) in a automated fashion.\n"
   ]
  },
  {
   "cell_type": "markdown",
   "metadata": {},
   "source": [
    "## Question 1: Numerical evaluation of $e^x$ \n",
    "\n",
    "You saw last time that trying to evaluate $e$, the Euler's number, by a well known limit didn't work well, due to finite precission arithmetics. In this question you will write a function to compute $e$ in a stable manner.  \n",
    "\n",
    "We will use a truncated Taylor series of $e^x$ around 0 which is given by\n",
    "\n",
    "\\begin{equation}\n",
    "   e^{x} = \\sum_{i = 0}^{\\infty} \\frac{x^i}{i!}.\n",
    "\\end{equation}"
   ]
  },
  {
   "cell_type": "markdown",
   "metadata": {},
   "source": [
    "Q1.a Write a small function that takes an integer nTerms, and gives back the approximation of $e$ via a truncated Taylor series with nTerms."
   ]
  },
  {
   "cell_type": "code",
   "execution_count": null,
   "metadata": {
    "collapsed": false
   },
   "outputs": [],
   "source": [
    "function evalExponential(Nterms::Int)\n",
    "    # complete the body of the function\n",
    "    return approxE # return the approximation of e\n",
    "end"
   ]
  },
  {
   "cell_type": "markdown",
   "metadata": {},
   "source": [
    "Test your code by running"
   ]
  },
  {
   "cell_type": "code",
   "execution_count": null,
   "metadata": {
    "collapsed": false
   },
   "outputs": [],
   "source": [
    "evalExponential(10)-e"
   ]
  },
  {
   "cell_type": "markdown",
   "metadata": {},
   "source": [
    "You should see that the result of your function converges fast as you increse the nTerms. Now run your code using the snippet below to observe the convergence rate.\n",
    "We first load the plotting library Gadfly."
   ]
  },
  {
   "cell_type": "code",
   "execution_count": null,
   "metadata": {
    "collapsed": true
   },
   "outputs": [],
   "source": [
    "import Gadfly\n",
    "using Gadfly"
   ]
  },
  {
   "cell_type": "markdown",
   "metadata": {},
   "source": [
    "We compute the relative error for different number of terms and we plot it in semilog scale."
   ]
  },
  {
   "cell_type": "code",
   "execution_count": null,
   "metadata": {
    "collapsed": false
   },
   "outputs": [],
   "source": [
    "Error = {abs(evalExponential(ii) -e)/e for ii=1:15} \n",
    "plot(x = 1:15, y = Error, Scale.y_log10)"
   ]
  },
  {
   "cell_type": "markdown",
   "metadata": {},
   "source": [
    "Can you comment, based on the truncation error of the Taylor series, why you see this convergence ratio?"
   ]
  },
  {
   "cell_type": "markdown",
   "metadata": {},
   "source": [
    "Answer:"
   ]
  },
  {
   "cell_type": "markdown",
   "metadata": {},
   "source": [
    "Q1.b: In practice, we do not known the exact answer, so we want to know a priori how many terms we need to obtain certain accuracy. In this case you can easily check the theoretical accuracy using the reminder term in the truncated Taylor series. Write a function that computes the number of terms needed in the expansion to obtain a desired accuracy $\\epsilon$."
   ]
  },
  {
   "cell_type": "code",
   "execution_count": null,
   "metadata": {
    "collapsed": false
   },
   "outputs": [],
   "source": [
    "function numberTermsForAccuracy(ϵ)\n",
    "    # complete the body of the function\n",
    "    return nTerms # return the number of terms\n",
    "end"
   ]
  },
  {
   "cell_type": "markdown",
   "metadata": {},
   "source": [
    "Q1.c: Use your function numberTermsForAccuracy to evaluate $e$ using the truncated Taylor series to the desired accuracy."
   ]
  },
  {
   "cell_type": "code",
   "execution_count": null,
   "metadata": {
    "collapsed": false
   },
   "outputs": [],
   "source": [
    "function evalExponential(ϵ::Float64)\n",
    "    # complete the body of the function\n",
    "    return approxE\n",
    "end"
   ]
  },
  {
   "cell_type": "markdown",
   "metadata": {},
   "source": [
    "Q1.d: Modify your function numberTermsForAccuracy to take any number $x$ and any accuracy $\\epsilon$, and compute the number of terms needed to compute an approximation to $e^x$ using a truncated Taylor series. "
   ]
  },
  {
   "cell_type": "code",
   "execution_count": null,
   "metadata": {
    "collapsed": false
   },
   "outputs": [],
   "source": [
    "function numberTermsForAccuracy(x, ϵ)\n",
    "    # complete the body of the function\n",
    "    return nTerms\n",
    "end"
   ]
  },
  {
   "cell_type": "markdown",
   "metadata": {},
   "source": [
    "Q1.e: Write a function to evaluate $e^x$ for any accuracy $\\epsilon$."
   ]
  },
  {
   "cell_type": "code",
   "execution_count": null,
   "metadata": {
    "collapsed": false
   },
   "outputs": [],
   "source": [
    "function evalExponential(x,ϵ)\n",
    "    # complete the body of the function\n",
    "    return approxE\n",
    "end"
   ]
  },
  {
   "cell_type": "markdown",
   "metadata": {},
   "source": [
    "### Question 2: Computing roots\n",
    "\n",
    "Another important class of algorithms in scientific computing are the root-finding algorithms. They are central for solving algebraic equations, given that any algebraic equation can be translated to a root-finding problem. \n",
    "\n",
    "for example solving the algebraic equation $x^3 = x +1$, can be translated to find the zeros of the function $f(x) = x^3 -x -1"
   ]
  },
  {
   "cell_type": "markdown",
   "metadata": {},
   "source": [
    "Q2.a: You will implement the bisection method to find the root of any function $f$ within the interval $[a,b]$ with an accuracy $\\epsilon$, and with maximun number of iterations $N_{\\text{max}}$. Remember that by hypothesis $f(a)\\cdot(b) <0$, i.e. the endpoints have different sign. The method should return a real number that it within  $\\epsilon$ distance from the root. "
   ]
  },
  {
   "cell_type": "code",
   "execution_count": null,
   "metadata": {
    "collapsed": false
   },
   "outputs": [],
   "source": [
    "function findRootBisection(f,a,b,ϵ, Nmax)\n",
    "    # complete the body of the function\n",
    "end"
   ]
  },
  {
   "cell_type": "markdown",
   "metadata": {},
   "source": [
    "To test your function you can define a function, for example:"
   ]
  },
  {
   "cell_type": "code",
   "execution_count": null,
   "metadata": {
    "collapsed": false
   },
   "outputs": [],
   "source": [
    "function ff(x)\n",
    "    return x^3+0.00001*x^4-0.3\n",
    "end"
   ]
  },
  {
   "cell_type": "markdown",
   "metadata": {},
   "source": [
    "And use your root finding algorithm!"
   ]
  },
  {
   "cell_type": "code",
   "execution_count": null,
   "metadata": {
    "collapsed": false
   },
   "outputs": [],
   "source": [
    "ff(findRootBisection(ff,-1.1,1.4,0.0000001, 30))"
   ]
  },
  {
   "cell_type": "markdown",
   "metadata": {},
   "source": [
    "This should be really small.\n",
    "\n",
    "Q2.b In the space below write a script that uses your root finding function to find the solution of the equation \n",
    "\\begin{equation}\n",
    "6(e^x -x)  = 7 +3x^2 + 2x^3\n",
    "\\end{equation}\n",
    "\n",
    "between $[-1,1]$ with a tolerance of $10^{-6}$. "
   ]
  },
  {
   "cell_type": "code",
   "execution_count": null,
   "metadata": {
    "collapsed": true
   },
   "outputs": [],
   "source": []
  }
 ],
 "metadata": {
  "kernelspec": {
   "display_name": "Julia 0.3.10",
   "language": "julia",
   "name": "julia-0.3"
  },
  "language_info": {
   "file_extension": ".jl",
   "mimetype": "application/julia",
   "name": "julia",
   "version": "0.3.10"
  }
 },
 "nbformat": 4,
 "nbformat_minor": 0
}
