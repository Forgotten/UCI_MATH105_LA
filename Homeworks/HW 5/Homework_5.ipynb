{
 "cells": [
  {
   "cell_type": "markdown",
   "metadata": {},
   "source": [
    "# Homework 5\n",
    "\n",
    "Name: \n",
    "\n",
    "Collaborators:\n",
    "\n",
    "Due Friday. November 6th 2015"
   ]
  },
  {
   "cell_type": "markdown",
   "metadata": {},
   "source": [
    "## Question 1 : Inverting a Matrix\n",
    "\n",
    "In this question you will code a function that computes the inverse of a non-singular Matrix. In particular you will use the Gauss-Jordan method to find the inverse."
   ]
  },
  {
   "cell_type": "markdown",
   "metadata": {},
   "source": [
    "### Reduction to an Upper Triangular Matrix\n",
    "\n",
    "An $n \\times n$ matrix $A$ is invertible, if and only if $A$ is row equivalent to $I_n$, the $n \\times n$ identity matrix. In this case, the row operations that reduces $A$ to $I_n$, reduces $I_n$ to $A^{-1}$.\n",
    "\n",
    "You will find the invert of $A$ by applying the Gauss-Jordan elimination to the aumented matrix $ [A|I_n]$.<br>\n",
    "In order to reuse the code you wrote for your last homeworks, we will split the computation in two steps:<br> \n",
    "- A downward pass of Gaussian Elimination, that will reduce $A$ to an upper triangular Matrix,\n",
    "- and a upward pass of Gaussian elimination that will reduce your augmented matrix to a row echelon form. \n",
    " \n",
    " We will provide you with some useful functions and scripts to test and debug your functions."
   ]
  },
  {
   "cell_type": "code",
   "execution_count": null,
   "metadata": {
    "collapsed": false
   },
   "outputs": [],
   "source": [
    "function rowSwap!(A, i,j)\n",
    "    # input:   A matrix\n",
    "    #          i,j the row indexes to be swapped\n",
    "    n = size(A)[1]\n",
    "    # checking that i and j are within the permitted range\n",
    "    (i > n || j > n ) && error(\"Index out of range in the rowSwap\")\n",
    "    # if the index are not the same\n",
    "    if i != j \n",
    "        buffer = A[i,:]\n",
    "        A[i,:] = A[j,:]\n",
    "        A[j,:] = buffer\n",
    "    end\n",
    "end"
   ]
  },
  {
   "cell_type": "markdown",
   "metadata": {},
   "source": [
    "Q1.a You will write a function that performs the same Gaussian elimination that you wrote for homework 4 but with one  difference. The function takes as input: \n",
    "- A a square matrix,\n",
    "- B a matrix. <br>\n",
    "\n",
    "In other words, your matrix will take a matrix as a right-hand-side. \n",
    "Your function will create the augmented system, and perform the reduction to a upper triangular matrix.\n",
    "The output of the function will be the tuple (U,B1).\n",
    "U is the upper triangular matrix resulting from the elimination and $B1$, is the second block of the augmented matrix.<br>\n",
    "To obtain $U$ and $B1$ from your augmented matrix you perform a slicing (i.e. use [:,1:n] and [:,n+1:end]). <br> \n",
    "You will use your rowSwap function acting on the augmented matrix. <br>\n",
    "Finally, your function will raise an error if: <br>\n",
    "- the matrix is not square,<br>\n",
    "- the matrix is singular,<br>\n",
    "- the dimension of the vector and matrix are not compatible. <br>\n",
    "\n",
    "Hints: \n",
    "- You may use the function 'hcat' to build the augmented matrix. In Julia you can type <br>\n",
    "? hcat <br>\n",
    "and press enter to obtain some information of the function.<br> \n",
    "- To find the pivot you can use the function \"find()\". <br>\n",
    "- If the vector has only zero elements then the function \"find()\" will output an empty vector. <br>\n",
    "- You can check that your matrix is non-invertible by checking that the output of find is empy.<br>\n",
    "- You can easily check if an vector is empty using the \"isempty()\" function with a true or false output."
   ]
  },
  {
   "cell_type": "code",
   "execution_count": null,
   "metadata": {
    "collapsed": false
   },
   "outputs": [],
   "source": [
    "function gaussianElimination(A,B)\n",
    "    #input:   A squared matrix\n",
    "    #         B a vector\n",
    "    #output:  U upper triangular matrix\n",
    "    #         B1 the resulting vector \n",
    "    \n",
    "    # safety checks\n",
    "    (n,m) = size(A)\n",
    "    (n != m) && error(\"Matrix is not square \\n\")\n",
    "    (n != size(B)[1]) && error(\"Dimension mismatch \\n\")\n",
    "    \n",
    "    # create the augmented matrix \n",
    "    M = hcat(A,B)\n",
    "    # fill the details \n",
    "    # \n",
    "    #\n",
    "    # nested for loops \n",
    "    #\n",
    "    #\n",
    "    #\n",
    "    #\n",
    "    \n",
    "    # slicing the matrices\n",
    "    U = M[:,1:n]\n",
    "    B1 = M[:,n+1:end]\n",
    "    return (U,B1)\n",
    "end"
   ]
  },
  {
   "cell_type": "markdown",
   "metadata": {},
   "source": [
    "### Reduction to Row Echelon Form\n",
    "\n",
    "Once the matrix is reduced to a upper triangular form, you will perform an upward Gaussian Elimination to obtain the row reduced echelon form. \n"
   ]
  },
  {
   "cell_type": "markdown",
   "metadata": {},
   "source": [
    "Q1.b You will write a function that perform the second part of the Gauss-Jordan method, i.e. the reduction to reduced row echelon form .<br>\n",
    "The input of your function will be:\n",
    "- $U$: an upper triangular non-singular matrix,\n",
    "- $B$: a matrix with the same name of rows as $U$. <br>\n",
    "\n",
    "You will reduce the augmented matrix $U|B$ using the Gauss-Jordan method. Given that $U$ is already in upper triangular form, you need to reduce it to diagonal form. I.e. you need to eliminate the non-zero elements above the diagonal. In this case the final diagonal form will be an identity matrix.<br>\n",
    "\n",
    "This transformation to reduced row echelon form is equivalent to a triangular solve with mulitple right-hand-sides.\n",
    "The ouput of the function will be the tuple $(I,X)$. $I$ is the first block of the the augmented matrix, and it should be almost an identity matrix (up to machine precission). $X$ will be the solution to the matrix system $UX= B$. Note that in this case the solution $X$ is a matrix.\n",
    "\n",
    "Your function needs to have safeguards against a size mismatch (i.e., the sizes of the matrices are not compatible, or your matrix $U$ is not a square matrix).\n",
    "\n",
    "Hint: if you need to run a foor loop that goes from n-1 to 1, you can use the syntax <br>\n",
    "for j = n-1:-1:1"
   ]
  },
  {
   "cell_type": "code",
   "execution_count": null,
   "metadata": {
    "collapsed": false
   },
   "outputs": [],
   "source": [
    "function upwardGaussianElimination(A,B)\n",
    "    #input:   U a upper triangular matrix\n",
    "    #         B a Matrix\n",
    "    #output:  I and almost identity matrix\n",
    "    #         X  the answer to UX=B\n",
    "    \n",
    "    # safety checks\n",
    "    (n,m) = size(A)\n",
    "    (n != m) && error(\"Matrix is not square \\n\")\n",
    "    (n != size(B)[1]) && error(\"Dimension mismatch \\n\")\n",
    "    \n",
    "    \n",
    "    return (I,X)\n",
    "end\n",
    "    "
   ]
  },
  {
   "cell_type": "markdown",
   "metadata": {},
   "source": [
    "You can test that your function is correct by running the following script:"
   ]
  },
  {
   "cell_type": "code",
   "execution_count": null,
   "metadata": {
    "collapsed": false
   },
   "outputs": [],
   "source": [
    "# size of the Matrix\n",
    "m = 100\n",
    "# creating an upper triangular Matrix \n",
    "U = diagm(m*ones(m,1)[:], 0) + diagm(rand(m-1,1)[:], 1) + diagm(rand(m-2,1)[:], 2)\n",
    "# creating the rhs\n",
    "B = rand(size(U))\n",
    "@time (I,X) = upwardGaussianElimination(U,B)\n",
    "print(\"Residual of the backward substitution is \", norm(U*X -B)/norm(B),\"\\n\")\n",
    "print(\"Distance to an Identity matrix is \", norm(I - eye(m)), \"\\n\")"
   ]
  },
  {
   "cell_type": "markdown",
   "metadata": {},
   "source": [
    "The residual should be extremely small (around epsilon machine)"
   ]
  },
  {
   "cell_type": "markdown",
   "metadata": {},
   "source": [
    "### Inverse of a Matrix\n",
    "\n",
    "Q1.c You will write a function (very short) that finds the inverse of a Matrix $A$.<br>\n",
    "The input of your function will be :\n",
    "- A, a square matrix\n",
    "The output will be the its inverse $A^{-1}$. <br>\n",
    "\n",
    "Your function will apply the Gaussian Elimination to the augmented matrix $[A|I_n]$, and it will use the Gauss-Jordan method to find the inverse of $A$.\n",
    "Your function needs to check that your matrix is squared."
   ]
  },
  {
   "cell_type": "code",
   "execution_count": null,
   "metadata": {
    "collapsed": false
   },
   "outputs": [],
   "source": [
    "function invert(A)\n",
    "    # input:    A square matrix \n",
    "    # output:   A^{-1}\n",
    "    \n",
    "    # fill the details (rather short!)\n",
    "    return Ainv\n",
    "end"
   ]
  },
  {
   "cell_type": "markdown",
   "metadata": {},
   "source": [
    "You can test your code by running the following script"
   ]
  },
  {
   "cell_type": "code",
   "execution_count": null,
   "metadata": {
    "collapsed": false
   },
   "outputs": [],
   "source": [
    "# size of the Matrix\n",
    "m = 100\n",
    "# creating the Matrix \n",
    "A = randn(m,m) + m*eye(m)\n",
    "# compute the inverse\n",
    "Ainv = invert(A)\n",
    "# test if Ainv is the inverse \n",
    "println(\"Distance to the identity is \", norm(A*Ainv - eye(m)))"
   ]
  },
  {
   "cell_type": "markdown",
   "metadata": {},
   "source": [
    "The residual should be extremely small (around epsilon machine)"
   ]
  },
  {
   "cell_type": "markdown",
   "metadata": {},
   "source": [
    "## Question 2: Solving a linear system in a stable manner\n",
    "From your text book you know that in order to have a stable solver you need to perform some kind of pivoting. "
   ]
  },
  {
   "cell_type": "markdown",
   "metadata": {},
   "source": [
    "Q2.a You will write a function that performs the Gaussian elimination with partial pivoting (alg 6.2 in your text book). You will use as a base the function you wrote for Homework 4, and you will modify it slightly. The function takes as input: \n",
    "- A a square matrix,\n",
    "- b a vector. <br>\n",
    "\n",
    "Your function will create the augmented system, and perform the Gaussian elimination. \n",
    "The output of the function will be the tuple (U,b1).\n",
    "U is the upper triangular matrix resulting from the elimination and b1, is the resulting vector.<br>\n",
    "To obtain $U$ and $b1$ from your augmented matrix you perform a slicing (i.e. use [:,1:n]). <br> \n",
    "You will use your rowSwap function acting on the augmented matrix to perform the partial pivoting. <br>\n",
    "Finally, your function will raise an error if: <br>\n",
    "- the matrix is not square,<br>\n",
    "- the matrix is singular,<br>\n",
    "- the dimension of the vector and matrix are not compatible. <br>\n"
   ]
  },
  {
   "cell_type": "code",
   "execution_count": null,
   "metadata": {
    "collapsed": false
   },
   "outputs": [],
   "source": [
    "function gaussianEliminationPartialPivoting(A,b)\n",
    "    #input:   A squared matrix\n",
    "    #         b a vector\n",
    "    #output:  U upper triangular matrix\n",
    "    #         b1 the resulting vector \n",
    "    \n",
    "    # safety checks\n",
    "    (n,m) = size(A)\n",
    "    (n != m) && error(\"Matrix is not square \\n\")\n",
    "    (n != size(b)[1]) && error(\"Dimension mismatch \\n\")\n",
    "    \n",
    "    # create the augmented matrix \n",
    "    M = hcat(A,b)\n",
    "    #\n",
    "    #\n",
    "    #  fill the details!\n",
    "    #\n",
    "    #\n",
    "    #\n",
    "    \n",
    "    # slicing the matrices\n",
    "    U = M[:,1:n]\n",
    "    b1 = M[:,n+1:end]\n",
    "    return (U,b1)\n",
    "end"
   ]
  },
  {
   "cell_type": "markdown",
   "metadata": {},
   "source": [
    "Q2.b You will use the triangular solver you wrote in the last homework to implement a linear solver. "
   ]
  },
  {
   "cell_type": "code",
   "execution_count": null,
   "metadata": {
    "collapsed": false
   },
   "outputs": [],
   "source": [
    "# write (or just copy-paste ) your triangular solver here\n"
   ]
  },
  {
   "cell_type": "markdown",
   "metadata": {},
   "source": [
    "In an analogous manner to Homework 4, you will use the Gaussian Elimination algorithm with partial pivoting and your triangular solve to obtain a more stable Linear solver."
   ]
  },
  {
   "cell_type": "code",
   "execution_count": null,
   "metadata": {
    "collapsed": false
   },
   "outputs": [],
   "source": [
    "function solveGaussPivoted(A,b)\n",
    "    # input:    A square matrix \n",
    "    #           b vector\n",
    "    # output:   x = A\\b\n",
    "    \n",
    "    # fill the details\n",
    "    \n",
    "end"
   ]
  },
  {
   "cell_type": "markdown",
   "metadata": {},
   "source": [
    "You will test your function by finding the solution to $Ax =b$ for a mildly ill-conditioned matrix. "
   ]
  },
  {
   "cell_type": "code",
   "execution_count": null,
   "metadata": {
    "collapsed": false
   },
   "outputs": [],
   "source": [
    "# size of the Matrix\n",
    "m = 100\n",
    "# creating the Matrix \n",
    "A = randn(m,m)\n",
    "println(\"The conditioning number of A is \" ,cond(A))\n",
    "# creating the rhs\n",
    "b = rand(size(A)[1],1)\n",
    "@time x = solveGaussPivoted(A,b)\n",
    "print(\"Residual of the solver is \", norm(A*x -b)/norm(b),\"\\n\")"
   ]
  },
  {
   "cell_type": "markdown",
   "metadata": {},
   "source": [
    "Q2.c You can use the Gaussian Elimination you wrote in Q1 (without pivoting) to solve a linear system "
   ]
  },
  {
   "cell_type": "code",
   "execution_count": null,
   "metadata": {
    "collapsed": false
   },
   "outputs": [],
   "source": [
    "function solveGauss(A,b)\n",
    "    # input:    A square matrix \n",
    "    #           b vector\n",
    "    # output:   x = A\\b\n",
    "    (U,b1) = gaussianElimination(A,b)\n",
    "    return backwardSubstitution(U,b1)\n",
    "end"
   ]
  },
  {
   "cell_type": "markdown",
   "metadata": {},
   "source": [
    "You will compare the pivoted versus the non pivoted solvers. By running the following script."
   ]
  },
  {
   "cell_type": "code",
   "execution_count": null,
   "metadata": {
    "collapsed": false
   },
   "outputs": [],
   "source": [
    "# size of the Matrix\n",
    "m = 100\n",
    "# creating the Matrix \n",
    "A = randn(m,m)\n",
    "# computing the conditioning number \n",
    "println(\"The conditioning number of A is \" ,cond(A))\n",
    "# creating the rhs\n",
    "b = rand(size(A)[1],1)\n",
    "@time xPiv = solveGaussPivoted(A,b)\n",
    "@time xNonPiv = solveGauss(A,b)\n",
    "print(\"Residual of the solution from the pivoted solver is \", norm(A*xPiv -b)/norm(b),\"\\n\")\n",
    "print(\"Residual of the solution from the non pivoted solver is \", norm(A*xNonPiv -b)/norm(b),\"\\n\")"
   ]
  },
  {
   "cell_type": "markdown",
   "metadata": {},
   "source": [
    "As you can see, each time you execute the script  the pivoted and non-pivoted algorithms give you back an answer with different residuals.\n",
    "Why do you see this behavior? \n",
    "How does the pivoting help the stability? "
   ]
  },
  {
   "cell_type": "markdown",
   "metadata": {},
   "source": [
    "Answer:"
   ]
  },
  {
   "cell_type": "code",
   "execution_count": null,
   "metadata": {
    "collapsed": true
   },
   "outputs": [],
   "source": []
  }
 ],
 "metadata": {
  "kernelspec": {
   "display_name": "Julia 0.4.0",
   "language": "julia",
   "name": "julia-0.4"
  },
  "language_info": {
   "file_extension": ".jl",
   "mimetype": "application/julia",
   "name": "julia",
   "version": "0.4.0"
  }
 },
 "nbformat": 4,
 "nbformat_minor": 0
}
